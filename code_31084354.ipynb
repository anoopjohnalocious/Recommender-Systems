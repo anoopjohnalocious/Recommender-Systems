{
  "nbformat": 4,
  "nbformat_minor": 0,
  "metadata": {
    "colab": {
      "name": "code_31084354.ipynb",
      "provenance": [],
      "collapsed_sections": []
    },
    "kernelspec": {
      "display_name": "Python 3",
      "name": "python3"
    },
    "language_info": {
      "name": "python"
    },
    "widgets": {
      "application/vnd.jupyter.widget-state+json": {
        "0b54d526bc054b2988d278519062b8f2": {
          "model_module": "@jupyter-widgets/controls",
          "model_name": "HBoxModel",
          "state": {
            "_view_name": "HBoxView",
            "_dom_classes": [],
            "_model_name": "HBoxModel",
            "_view_module": "@jupyter-widgets/controls",
            "_model_module_version": "1.5.0",
            "_view_count": null,
            "_view_module_version": "1.5.0",
            "box_style": "",
            "layout": "IPY_MODEL_6a0e9abc354749b89555c3ebdb968e01",
            "_model_module": "@jupyter-widgets/controls",
            "children": [
              "IPY_MODEL_72645759363243d7832e63e3c5be0716",
              "IPY_MODEL_583d6c12f06c4fc5856895d63a45c04a"
            ]
          }
        },
        "6a0e9abc354749b89555c3ebdb968e01": {
          "model_module": "@jupyter-widgets/base",
          "model_name": "LayoutModel",
          "state": {
            "_view_name": "LayoutView",
            "grid_template_rows": null,
            "right": null,
            "justify_content": null,
            "_view_module": "@jupyter-widgets/base",
            "overflow": null,
            "_model_module_version": "1.2.0",
            "_view_count": null,
            "flex_flow": null,
            "width": null,
            "min_width": null,
            "border": null,
            "align_items": null,
            "bottom": null,
            "_model_module": "@jupyter-widgets/base",
            "top": null,
            "grid_column": null,
            "overflow_y": null,
            "overflow_x": null,
            "grid_auto_flow": null,
            "grid_area": null,
            "grid_template_columns": null,
            "flex": null,
            "_model_name": "LayoutModel",
            "justify_items": null,
            "grid_row": null,
            "max_height": null,
            "align_content": null,
            "visibility": null,
            "align_self": null,
            "height": null,
            "min_height": null,
            "padding": null,
            "grid_auto_rows": null,
            "grid_gap": null,
            "max_width": null,
            "order": null,
            "_view_module_version": "1.2.0",
            "grid_template_areas": null,
            "object_position": null,
            "object_fit": null,
            "grid_auto_columns": null,
            "margin": null,
            "display": null,
            "left": null
          }
        },
        "72645759363243d7832e63e3c5be0716": {
          "model_module": "@jupyter-widgets/controls",
          "model_name": "FloatProgressModel",
          "state": {
            "_view_name": "ProgressView",
            "style": "IPY_MODEL_8ce59a245e894745ab7b64ef09862261",
            "_dom_classes": [],
            "description": "100%",
            "_model_name": "FloatProgressModel",
            "bar_style": "success",
            "max": 100,
            "_view_module": "@jupyter-widgets/controls",
            "_model_module_version": "1.5.0",
            "value": 100,
            "_view_count": null,
            "_view_module_version": "1.5.0",
            "orientation": "horizontal",
            "min": 0,
            "description_tooltip": null,
            "_model_module": "@jupyter-widgets/controls",
            "layout": "IPY_MODEL_cac254f54e754d38822ad28c7db390c8"
          }
        },
        "583d6c12f06c4fc5856895d63a45c04a": {
          "model_module": "@jupyter-widgets/controls",
          "model_name": "HTMLModel",
          "state": {
            "_view_name": "HTMLView",
            "style": "IPY_MODEL_209b5998cda14b919e6424e9a2408981",
            "_dom_classes": [],
            "description": "",
            "_model_name": "HTMLModel",
            "placeholder": "​",
            "_view_module": "@jupyter-widgets/controls",
            "_model_module_version": "1.5.0",
            "value": " 100/100 [01:29&lt;00:00,  1.11it/s]",
            "_view_count": null,
            "_view_module_version": "1.5.0",
            "description_tooltip": null,
            "_model_module": "@jupyter-widgets/controls",
            "layout": "IPY_MODEL_85a4da535b1a4218ad8dfcdcdbab30e1"
          }
        },
        "8ce59a245e894745ab7b64ef09862261": {
          "model_module": "@jupyter-widgets/controls",
          "model_name": "ProgressStyleModel",
          "state": {
            "_view_name": "StyleView",
            "_model_name": "ProgressStyleModel",
            "description_width": "initial",
            "_view_module": "@jupyter-widgets/base",
            "_model_module_version": "1.5.0",
            "_view_count": null,
            "_view_module_version": "1.2.0",
            "bar_color": null,
            "_model_module": "@jupyter-widgets/controls"
          }
        },
        "cac254f54e754d38822ad28c7db390c8": {
          "model_module": "@jupyter-widgets/base",
          "model_name": "LayoutModel",
          "state": {
            "_view_name": "LayoutView",
            "grid_template_rows": null,
            "right": null,
            "justify_content": null,
            "_view_module": "@jupyter-widgets/base",
            "overflow": null,
            "_model_module_version": "1.2.0",
            "_view_count": null,
            "flex_flow": null,
            "width": null,
            "min_width": null,
            "border": null,
            "align_items": null,
            "bottom": null,
            "_model_module": "@jupyter-widgets/base",
            "top": null,
            "grid_column": null,
            "overflow_y": null,
            "overflow_x": null,
            "grid_auto_flow": null,
            "grid_area": null,
            "grid_template_columns": null,
            "flex": null,
            "_model_name": "LayoutModel",
            "justify_items": null,
            "grid_row": null,
            "max_height": null,
            "align_content": null,
            "visibility": null,
            "align_self": null,
            "height": null,
            "min_height": null,
            "padding": null,
            "grid_auto_rows": null,
            "grid_gap": null,
            "max_width": null,
            "order": null,
            "_view_module_version": "1.2.0",
            "grid_template_areas": null,
            "object_position": null,
            "object_fit": null,
            "grid_auto_columns": null,
            "margin": null,
            "display": null,
            "left": null
          }
        },
        "209b5998cda14b919e6424e9a2408981": {
          "model_module": "@jupyter-widgets/controls",
          "model_name": "DescriptionStyleModel",
          "state": {
            "_view_name": "StyleView",
            "_model_name": "DescriptionStyleModel",
            "description_width": "",
            "_view_module": "@jupyter-widgets/base",
            "_model_module_version": "1.5.0",
            "_view_count": null,
            "_view_module_version": "1.2.0",
            "_model_module": "@jupyter-widgets/controls"
          }
        },
        "85a4da535b1a4218ad8dfcdcdbab30e1": {
          "model_module": "@jupyter-widgets/base",
          "model_name": "LayoutModel",
          "state": {
            "_view_name": "LayoutView",
            "grid_template_rows": null,
            "right": null,
            "justify_content": null,
            "_view_module": "@jupyter-widgets/base",
            "overflow": null,
            "_model_module_version": "1.2.0",
            "_view_count": null,
            "flex_flow": null,
            "width": null,
            "min_width": null,
            "border": null,
            "align_items": null,
            "bottom": null,
            "_model_module": "@jupyter-widgets/base",
            "top": null,
            "grid_column": null,
            "overflow_y": null,
            "overflow_x": null,
            "grid_auto_flow": null,
            "grid_area": null,
            "grid_template_columns": null,
            "flex": null,
            "_model_name": "LayoutModel",
            "justify_items": null,
            "grid_row": null,
            "max_height": null,
            "align_content": null,
            "visibility": null,
            "align_self": null,
            "height": null,
            "min_height": null,
            "padding": null,
            "grid_auto_rows": null,
            "grid_gap": null,
            "max_width": null,
            "order": null,
            "_view_module_version": "1.2.0",
            "grid_template_areas": null,
            "object_position": null,
            "object_fit": null,
            "grid_auto_columns": null,
            "margin": null,
            "display": null,
            "left": null
          }
        },
        "bc514968c1184463abaa43cf73f941bd": {
          "model_module": "@jupyter-widgets/controls",
          "model_name": "HBoxModel",
          "state": {
            "_view_name": "HBoxView",
            "_dom_classes": [],
            "_model_name": "HBoxModel",
            "_view_module": "@jupyter-widgets/controls",
            "_model_module_version": "1.5.0",
            "_view_count": null,
            "_view_module_version": "1.5.0",
            "box_style": "",
            "layout": "IPY_MODEL_65b9dff66afb43ad9ef9785dd98de844",
            "_model_module": "@jupyter-widgets/controls",
            "children": [
              "IPY_MODEL_b7845e76dac4476baaa962be70d5fbf3",
              "IPY_MODEL_2aad5865ad524bec907232e87b2fb8d1"
            ]
          }
        },
        "65b9dff66afb43ad9ef9785dd98de844": {
          "model_module": "@jupyter-widgets/base",
          "model_name": "LayoutModel",
          "state": {
            "_view_name": "LayoutView",
            "grid_template_rows": null,
            "right": null,
            "justify_content": null,
            "_view_module": "@jupyter-widgets/base",
            "overflow": null,
            "_model_module_version": "1.2.0",
            "_view_count": null,
            "flex_flow": null,
            "width": null,
            "min_width": null,
            "border": null,
            "align_items": null,
            "bottom": null,
            "_model_module": "@jupyter-widgets/base",
            "top": null,
            "grid_column": null,
            "overflow_y": null,
            "overflow_x": null,
            "grid_auto_flow": null,
            "grid_area": null,
            "grid_template_columns": null,
            "flex": null,
            "_model_name": "LayoutModel",
            "justify_items": null,
            "grid_row": null,
            "max_height": null,
            "align_content": null,
            "visibility": null,
            "align_self": null,
            "height": null,
            "min_height": null,
            "padding": null,
            "grid_auto_rows": null,
            "grid_gap": null,
            "max_width": null,
            "order": null,
            "_view_module_version": "1.2.0",
            "grid_template_areas": null,
            "object_position": null,
            "object_fit": null,
            "grid_auto_columns": null,
            "margin": null,
            "display": null,
            "left": null
          }
        },
        "b7845e76dac4476baaa962be70d5fbf3": {
          "model_module": "@jupyter-widgets/controls",
          "model_name": "FloatProgressModel",
          "state": {
            "_view_name": "ProgressView",
            "style": "IPY_MODEL_0960555870ab4b5196b53afc196891bc",
            "_dom_classes": [],
            "description": "100%",
            "_model_name": "FloatProgressModel",
            "bar_style": "success",
            "max": 105,
            "_view_module": "@jupyter-widgets/controls",
            "_model_module_version": "1.5.0",
            "value": 105,
            "_view_count": null,
            "_view_module_version": "1.5.0",
            "orientation": "horizontal",
            "min": 0,
            "description_tooltip": null,
            "_model_module": "@jupyter-widgets/controls",
            "layout": "IPY_MODEL_1cb9ab51bd59492f92a786355f9b6141"
          }
        },
        "2aad5865ad524bec907232e87b2fb8d1": {
          "model_module": "@jupyter-widgets/controls",
          "model_name": "HTMLModel",
          "state": {
            "_view_name": "HTMLView",
            "style": "IPY_MODEL_efd2b9e0158d4142bd519ddd039dcb30",
            "_dom_classes": [],
            "description": "",
            "_model_name": "HTMLModel",
            "placeholder": "​",
            "_view_module": "@jupyter-widgets/controls",
            "_model_module_version": "1.5.0",
            "value": " 105/105 [15:16&lt;00:00,  8.73s/it]",
            "_view_count": null,
            "_view_module_version": "1.5.0",
            "description_tooltip": null,
            "_model_module": "@jupyter-widgets/controls",
            "layout": "IPY_MODEL_ef144d002a164fa6a5f8ac8fd78886fe"
          }
        },
        "0960555870ab4b5196b53afc196891bc": {
          "model_module": "@jupyter-widgets/controls",
          "model_name": "ProgressStyleModel",
          "state": {
            "_view_name": "StyleView",
            "_model_name": "ProgressStyleModel",
            "description_width": "initial",
            "_view_module": "@jupyter-widgets/base",
            "_model_module_version": "1.5.0",
            "_view_count": null,
            "_view_module_version": "1.2.0",
            "bar_color": null,
            "_model_module": "@jupyter-widgets/controls"
          }
        },
        "1cb9ab51bd59492f92a786355f9b6141": {
          "model_module": "@jupyter-widgets/base",
          "model_name": "LayoutModel",
          "state": {
            "_view_name": "LayoutView",
            "grid_template_rows": null,
            "right": null,
            "justify_content": null,
            "_view_module": "@jupyter-widgets/base",
            "overflow": null,
            "_model_module_version": "1.2.0",
            "_view_count": null,
            "flex_flow": null,
            "width": null,
            "min_width": null,
            "border": null,
            "align_items": null,
            "bottom": null,
            "_model_module": "@jupyter-widgets/base",
            "top": null,
            "grid_column": null,
            "overflow_y": null,
            "overflow_x": null,
            "grid_auto_flow": null,
            "grid_area": null,
            "grid_template_columns": null,
            "flex": null,
            "_model_name": "LayoutModel",
            "justify_items": null,
            "grid_row": null,
            "max_height": null,
            "align_content": null,
            "visibility": null,
            "align_self": null,
            "height": null,
            "min_height": null,
            "padding": null,
            "grid_auto_rows": null,
            "grid_gap": null,
            "max_width": null,
            "order": null,
            "_view_module_version": "1.2.0",
            "grid_template_areas": null,
            "object_position": null,
            "object_fit": null,
            "grid_auto_columns": null,
            "margin": null,
            "display": null,
            "left": null
          }
        },
        "efd2b9e0158d4142bd519ddd039dcb30": {
          "model_module": "@jupyter-widgets/controls",
          "model_name": "DescriptionStyleModel",
          "state": {
            "_view_name": "StyleView",
            "_model_name": "DescriptionStyleModel",
            "description_width": "",
            "_view_module": "@jupyter-widgets/base",
            "_model_module_version": "1.5.0",
            "_view_count": null,
            "_view_module_version": "1.2.0",
            "_model_module": "@jupyter-widgets/controls"
          }
        },
        "ef144d002a164fa6a5f8ac8fd78886fe": {
          "model_module": "@jupyter-widgets/base",
          "model_name": "LayoutModel",
          "state": {
            "_view_name": "LayoutView",
            "grid_template_rows": null,
            "right": null,
            "justify_content": null,
            "_view_module": "@jupyter-widgets/base",
            "overflow": null,
            "_model_module_version": "1.2.0",
            "_view_count": null,
            "flex_flow": null,
            "width": null,
            "min_width": null,
            "border": null,
            "align_items": null,
            "bottom": null,
            "_model_module": "@jupyter-widgets/base",
            "top": null,
            "grid_column": null,
            "overflow_y": null,
            "overflow_x": null,
            "grid_auto_flow": null,
            "grid_area": null,
            "grid_template_columns": null,
            "flex": null,
            "_model_name": "LayoutModel",
            "justify_items": null,
            "grid_row": null,
            "max_height": null,
            "align_content": null,
            "visibility": null,
            "align_self": null,
            "height": null,
            "min_height": null,
            "padding": null,
            "grid_auto_rows": null,
            "grid_gap": null,
            "max_width": null,
            "order": null,
            "_view_module_version": "1.2.0",
            "grid_template_areas": null,
            "object_position": null,
            "object_fit": null,
            "grid_auto_columns": null,
            "margin": null,
            "display": null,
            "left": null
          }
        },
        "e732052b33334a5abde726d52bdd6b6d": {
          "model_module": "@jupyter-widgets/controls",
          "model_name": "HBoxModel",
          "state": {
            "_view_name": "HBoxView",
            "_dom_classes": [],
            "_model_name": "HBoxModel",
            "_view_module": "@jupyter-widgets/controls",
            "_model_module_version": "1.5.0",
            "_view_count": null,
            "_view_module_version": "1.5.0",
            "box_style": "",
            "layout": "IPY_MODEL_78815e92c7f44b86a114e76b872058a3",
            "_model_module": "@jupyter-widgets/controls",
            "children": [
              "IPY_MODEL_149c16b72afd49ee8f7119ae9d67e697",
              "IPY_MODEL_ad5d99bdfd9b4cb8b597e8492cf6e3f9"
            ]
          }
        },
        "78815e92c7f44b86a114e76b872058a3": {
          "model_module": "@jupyter-widgets/base",
          "model_name": "LayoutModel",
          "state": {
            "_view_name": "LayoutView",
            "grid_template_rows": null,
            "right": null,
            "justify_content": null,
            "_view_module": "@jupyter-widgets/base",
            "overflow": null,
            "_model_module_version": "1.2.0",
            "_view_count": null,
            "flex_flow": null,
            "width": null,
            "min_width": null,
            "border": null,
            "align_items": null,
            "bottom": null,
            "_model_module": "@jupyter-widgets/base",
            "top": null,
            "grid_column": null,
            "overflow_y": null,
            "overflow_x": null,
            "grid_auto_flow": null,
            "grid_area": null,
            "grid_template_columns": null,
            "flex": null,
            "_model_name": "LayoutModel",
            "justify_items": null,
            "grid_row": null,
            "max_height": null,
            "align_content": null,
            "visibility": null,
            "align_self": null,
            "height": null,
            "min_height": null,
            "padding": null,
            "grid_auto_rows": null,
            "grid_gap": null,
            "max_width": null,
            "order": null,
            "_view_module_version": "1.2.0",
            "grid_template_areas": null,
            "object_position": null,
            "object_fit": null,
            "grid_auto_columns": null,
            "margin": null,
            "display": null,
            "left": null
          }
        },
        "149c16b72afd49ee8f7119ae9d67e697": {
          "model_module": "@jupyter-widgets/controls",
          "model_name": "FloatProgressModel",
          "state": {
            "_view_name": "ProgressView",
            "style": "IPY_MODEL_a988f8200c9a4ec5a715608645f9e691",
            "_dom_classes": [],
            "description": "100%",
            "_model_name": "FloatProgressModel",
            "bar_style": "success",
            "max": 100,
            "_view_module": "@jupyter-widgets/controls",
            "_model_module_version": "1.5.0",
            "value": 100,
            "_view_count": null,
            "_view_module_version": "1.5.0",
            "orientation": "horizontal",
            "min": 0,
            "description_tooltip": null,
            "_model_module": "@jupyter-widgets/controls",
            "layout": "IPY_MODEL_3e489ea49b4e41218857c901dc04fab3"
          }
        },
        "ad5d99bdfd9b4cb8b597e8492cf6e3f9": {
          "model_module": "@jupyter-widgets/controls",
          "model_name": "HTMLModel",
          "state": {
            "_view_name": "HTMLView",
            "style": "IPY_MODEL_77882a263e594a82a2d757895ca5ec68",
            "_dom_classes": [],
            "description": "",
            "_model_name": "HTMLModel",
            "placeholder": "​",
            "_view_module": "@jupyter-widgets/controls",
            "_model_module_version": "1.5.0",
            "value": " 100/100 [01:27&lt;00:00,  1.15it/s]",
            "_view_count": null,
            "_view_module_version": "1.5.0",
            "description_tooltip": null,
            "_model_module": "@jupyter-widgets/controls",
            "layout": "IPY_MODEL_dd6334d461244ba89feb8191c6bd9080"
          }
        },
        "a988f8200c9a4ec5a715608645f9e691": {
          "model_module": "@jupyter-widgets/controls",
          "model_name": "ProgressStyleModel",
          "state": {
            "_view_name": "StyleView",
            "_model_name": "ProgressStyleModel",
            "description_width": "initial",
            "_view_module": "@jupyter-widgets/base",
            "_model_module_version": "1.5.0",
            "_view_count": null,
            "_view_module_version": "1.2.0",
            "bar_color": null,
            "_model_module": "@jupyter-widgets/controls"
          }
        },
        "3e489ea49b4e41218857c901dc04fab3": {
          "model_module": "@jupyter-widgets/base",
          "model_name": "LayoutModel",
          "state": {
            "_view_name": "LayoutView",
            "grid_template_rows": null,
            "right": null,
            "justify_content": null,
            "_view_module": "@jupyter-widgets/base",
            "overflow": null,
            "_model_module_version": "1.2.0",
            "_view_count": null,
            "flex_flow": null,
            "width": null,
            "min_width": null,
            "border": null,
            "align_items": null,
            "bottom": null,
            "_model_module": "@jupyter-widgets/base",
            "top": null,
            "grid_column": null,
            "overflow_y": null,
            "overflow_x": null,
            "grid_auto_flow": null,
            "grid_area": null,
            "grid_template_columns": null,
            "flex": null,
            "_model_name": "LayoutModel",
            "justify_items": null,
            "grid_row": null,
            "max_height": null,
            "align_content": null,
            "visibility": null,
            "align_self": null,
            "height": null,
            "min_height": null,
            "padding": null,
            "grid_auto_rows": null,
            "grid_gap": null,
            "max_width": null,
            "order": null,
            "_view_module_version": "1.2.0",
            "grid_template_areas": null,
            "object_position": null,
            "object_fit": null,
            "grid_auto_columns": null,
            "margin": null,
            "display": null,
            "left": null
          }
        },
        "77882a263e594a82a2d757895ca5ec68": {
          "model_module": "@jupyter-widgets/controls",
          "model_name": "DescriptionStyleModel",
          "state": {
            "_view_name": "StyleView",
            "_model_name": "DescriptionStyleModel",
            "description_width": "",
            "_view_module": "@jupyter-widgets/base",
            "_model_module_version": "1.5.0",
            "_view_count": null,
            "_view_module_version": "1.2.0",
            "_model_module": "@jupyter-widgets/controls"
          }
        },
        "dd6334d461244ba89feb8191c6bd9080": {
          "model_module": "@jupyter-widgets/base",
          "model_name": "LayoutModel",
          "state": {
            "_view_name": "LayoutView",
            "grid_template_rows": null,
            "right": null,
            "justify_content": null,
            "_view_module": "@jupyter-widgets/base",
            "overflow": null,
            "_model_module_version": "1.2.0",
            "_view_count": null,
            "flex_flow": null,
            "width": null,
            "min_width": null,
            "border": null,
            "align_items": null,
            "bottom": null,
            "_model_module": "@jupyter-widgets/base",
            "top": null,
            "grid_column": null,
            "overflow_y": null,
            "overflow_x": null,
            "grid_auto_flow": null,
            "grid_area": null,
            "grid_template_columns": null,
            "flex": null,
            "_model_name": "LayoutModel",
            "justify_items": null,
            "grid_row": null,
            "max_height": null,
            "align_content": null,
            "visibility": null,
            "align_self": null,
            "height": null,
            "min_height": null,
            "padding": null,
            "grid_auto_rows": null,
            "grid_gap": null,
            "max_width": null,
            "order": null,
            "_view_module_version": "1.2.0",
            "grid_template_areas": null,
            "object_position": null,
            "object_fit": null,
            "grid_auto_columns": null,
            "margin": null,
            "display": null,
            "left": null
          }
        },
        "aadbff75f37f4416b2da7b6f51bd1959": {
          "model_module": "@jupyter-widgets/controls",
          "model_name": "HBoxModel",
          "state": {
            "_view_name": "HBoxView",
            "_dom_classes": [],
            "_model_name": "HBoxModel",
            "_view_module": "@jupyter-widgets/controls",
            "_model_module_version": "1.5.0",
            "_view_count": null,
            "_view_module_version": "1.5.0",
            "box_style": "",
            "layout": "IPY_MODEL_48d66ebdc67748e884b0cb1caeebcc3c",
            "_model_module": "@jupyter-widgets/controls",
            "children": [
              "IPY_MODEL_6744d963e13f457e9e9067ac91c4f12b",
              "IPY_MODEL_8892e504a64a49e0a85351d29932ab48"
            ]
          }
        },
        "48d66ebdc67748e884b0cb1caeebcc3c": {
          "model_module": "@jupyter-widgets/base",
          "model_name": "LayoutModel",
          "state": {
            "_view_name": "LayoutView",
            "grid_template_rows": null,
            "right": null,
            "justify_content": null,
            "_view_module": "@jupyter-widgets/base",
            "overflow": null,
            "_model_module_version": "1.2.0",
            "_view_count": null,
            "flex_flow": null,
            "width": null,
            "min_width": null,
            "border": null,
            "align_items": null,
            "bottom": null,
            "_model_module": "@jupyter-widgets/base",
            "top": null,
            "grid_column": null,
            "overflow_y": null,
            "overflow_x": null,
            "grid_auto_flow": null,
            "grid_area": null,
            "grid_template_columns": null,
            "flex": null,
            "_model_name": "LayoutModel",
            "justify_items": null,
            "grid_row": null,
            "max_height": null,
            "align_content": null,
            "visibility": null,
            "align_self": null,
            "height": null,
            "min_height": null,
            "padding": null,
            "grid_auto_rows": null,
            "grid_gap": null,
            "max_width": null,
            "order": null,
            "_view_module_version": "1.2.0",
            "grid_template_areas": null,
            "object_position": null,
            "object_fit": null,
            "grid_auto_columns": null,
            "margin": null,
            "display": null,
            "left": null
          }
        },
        "6744d963e13f457e9e9067ac91c4f12b": {
          "model_module": "@jupyter-widgets/controls",
          "model_name": "FloatProgressModel",
          "state": {
            "_view_name": "ProgressView",
            "style": "IPY_MODEL_7f138847906e49d5a2c329389ae19311",
            "_dom_classes": [],
            "description": "100%",
            "_model_name": "FloatProgressModel",
            "bar_style": "success",
            "max": 105,
            "_view_module": "@jupyter-widgets/controls",
            "_model_module_version": "1.5.0",
            "value": 105,
            "_view_count": null,
            "_view_module_version": "1.5.0",
            "orientation": "horizontal",
            "min": 0,
            "description_tooltip": null,
            "_model_module": "@jupyter-widgets/controls",
            "layout": "IPY_MODEL_42f34b33994d4308b3331cc49ffdb56e"
          }
        },
        "8892e504a64a49e0a85351d29932ab48": {
          "model_module": "@jupyter-widgets/controls",
          "model_name": "HTMLModel",
          "state": {
            "_view_name": "HTMLView",
            "style": "IPY_MODEL_5b2666e2d6da4b9ca3aa19a4317c4f45",
            "_dom_classes": [],
            "description": "",
            "_model_name": "HTMLModel",
            "placeholder": "​",
            "_view_module": "@jupyter-widgets/controls",
            "_model_module_version": "1.5.0",
            "value": " 105/105 [01:07&lt;00:00,  1.56it/s]",
            "_view_count": null,
            "_view_module_version": "1.5.0",
            "description_tooltip": null,
            "_model_module": "@jupyter-widgets/controls",
            "layout": "IPY_MODEL_33da213b383844378ab9e138b8e0506a"
          }
        },
        "7f138847906e49d5a2c329389ae19311": {
          "model_module": "@jupyter-widgets/controls",
          "model_name": "ProgressStyleModel",
          "state": {
            "_view_name": "StyleView",
            "_model_name": "ProgressStyleModel",
            "description_width": "initial",
            "_view_module": "@jupyter-widgets/base",
            "_model_module_version": "1.5.0",
            "_view_count": null,
            "_view_module_version": "1.2.0",
            "bar_color": null,
            "_model_module": "@jupyter-widgets/controls"
          }
        },
        "42f34b33994d4308b3331cc49ffdb56e": {
          "model_module": "@jupyter-widgets/base",
          "model_name": "LayoutModel",
          "state": {
            "_view_name": "LayoutView",
            "grid_template_rows": null,
            "right": null,
            "justify_content": null,
            "_view_module": "@jupyter-widgets/base",
            "overflow": null,
            "_model_module_version": "1.2.0",
            "_view_count": null,
            "flex_flow": null,
            "width": null,
            "min_width": null,
            "border": null,
            "align_items": null,
            "bottom": null,
            "_model_module": "@jupyter-widgets/base",
            "top": null,
            "grid_column": null,
            "overflow_y": null,
            "overflow_x": null,
            "grid_auto_flow": null,
            "grid_area": null,
            "grid_template_columns": null,
            "flex": null,
            "_model_name": "LayoutModel",
            "justify_items": null,
            "grid_row": null,
            "max_height": null,
            "align_content": null,
            "visibility": null,
            "align_self": null,
            "height": null,
            "min_height": null,
            "padding": null,
            "grid_auto_rows": null,
            "grid_gap": null,
            "max_width": null,
            "order": null,
            "_view_module_version": "1.2.0",
            "grid_template_areas": null,
            "object_position": null,
            "object_fit": null,
            "grid_auto_columns": null,
            "margin": null,
            "display": null,
            "left": null
          }
        },
        "5b2666e2d6da4b9ca3aa19a4317c4f45": {
          "model_module": "@jupyter-widgets/controls",
          "model_name": "DescriptionStyleModel",
          "state": {
            "_view_name": "StyleView",
            "_model_name": "DescriptionStyleModel",
            "description_width": "",
            "_view_module": "@jupyter-widgets/base",
            "_model_module_version": "1.5.0",
            "_view_count": null,
            "_view_module_version": "1.2.0",
            "_model_module": "@jupyter-widgets/controls"
          }
        },
        "33da213b383844378ab9e138b8e0506a": {
          "model_module": "@jupyter-widgets/base",
          "model_name": "LayoutModel",
          "state": {
            "_view_name": "LayoutView",
            "grid_template_rows": null,
            "right": null,
            "justify_content": null,
            "_view_module": "@jupyter-widgets/base",
            "overflow": null,
            "_model_module_version": "1.2.0",
            "_view_count": null,
            "flex_flow": null,
            "width": null,
            "min_width": null,
            "border": null,
            "align_items": null,
            "bottom": null,
            "_model_module": "@jupyter-widgets/base",
            "top": null,
            "grid_column": null,
            "overflow_y": null,
            "overflow_x": null,
            "grid_auto_flow": null,
            "grid_area": null,
            "grid_template_columns": null,
            "flex": null,
            "_model_name": "LayoutModel",
            "justify_items": null,
            "grid_row": null,
            "max_height": null,
            "align_content": null,
            "visibility": null,
            "align_self": null,
            "height": null,
            "min_height": null,
            "padding": null,
            "grid_auto_rows": null,
            "grid_gap": null,
            "max_width": null,
            "order": null,
            "_view_module_version": "1.2.0",
            "grid_template_areas": null,
            "object_position": null,
            "object_fit": null,
            "grid_auto_columns": null,
            "margin": null,
            "display": null,
            "left": null
          }
        },
        "d3fa9baaffe84d3ab5f3c4b1bec4f0f4": {
          "model_module": "@jupyter-widgets/controls",
          "model_name": "HBoxModel",
          "state": {
            "_view_name": "HBoxView",
            "_dom_classes": [],
            "_model_name": "HBoxModel",
            "_view_module": "@jupyter-widgets/controls",
            "_model_module_version": "1.5.0",
            "_view_count": null,
            "_view_module_version": "1.5.0",
            "box_style": "",
            "layout": "IPY_MODEL_3f930acd0a0240af90a9350b7e3b13df",
            "_model_module": "@jupyter-widgets/controls",
            "children": [
              "IPY_MODEL_72d6c1bc8d7e45a0bde222f4dbfe1e06",
              "IPY_MODEL_45ce7b1dec834beaa294ca6655080a56"
            ]
          }
        },
        "3f930acd0a0240af90a9350b7e3b13df": {
          "model_module": "@jupyter-widgets/base",
          "model_name": "LayoutModel",
          "state": {
            "_view_name": "LayoutView",
            "grid_template_rows": null,
            "right": null,
            "justify_content": null,
            "_view_module": "@jupyter-widgets/base",
            "overflow": null,
            "_model_module_version": "1.2.0",
            "_view_count": null,
            "flex_flow": null,
            "width": null,
            "min_width": null,
            "border": null,
            "align_items": null,
            "bottom": null,
            "_model_module": "@jupyter-widgets/base",
            "top": null,
            "grid_column": null,
            "overflow_y": null,
            "overflow_x": null,
            "grid_auto_flow": null,
            "grid_area": null,
            "grid_template_columns": null,
            "flex": null,
            "_model_name": "LayoutModel",
            "justify_items": null,
            "grid_row": null,
            "max_height": null,
            "align_content": null,
            "visibility": null,
            "align_self": null,
            "height": null,
            "min_height": null,
            "padding": null,
            "grid_auto_rows": null,
            "grid_gap": null,
            "max_width": null,
            "order": null,
            "_view_module_version": "1.2.0",
            "grid_template_areas": null,
            "object_position": null,
            "object_fit": null,
            "grid_auto_columns": null,
            "margin": null,
            "display": null,
            "left": null
          }
        },
        "72d6c1bc8d7e45a0bde222f4dbfe1e06": {
          "model_module": "@jupyter-widgets/controls",
          "model_name": "FloatProgressModel",
          "state": {
            "_view_name": "ProgressView",
            "style": "IPY_MODEL_832ac513d2134ad0a79f201e576c027d",
            "_dom_classes": [],
            "description": "100%",
            "_model_name": "FloatProgressModel",
            "bar_style": "success",
            "max": 100,
            "_view_module": "@jupyter-widgets/controls",
            "_model_module_version": "1.5.0",
            "value": 100,
            "_view_count": null,
            "_view_module_version": "1.5.0",
            "orientation": "horizontal",
            "min": 0,
            "description_tooltip": null,
            "_model_module": "@jupyter-widgets/controls",
            "layout": "IPY_MODEL_a9cbbe9e36ac4ca6b473cd64f2495b25"
          }
        },
        "45ce7b1dec834beaa294ca6655080a56": {
          "model_module": "@jupyter-widgets/controls",
          "model_name": "HTMLModel",
          "state": {
            "_view_name": "HTMLView",
            "style": "IPY_MODEL_270ab538be2c45a583b08b8bc724b74a",
            "_dom_classes": [],
            "description": "",
            "_model_name": "HTMLModel",
            "placeholder": "​",
            "_view_module": "@jupyter-widgets/controls",
            "_model_module_version": "1.5.0",
            "value": " 100/100 [00:46&lt;00:00,  2.13it/s]",
            "_view_count": null,
            "_view_module_version": "1.5.0",
            "description_tooltip": null,
            "_model_module": "@jupyter-widgets/controls",
            "layout": "IPY_MODEL_3320803dd8fc4291a17122bc085ce89c"
          }
        },
        "832ac513d2134ad0a79f201e576c027d": {
          "model_module": "@jupyter-widgets/controls",
          "model_name": "ProgressStyleModel",
          "state": {
            "_view_name": "StyleView",
            "_model_name": "ProgressStyleModel",
            "description_width": "initial",
            "_view_module": "@jupyter-widgets/base",
            "_model_module_version": "1.5.0",
            "_view_count": null,
            "_view_module_version": "1.2.0",
            "bar_color": null,
            "_model_module": "@jupyter-widgets/controls"
          }
        },
        "a9cbbe9e36ac4ca6b473cd64f2495b25": {
          "model_module": "@jupyter-widgets/base",
          "model_name": "LayoutModel",
          "state": {
            "_view_name": "LayoutView",
            "grid_template_rows": null,
            "right": null,
            "justify_content": null,
            "_view_module": "@jupyter-widgets/base",
            "overflow": null,
            "_model_module_version": "1.2.0",
            "_view_count": null,
            "flex_flow": null,
            "width": null,
            "min_width": null,
            "border": null,
            "align_items": null,
            "bottom": null,
            "_model_module": "@jupyter-widgets/base",
            "top": null,
            "grid_column": null,
            "overflow_y": null,
            "overflow_x": null,
            "grid_auto_flow": null,
            "grid_area": null,
            "grid_template_columns": null,
            "flex": null,
            "_model_name": "LayoutModel",
            "justify_items": null,
            "grid_row": null,
            "max_height": null,
            "align_content": null,
            "visibility": null,
            "align_self": null,
            "height": null,
            "min_height": null,
            "padding": null,
            "grid_auto_rows": null,
            "grid_gap": null,
            "max_width": null,
            "order": null,
            "_view_module_version": "1.2.0",
            "grid_template_areas": null,
            "object_position": null,
            "object_fit": null,
            "grid_auto_columns": null,
            "margin": null,
            "display": null,
            "left": null
          }
        },
        "270ab538be2c45a583b08b8bc724b74a": {
          "model_module": "@jupyter-widgets/controls",
          "model_name": "DescriptionStyleModel",
          "state": {
            "_view_name": "StyleView",
            "_model_name": "DescriptionStyleModel",
            "description_width": "",
            "_view_module": "@jupyter-widgets/base",
            "_model_module_version": "1.5.0",
            "_view_count": null,
            "_view_module_version": "1.2.0",
            "_model_module": "@jupyter-widgets/controls"
          }
        },
        "3320803dd8fc4291a17122bc085ce89c": {
          "model_module": "@jupyter-widgets/base",
          "model_name": "LayoutModel",
          "state": {
            "_view_name": "LayoutView",
            "grid_template_rows": null,
            "right": null,
            "justify_content": null,
            "_view_module": "@jupyter-widgets/base",
            "overflow": null,
            "_model_module_version": "1.2.0",
            "_view_count": null,
            "flex_flow": null,
            "width": null,
            "min_width": null,
            "border": null,
            "align_items": null,
            "bottom": null,
            "_model_module": "@jupyter-widgets/base",
            "top": null,
            "grid_column": null,
            "overflow_y": null,
            "overflow_x": null,
            "grid_auto_flow": null,
            "grid_area": null,
            "grid_template_columns": null,
            "flex": null,
            "_model_name": "LayoutModel",
            "justify_items": null,
            "grid_row": null,
            "max_height": null,
            "align_content": null,
            "visibility": null,
            "align_self": null,
            "height": null,
            "min_height": null,
            "padding": null,
            "grid_auto_rows": null,
            "grid_gap": null,
            "max_width": null,
            "order": null,
            "_view_module_version": "1.2.0",
            "grid_template_areas": null,
            "object_position": null,
            "object_fit": null,
            "grid_auto_columns": null,
            "margin": null,
            "display": null,
            "left": null
          }
        },
        "922cf7cc0cd247a39469561ebb2b1c4a": {
          "model_module": "@jupyter-widgets/controls",
          "model_name": "HBoxModel",
          "state": {
            "_view_name": "HBoxView",
            "_dom_classes": [],
            "_model_name": "HBoxModel",
            "_view_module": "@jupyter-widgets/controls",
            "_model_module_version": "1.5.0",
            "_view_count": null,
            "_view_module_version": "1.5.0",
            "box_style": "",
            "layout": "IPY_MODEL_50344a0784384268af0659f0b004e4fd",
            "_model_module": "@jupyter-widgets/controls",
            "children": [
              "IPY_MODEL_4ee7e6f72719426592e4443d55f96663",
              "IPY_MODEL_0c94922e78c947dc88ddee25770cb55c"
            ]
          }
        },
        "50344a0784384268af0659f0b004e4fd": {
          "model_module": "@jupyter-widgets/base",
          "model_name": "LayoutModel",
          "state": {
            "_view_name": "LayoutView",
            "grid_template_rows": null,
            "right": null,
            "justify_content": null,
            "_view_module": "@jupyter-widgets/base",
            "overflow": null,
            "_model_module_version": "1.2.0",
            "_view_count": null,
            "flex_flow": null,
            "width": null,
            "min_width": null,
            "border": null,
            "align_items": null,
            "bottom": null,
            "_model_module": "@jupyter-widgets/base",
            "top": null,
            "grid_column": null,
            "overflow_y": null,
            "overflow_x": null,
            "grid_auto_flow": null,
            "grid_area": null,
            "grid_template_columns": null,
            "flex": null,
            "_model_name": "LayoutModel",
            "justify_items": null,
            "grid_row": null,
            "max_height": null,
            "align_content": null,
            "visibility": null,
            "align_self": null,
            "height": null,
            "min_height": null,
            "padding": null,
            "grid_auto_rows": null,
            "grid_gap": null,
            "max_width": null,
            "order": null,
            "_view_module_version": "1.2.0",
            "grid_template_areas": null,
            "object_position": null,
            "object_fit": null,
            "grid_auto_columns": null,
            "margin": null,
            "display": null,
            "left": null
          }
        },
        "4ee7e6f72719426592e4443d55f96663": {
          "model_module": "@jupyter-widgets/controls",
          "model_name": "FloatProgressModel",
          "state": {
            "_view_name": "ProgressView",
            "style": "IPY_MODEL_8d89af78a5d348feb9ef1e57967f3f49",
            "_dom_classes": [],
            "description": "100%",
            "_model_name": "FloatProgressModel",
            "bar_style": "success",
            "max": 105,
            "_view_module": "@jupyter-widgets/controls",
            "_model_module_version": "1.5.0",
            "value": 105,
            "_view_count": null,
            "_view_module_version": "1.5.0",
            "orientation": "horizontal",
            "min": 0,
            "description_tooltip": null,
            "_model_module": "@jupyter-widgets/controls",
            "layout": "IPY_MODEL_0bb8fde58d6746e4a9b4bb93e2911979"
          }
        },
        "0c94922e78c947dc88ddee25770cb55c": {
          "model_module": "@jupyter-widgets/controls",
          "model_name": "HTMLModel",
          "state": {
            "_view_name": "HTMLView",
            "style": "IPY_MODEL_9da6c6bb5f674c28be7a6df89c059af9",
            "_dom_classes": [],
            "description": "",
            "_model_name": "HTMLModel",
            "placeholder": "​",
            "_view_module": "@jupyter-widgets/controls",
            "_model_module_version": "1.5.0",
            "value": " 105/105 [12:37&lt;00:00,  7.21s/it]",
            "_view_count": null,
            "_view_module_version": "1.5.0",
            "description_tooltip": null,
            "_model_module": "@jupyter-widgets/controls",
            "layout": "IPY_MODEL_db8df3a4270e452e85a69805bc35f910"
          }
        },
        "8d89af78a5d348feb9ef1e57967f3f49": {
          "model_module": "@jupyter-widgets/controls",
          "model_name": "ProgressStyleModel",
          "state": {
            "_view_name": "StyleView",
            "_model_name": "ProgressStyleModel",
            "description_width": "initial",
            "_view_module": "@jupyter-widgets/base",
            "_model_module_version": "1.5.0",
            "_view_count": null,
            "_view_module_version": "1.2.0",
            "bar_color": null,
            "_model_module": "@jupyter-widgets/controls"
          }
        },
        "0bb8fde58d6746e4a9b4bb93e2911979": {
          "model_module": "@jupyter-widgets/base",
          "model_name": "LayoutModel",
          "state": {
            "_view_name": "LayoutView",
            "grid_template_rows": null,
            "right": null,
            "justify_content": null,
            "_view_module": "@jupyter-widgets/base",
            "overflow": null,
            "_model_module_version": "1.2.0",
            "_view_count": null,
            "flex_flow": null,
            "width": null,
            "min_width": null,
            "border": null,
            "align_items": null,
            "bottom": null,
            "_model_module": "@jupyter-widgets/base",
            "top": null,
            "grid_column": null,
            "overflow_y": null,
            "overflow_x": null,
            "grid_auto_flow": null,
            "grid_area": null,
            "grid_template_columns": null,
            "flex": null,
            "_model_name": "LayoutModel",
            "justify_items": null,
            "grid_row": null,
            "max_height": null,
            "align_content": null,
            "visibility": null,
            "align_self": null,
            "height": null,
            "min_height": null,
            "padding": null,
            "grid_auto_rows": null,
            "grid_gap": null,
            "max_width": null,
            "order": null,
            "_view_module_version": "1.2.0",
            "grid_template_areas": null,
            "object_position": null,
            "object_fit": null,
            "grid_auto_columns": null,
            "margin": null,
            "display": null,
            "left": null
          }
        },
        "9da6c6bb5f674c28be7a6df89c059af9": {
          "model_module": "@jupyter-widgets/controls",
          "model_name": "DescriptionStyleModel",
          "state": {
            "_view_name": "StyleView",
            "_model_name": "DescriptionStyleModel",
            "description_width": "",
            "_view_module": "@jupyter-widgets/base",
            "_model_module_version": "1.5.0",
            "_view_count": null,
            "_view_module_version": "1.2.0",
            "_model_module": "@jupyter-widgets/controls"
          }
        },
        "db8df3a4270e452e85a69805bc35f910": {
          "model_module": "@jupyter-widgets/base",
          "model_name": "LayoutModel",
          "state": {
            "_view_name": "LayoutView",
            "grid_template_rows": null,
            "right": null,
            "justify_content": null,
            "_view_module": "@jupyter-widgets/base",
            "overflow": null,
            "_model_module_version": "1.2.0",
            "_view_count": null,
            "flex_flow": null,
            "width": null,
            "min_width": null,
            "border": null,
            "align_items": null,
            "bottom": null,
            "_model_module": "@jupyter-widgets/base",
            "top": null,
            "grid_column": null,
            "overflow_y": null,
            "overflow_x": null,
            "grid_auto_flow": null,
            "grid_area": null,
            "grid_template_columns": null,
            "flex": null,
            "_model_name": "LayoutModel",
            "justify_items": null,
            "grid_row": null,
            "max_height": null,
            "align_content": null,
            "visibility": null,
            "align_self": null,
            "height": null,
            "min_height": null,
            "padding": null,
            "grid_auto_rows": null,
            "grid_gap": null,
            "max_width": null,
            "order": null,
            "_view_module_version": "1.2.0",
            "grid_template_areas": null,
            "object_position": null,
            "object_fit": null,
            "grid_auto_columns": null,
            "margin": null,
            "display": null,
            "left": null
          }
        },
        "5307fa6a7ebb49a396ea71e53d816cf6": {
          "model_module": "@jupyter-widgets/controls",
          "model_name": "HBoxModel",
          "state": {
            "_view_name": "HBoxView",
            "_dom_classes": [],
            "_model_name": "HBoxModel",
            "_view_module": "@jupyter-widgets/controls",
            "_model_module_version": "1.5.0",
            "_view_count": null,
            "_view_module_version": "1.5.0",
            "box_style": "",
            "layout": "IPY_MODEL_623947d1d67642f4a97a86c28704547f",
            "_model_module": "@jupyter-widgets/controls",
            "children": [
              "IPY_MODEL_cd3e5b6e11784cdf8f813a073cc037a1",
              "IPY_MODEL_47961681d51642be943d236ec28e91c2"
            ]
          }
        },
        "623947d1d67642f4a97a86c28704547f": {
          "model_module": "@jupyter-widgets/base",
          "model_name": "LayoutModel",
          "state": {
            "_view_name": "LayoutView",
            "grid_template_rows": null,
            "right": null,
            "justify_content": null,
            "_view_module": "@jupyter-widgets/base",
            "overflow": null,
            "_model_module_version": "1.2.0",
            "_view_count": null,
            "flex_flow": null,
            "width": null,
            "min_width": null,
            "border": null,
            "align_items": null,
            "bottom": null,
            "_model_module": "@jupyter-widgets/base",
            "top": null,
            "grid_column": null,
            "overflow_y": null,
            "overflow_x": null,
            "grid_auto_flow": null,
            "grid_area": null,
            "grid_template_columns": null,
            "flex": null,
            "_model_name": "LayoutModel",
            "justify_items": null,
            "grid_row": null,
            "max_height": null,
            "align_content": null,
            "visibility": null,
            "align_self": null,
            "height": null,
            "min_height": null,
            "padding": null,
            "grid_auto_rows": null,
            "grid_gap": null,
            "max_width": null,
            "order": null,
            "_view_module_version": "1.2.0",
            "grid_template_areas": null,
            "object_position": null,
            "object_fit": null,
            "grid_auto_columns": null,
            "margin": null,
            "display": null,
            "left": null
          }
        },
        "cd3e5b6e11784cdf8f813a073cc037a1": {
          "model_module": "@jupyter-widgets/controls",
          "model_name": "FloatProgressModel",
          "state": {
            "_view_name": "ProgressView",
            "style": "IPY_MODEL_35f537e8aafc43978c02bce8e71df016",
            "_dom_classes": [],
            "description": "100%",
            "_model_name": "FloatProgressModel",
            "bar_style": "success",
            "max": 100,
            "_view_module": "@jupyter-widgets/controls",
            "_model_module_version": "1.5.0",
            "value": 100,
            "_view_count": null,
            "_view_module_version": "1.5.0",
            "orientation": "horizontal",
            "min": 0,
            "description_tooltip": null,
            "_model_module": "@jupyter-widgets/controls",
            "layout": "IPY_MODEL_02a17bc49a4540c38cf1c23f0ad0768e"
          }
        },
        "47961681d51642be943d236ec28e91c2": {
          "model_module": "@jupyter-widgets/controls",
          "model_name": "HTMLModel",
          "state": {
            "_view_name": "HTMLView",
            "style": "IPY_MODEL_17827897c0f548c9a361e0b35072355d",
            "_dom_classes": [],
            "description": "",
            "_model_name": "HTMLModel",
            "placeholder": "​",
            "_view_module": "@jupyter-widgets/controls",
            "_model_module_version": "1.5.0",
            "value": " 100/100 [02:21&lt;00:00,  1.41s/it]",
            "_view_count": null,
            "_view_module_version": "1.5.0",
            "description_tooltip": null,
            "_model_module": "@jupyter-widgets/controls",
            "layout": "IPY_MODEL_d3f25407ec954e7b85352f518f8cfa72"
          }
        },
        "35f537e8aafc43978c02bce8e71df016": {
          "model_module": "@jupyter-widgets/controls",
          "model_name": "ProgressStyleModel",
          "state": {
            "_view_name": "StyleView",
            "_model_name": "ProgressStyleModel",
            "description_width": "initial",
            "_view_module": "@jupyter-widgets/base",
            "_model_module_version": "1.5.0",
            "_view_count": null,
            "_view_module_version": "1.2.0",
            "bar_color": null,
            "_model_module": "@jupyter-widgets/controls"
          }
        },
        "02a17bc49a4540c38cf1c23f0ad0768e": {
          "model_module": "@jupyter-widgets/base",
          "model_name": "LayoutModel",
          "state": {
            "_view_name": "LayoutView",
            "grid_template_rows": null,
            "right": null,
            "justify_content": null,
            "_view_module": "@jupyter-widgets/base",
            "overflow": null,
            "_model_module_version": "1.2.0",
            "_view_count": null,
            "flex_flow": null,
            "width": null,
            "min_width": null,
            "border": null,
            "align_items": null,
            "bottom": null,
            "_model_module": "@jupyter-widgets/base",
            "top": null,
            "grid_column": null,
            "overflow_y": null,
            "overflow_x": null,
            "grid_auto_flow": null,
            "grid_area": null,
            "grid_template_columns": null,
            "flex": null,
            "_model_name": "LayoutModel",
            "justify_items": null,
            "grid_row": null,
            "max_height": null,
            "align_content": null,
            "visibility": null,
            "align_self": null,
            "height": null,
            "min_height": null,
            "padding": null,
            "grid_auto_rows": null,
            "grid_gap": null,
            "max_width": null,
            "order": null,
            "_view_module_version": "1.2.0",
            "grid_template_areas": null,
            "object_position": null,
            "object_fit": null,
            "grid_auto_columns": null,
            "margin": null,
            "display": null,
            "left": null
          }
        },
        "17827897c0f548c9a361e0b35072355d": {
          "model_module": "@jupyter-widgets/controls",
          "model_name": "DescriptionStyleModel",
          "state": {
            "_view_name": "StyleView",
            "_model_name": "DescriptionStyleModel",
            "description_width": "",
            "_view_module": "@jupyter-widgets/base",
            "_model_module_version": "1.5.0",
            "_view_count": null,
            "_view_module_version": "1.2.0",
            "_model_module": "@jupyter-widgets/controls"
          }
        },
        "d3f25407ec954e7b85352f518f8cfa72": {
          "model_module": "@jupyter-widgets/base",
          "model_name": "LayoutModel",
          "state": {
            "_view_name": "LayoutView",
            "grid_template_rows": null,
            "right": null,
            "justify_content": null,
            "_view_module": "@jupyter-widgets/base",
            "overflow": null,
            "_model_module_version": "1.2.0",
            "_view_count": null,
            "flex_flow": null,
            "width": null,
            "min_width": null,
            "border": null,
            "align_items": null,
            "bottom": null,
            "_model_module": "@jupyter-widgets/base",
            "top": null,
            "grid_column": null,
            "overflow_y": null,
            "overflow_x": null,
            "grid_auto_flow": null,
            "grid_area": null,
            "grid_template_columns": null,
            "flex": null,
            "_model_name": "LayoutModel",
            "justify_items": null,
            "grid_row": null,
            "max_height": null,
            "align_content": null,
            "visibility": null,
            "align_self": null,
            "height": null,
            "min_height": null,
            "padding": null,
            "grid_auto_rows": null,
            "grid_gap": null,
            "max_width": null,
            "order": null,
            "_view_module_version": "1.2.0",
            "grid_template_areas": null,
            "object_position": null,
            "object_fit": null,
            "grid_auto_columns": null,
            "margin": null,
            "display": null,
            "left": null
          }
        },
        "5647be181fef48229a3977524709278a": {
          "model_module": "@jupyter-widgets/controls",
          "model_name": "HBoxModel",
          "state": {
            "_view_name": "HBoxView",
            "_dom_classes": [],
            "_model_name": "HBoxModel",
            "_view_module": "@jupyter-widgets/controls",
            "_model_module_version": "1.5.0",
            "_view_count": null,
            "_view_module_version": "1.5.0",
            "box_style": "",
            "layout": "IPY_MODEL_daa5cdad9a094959bed2acd9daafb96a",
            "_model_module": "@jupyter-widgets/controls",
            "children": [
              "IPY_MODEL_b0f4175fedb24aa99f2c1dad95a36700",
              "IPY_MODEL_63c68412e04b46b18b345b7b1a19babc"
            ]
          }
        },
        "daa5cdad9a094959bed2acd9daafb96a": {
          "model_module": "@jupyter-widgets/base",
          "model_name": "LayoutModel",
          "state": {
            "_view_name": "LayoutView",
            "grid_template_rows": null,
            "right": null,
            "justify_content": null,
            "_view_module": "@jupyter-widgets/base",
            "overflow": null,
            "_model_module_version": "1.2.0",
            "_view_count": null,
            "flex_flow": null,
            "width": null,
            "min_width": null,
            "border": null,
            "align_items": null,
            "bottom": null,
            "_model_module": "@jupyter-widgets/base",
            "top": null,
            "grid_column": null,
            "overflow_y": null,
            "overflow_x": null,
            "grid_auto_flow": null,
            "grid_area": null,
            "grid_template_columns": null,
            "flex": null,
            "_model_name": "LayoutModel",
            "justify_items": null,
            "grid_row": null,
            "max_height": null,
            "align_content": null,
            "visibility": null,
            "align_self": null,
            "height": null,
            "min_height": null,
            "padding": null,
            "grid_auto_rows": null,
            "grid_gap": null,
            "max_width": null,
            "order": null,
            "_view_module_version": "1.2.0",
            "grid_template_areas": null,
            "object_position": null,
            "object_fit": null,
            "grid_auto_columns": null,
            "margin": null,
            "display": null,
            "left": null
          }
        },
        "b0f4175fedb24aa99f2c1dad95a36700": {
          "model_module": "@jupyter-widgets/controls",
          "model_name": "FloatProgressModel",
          "state": {
            "_view_name": "ProgressView",
            "style": "IPY_MODEL_9f67e3b30f6a4b5ab5731043c97794fd",
            "_dom_classes": [],
            "description": "100%",
            "_model_name": "FloatProgressModel",
            "bar_style": "success",
            "max": 105,
            "_view_module": "@jupyter-widgets/controls",
            "_model_module_version": "1.5.0",
            "value": 105,
            "_view_count": null,
            "_view_module_version": "1.5.0",
            "orientation": "horizontal",
            "min": 0,
            "description_tooltip": null,
            "_model_module": "@jupyter-widgets/controls",
            "layout": "IPY_MODEL_f8508d2a7c4d4bb896dca894cab4656a"
          }
        },
        "63c68412e04b46b18b345b7b1a19babc": {
          "model_module": "@jupyter-widgets/controls",
          "model_name": "HTMLModel",
          "state": {
            "_view_name": "HTMLView",
            "style": "IPY_MODEL_3d041480fe4b4b32b34fdb86ea6f7217",
            "_dom_classes": [],
            "description": "",
            "_model_name": "HTMLModel",
            "placeholder": "​",
            "_view_module": "@jupyter-widgets/controls",
            "_model_module_version": "1.5.0",
            "value": " 105/105 [01:10&lt;00:00,  1.50it/s]",
            "_view_count": null,
            "_view_module_version": "1.5.0",
            "description_tooltip": null,
            "_model_module": "@jupyter-widgets/controls",
            "layout": "IPY_MODEL_39c228cf929c469aa7ec28a4cb3a3b08"
          }
        },
        "9f67e3b30f6a4b5ab5731043c97794fd": {
          "model_module": "@jupyter-widgets/controls",
          "model_name": "ProgressStyleModel",
          "state": {
            "_view_name": "StyleView",
            "_model_name": "ProgressStyleModel",
            "description_width": "initial",
            "_view_module": "@jupyter-widgets/base",
            "_model_module_version": "1.5.0",
            "_view_count": null,
            "_view_module_version": "1.2.0",
            "bar_color": null,
            "_model_module": "@jupyter-widgets/controls"
          }
        },
        "f8508d2a7c4d4bb896dca894cab4656a": {
          "model_module": "@jupyter-widgets/base",
          "model_name": "LayoutModel",
          "state": {
            "_view_name": "LayoutView",
            "grid_template_rows": null,
            "right": null,
            "justify_content": null,
            "_view_module": "@jupyter-widgets/base",
            "overflow": null,
            "_model_module_version": "1.2.0",
            "_view_count": null,
            "flex_flow": null,
            "width": null,
            "min_width": null,
            "border": null,
            "align_items": null,
            "bottom": null,
            "_model_module": "@jupyter-widgets/base",
            "top": null,
            "grid_column": null,
            "overflow_y": null,
            "overflow_x": null,
            "grid_auto_flow": null,
            "grid_area": null,
            "grid_template_columns": null,
            "flex": null,
            "_model_name": "LayoutModel",
            "justify_items": null,
            "grid_row": null,
            "max_height": null,
            "align_content": null,
            "visibility": null,
            "align_self": null,
            "height": null,
            "min_height": null,
            "padding": null,
            "grid_auto_rows": null,
            "grid_gap": null,
            "max_width": null,
            "order": null,
            "_view_module_version": "1.2.0",
            "grid_template_areas": null,
            "object_position": null,
            "object_fit": null,
            "grid_auto_columns": null,
            "margin": null,
            "display": null,
            "left": null
          }
        },
        "3d041480fe4b4b32b34fdb86ea6f7217": {
          "model_module": "@jupyter-widgets/controls",
          "model_name": "DescriptionStyleModel",
          "state": {
            "_view_name": "StyleView",
            "_model_name": "DescriptionStyleModel",
            "description_width": "",
            "_view_module": "@jupyter-widgets/base",
            "_model_module_version": "1.5.0",
            "_view_count": null,
            "_view_module_version": "1.2.0",
            "_model_module": "@jupyter-widgets/controls"
          }
        },
        "39c228cf929c469aa7ec28a4cb3a3b08": {
          "model_module": "@jupyter-widgets/base",
          "model_name": "LayoutModel",
          "state": {
            "_view_name": "LayoutView",
            "grid_template_rows": null,
            "right": null,
            "justify_content": null,
            "_view_module": "@jupyter-widgets/base",
            "overflow": null,
            "_model_module_version": "1.2.0",
            "_view_count": null,
            "flex_flow": null,
            "width": null,
            "min_width": null,
            "border": null,
            "align_items": null,
            "bottom": null,
            "_model_module": "@jupyter-widgets/base",
            "top": null,
            "grid_column": null,
            "overflow_y": null,
            "overflow_x": null,
            "grid_auto_flow": null,
            "grid_area": null,
            "grid_template_columns": null,
            "flex": null,
            "_model_name": "LayoutModel",
            "justify_items": null,
            "grid_row": null,
            "max_height": null,
            "align_content": null,
            "visibility": null,
            "align_self": null,
            "height": null,
            "min_height": null,
            "padding": null,
            "grid_auto_rows": null,
            "grid_gap": null,
            "max_width": null,
            "order": null,
            "_view_module_version": "1.2.0",
            "grid_template_areas": null,
            "object_position": null,
            "object_fit": null,
            "grid_auto_columns": null,
            "margin": null,
            "display": null,
            "left": null
          }
        },
        "6a1fff6ee4de4f3cae85dad4202c73dc": {
          "model_module": "@jupyter-widgets/controls",
          "model_name": "HBoxModel",
          "state": {
            "_view_name": "HBoxView",
            "_dom_classes": [],
            "_model_name": "HBoxModel",
            "_view_module": "@jupyter-widgets/controls",
            "_model_module_version": "1.5.0",
            "_view_count": null,
            "_view_module_version": "1.5.0",
            "box_style": "",
            "layout": "IPY_MODEL_a2290a39614241498dbad10d0bca3a2a",
            "_model_module": "@jupyter-widgets/controls",
            "children": [
              "IPY_MODEL_b863766154514ecc9d4fb3fabfd959cb",
              "IPY_MODEL_f94e40cbf2af4db9989135be01162e54"
            ]
          }
        },
        "a2290a39614241498dbad10d0bca3a2a": {
          "model_module": "@jupyter-widgets/base",
          "model_name": "LayoutModel",
          "state": {
            "_view_name": "LayoutView",
            "grid_template_rows": null,
            "right": null,
            "justify_content": null,
            "_view_module": "@jupyter-widgets/base",
            "overflow": null,
            "_model_module_version": "1.2.0",
            "_view_count": null,
            "flex_flow": null,
            "width": null,
            "min_width": null,
            "border": null,
            "align_items": null,
            "bottom": null,
            "_model_module": "@jupyter-widgets/base",
            "top": null,
            "grid_column": null,
            "overflow_y": null,
            "overflow_x": null,
            "grid_auto_flow": null,
            "grid_area": null,
            "grid_template_columns": null,
            "flex": null,
            "_model_name": "LayoutModel",
            "justify_items": null,
            "grid_row": null,
            "max_height": null,
            "align_content": null,
            "visibility": null,
            "align_self": null,
            "height": null,
            "min_height": null,
            "padding": null,
            "grid_auto_rows": null,
            "grid_gap": null,
            "max_width": null,
            "order": null,
            "_view_module_version": "1.2.0",
            "grid_template_areas": null,
            "object_position": null,
            "object_fit": null,
            "grid_auto_columns": null,
            "margin": null,
            "display": null,
            "left": null
          }
        },
        "b863766154514ecc9d4fb3fabfd959cb": {
          "model_module": "@jupyter-widgets/controls",
          "model_name": "FloatProgressModel",
          "state": {
            "_view_name": "ProgressView",
            "style": "IPY_MODEL_33cc8d528fa74e309537ad1e2b458cc0",
            "_dom_classes": [],
            "description": "100%",
            "_model_name": "FloatProgressModel",
            "bar_style": "success",
            "max": 100,
            "_view_module": "@jupyter-widgets/controls",
            "_model_module_version": "1.5.0",
            "value": 100,
            "_view_count": null,
            "_view_module_version": "1.5.0",
            "orientation": "horizontal",
            "min": 0,
            "description_tooltip": null,
            "_model_module": "@jupyter-widgets/controls",
            "layout": "IPY_MODEL_861eea8718b544669861e8158efbcf89"
          }
        },
        "f94e40cbf2af4db9989135be01162e54": {
          "model_module": "@jupyter-widgets/controls",
          "model_name": "HTMLModel",
          "state": {
            "_view_name": "HTMLView",
            "style": "IPY_MODEL_e3d86e71dbcc48c0b7d9dc25c789b58f",
            "_dom_classes": [],
            "description": "",
            "_model_name": "HTMLModel",
            "placeholder": "​",
            "_view_module": "@jupyter-widgets/controls",
            "_model_module_version": "1.5.0",
            "value": " 100/100 [09:22&lt;00:00,  5.62s/it]",
            "_view_count": null,
            "_view_module_version": "1.5.0",
            "description_tooltip": null,
            "_model_module": "@jupyter-widgets/controls",
            "layout": "IPY_MODEL_77e5fb9e43a44c7f9e59f213c299ee88"
          }
        },
        "33cc8d528fa74e309537ad1e2b458cc0": {
          "model_module": "@jupyter-widgets/controls",
          "model_name": "ProgressStyleModel",
          "state": {
            "_view_name": "StyleView",
            "_model_name": "ProgressStyleModel",
            "description_width": "initial",
            "_view_module": "@jupyter-widgets/base",
            "_model_module_version": "1.5.0",
            "_view_count": null,
            "_view_module_version": "1.2.0",
            "bar_color": null,
            "_model_module": "@jupyter-widgets/controls"
          }
        },
        "861eea8718b544669861e8158efbcf89": {
          "model_module": "@jupyter-widgets/base",
          "model_name": "LayoutModel",
          "state": {
            "_view_name": "LayoutView",
            "grid_template_rows": null,
            "right": null,
            "justify_content": null,
            "_view_module": "@jupyter-widgets/base",
            "overflow": null,
            "_model_module_version": "1.2.0",
            "_view_count": null,
            "flex_flow": null,
            "width": null,
            "min_width": null,
            "border": null,
            "align_items": null,
            "bottom": null,
            "_model_module": "@jupyter-widgets/base",
            "top": null,
            "grid_column": null,
            "overflow_y": null,
            "overflow_x": null,
            "grid_auto_flow": null,
            "grid_area": null,
            "grid_template_columns": null,
            "flex": null,
            "_model_name": "LayoutModel",
            "justify_items": null,
            "grid_row": null,
            "max_height": null,
            "align_content": null,
            "visibility": null,
            "align_self": null,
            "height": null,
            "min_height": null,
            "padding": null,
            "grid_auto_rows": null,
            "grid_gap": null,
            "max_width": null,
            "order": null,
            "_view_module_version": "1.2.0",
            "grid_template_areas": null,
            "object_position": null,
            "object_fit": null,
            "grid_auto_columns": null,
            "margin": null,
            "display": null,
            "left": null
          }
        },
        "e3d86e71dbcc48c0b7d9dc25c789b58f": {
          "model_module": "@jupyter-widgets/controls",
          "model_name": "DescriptionStyleModel",
          "state": {
            "_view_name": "StyleView",
            "_model_name": "DescriptionStyleModel",
            "description_width": "",
            "_view_module": "@jupyter-widgets/base",
            "_model_module_version": "1.5.0",
            "_view_count": null,
            "_view_module_version": "1.2.0",
            "_model_module": "@jupyter-widgets/controls"
          }
        },
        "77e5fb9e43a44c7f9e59f213c299ee88": {
          "model_module": "@jupyter-widgets/base",
          "model_name": "LayoutModel",
          "state": {
            "_view_name": "LayoutView",
            "grid_template_rows": null,
            "right": null,
            "justify_content": null,
            "_view_module": "@jupyter-widgets/base",
            "overflow": null,
            "_model_module_version": "1.2.0",
            "_view_count": null,
            "flex_flow": null,
            "width": null,
            "min_width": null,
            "border": null,
            "align_items": null,
            "bottom": null,
            "_model_module": "@jupyter-widgets/base",
            "top": null,
            "grid_column": null,
            "overflow_y": null,
            "overflow_x": null,
            "grid_auto_flow": null,
            "grid_area": null,
            "grid_template_columns": null,
            "flex": null,
            "_model_name": "LayoutModel",
            "justify_items": null,
            "grid_row": null,
            "max_height": null,
            "align_content": null,
            "visibility": null,
            "align_self": null,
            "height": null,
            "min_height": null,
            "padding": null,
            "grid_auto_rows": null,
            "grid_gap": null,
            "max_width": null,
            "order": null,
            "_view_module_version": "1.2.0",
            "grid_template_areas": null,
            "object_position": null,
            "object_fit": null,
            "grid_auto_columns": null,
            "margin": null,
            "display": null,
            "left": null
          }
        },
        "d0271cb861074897854cfdb98d63826b": {
          "model_module": "@jupyter-widgets/controls",
          "model_name": "HBoxModel",
          "state": {
            "_view_name": "HBoxView",
            "_dom_classes": [],
            "_model_name": "HBoxModel",
            "_view_module": "@jupyter-widgets/controls",
            "_model_module_version": "1.5.0",
            "_view_count": null,
            "_view_module_version": "1.5.0",
            "box_style": "",
            "layout": "IPY_MODEL_aca0c4f216a6488c81f994d5d3158379",
            "_model_module": "@jupyter-widgets/controls",
            "children": [
              "IPY_MODEL_d2f0124f04b54c6c8f2ff50cfea67794",
              "IPY_MODEL_211124d1598c48ee992c07ae96e923af"
            ]
          }
        },
        "aca0c4f216a6488c81f994d5d3158379": {
          "model_module": "@jupyter-widgets/base",
          "model_name": "LayoutModel",
          "state": {
            "_view_name": "LayoutView",
            "grid_template_rows": null,
            "right": null,
            "justify_content": null,
            "_view_module": "@jupyter-widgets/base",
            "overflow": null,
            "_model_module_version": "1.2.0",
            "_view_count": null,
            "flex_flow": null,
            "width": null,
            "min_width": null,
            "border": null,
            "align_items": null,
            "bottom": null,
            "_model_module": "@jupyter-widgets/base",
            "top": null,
            "grid_column": null,
            "overflow_y": null,
            "overflow_x": null,
            "grid_auto_flow": null,
            "grid_area": null,
            "grid_template_columns": null,
            "flex": null,
            "_model_name": "LayoutModel",
            "justify_items": null,
            "grid_row": null,
            "max_height": null,
            "align_content": null,
            "visibility": null,
            "align_self": null,
            "height": null,
            "min_height": null,
            "padding": null,
            "grid_auto_rows": null,
            "grid_gap": null,
            "max_width": null,
            "order": null,
            "_view_module_version": "1.2.0",
            "grid_template_areas": null,
            "object_position": null,
            "object_fit": null,
            "grid_auto_columns": null,
            "margin": null,
            "display": null,
            "left": null
          }
        },
        "d2f0124f04b54c6c8f2ff50cfea67794": {
          "model_module": "@jupyter-widgets/controls",
          "model_name": "FloatProgressModel",
          "state": {
            "_view_name": "ProgressView",
            "style": "IPY_MODEL_92ec4cd041f149a198dcc4b5a2aa03e3",
            "_dom_classes": [],
            "description": "100%",
            "_model_name": "FloatProgressModel",
            "bar_style": "success",
            "max": 105,
            "_view_module": "@jupyter-widgets/controls",
            "_model_module_version": "1.5.0",
            "value": 105,
            "_view_count": null,
            "_view_module_version": "1.5.0",
            "orientation": "horizontal",
            "min": 0,
            "description_tooltip": null,
            "_model_module": "@jupyter-widgets/controls",
            "layout": "IPY_MODEL_158c680153e94777ba305413aa98c757"
          }
        },
        "211124d1598c48ee992c07ae96e923af": {
          "model_module": "@jupyter-widgets/controls",
          "model_name": "HTMLModel",
          "state": {
            "_view_name": "HTMLView",
            "style": "IPY_MODEL_f2c71a1f5d514633a80e98ffb06a2c69",
            "_dom_classes": [],
            "description": "",
            "_model_name": "HTMLModel",
            "placeholder": "​",
            "_view_module": "@jupyter-widgets/controls",
            "_model_module_version": "1.5.0",
            "value": " 105/105 [01:23&lt;00:00,  1.26it/s]",
            "_view_count": null,
            "_view_module_version": "1.5.0",
            "description_tooltip": null,
            "_model_module": "@jupyter-widgets/controls",
            "layout": "IPY_MODEL_7934fa1513e04152ac93f4bd30af0446"
          }
        },
        "92ec4cd041f149a198dcc4b5a2aa03e3": {
          "model_module": "@jupyter-widgets/controls",
          "model_name": "ProgressStyleModel",
          "state": {
            "_view_name": "StyleView",
            "_model_name": "ProgressStyleModel",
            "description_width": "initial",
            "_view_module": "@jupyter-widgets/base",
            "_model_module_version": "1.5.0",
            "_view_count": null,
            "_view_module_version": "1.2.0",
            "bar_color": null,
            "_model_module": "@jupyter-widgets/controls"
          }
        },
        "158c680153e94777ba305413aa98c757": {
          "model_module": "@jupyter-widgets/base",
          "model_name": "LayoutModel",
          "state": {
            "_view_name": "LayoutView",
            "grid_template_rows": null,
            "right": null,
            "justify_content": null,
            "_view_module": "@jupyter-widgets/base",
            "overflow": null,
            "_model_module_version": "1.2.0",
            "_view_count": null,
            "flex_flow": null,
            "width": null,
            "min_width": null,
            "border": null,
            "align_items": null,
            "bottom": null,
            "_model_module": "@jupyter-widgets/base",
            "top": null,
            "grid_column": null,
            "overflow_y": null,
            "overflow_x": null,
            "grid_auto_flow": null,
            "grid_area": null,
            "grid_template_columns": null,
            "flex": null,
            "_model_name": "LayoutModel",
            "justify_items": null,
            "grid_row": null,
            "max_height": null,
            "align_content": null,
            "visibility": null,
            "align_self": null,
            "height": null,
            "min_height": null,
            "padding": null,
            "grid_auto_rows": null,
            "grid_gap": null,
            "max_width": null,
            "order": null,
            "_view_module_version": "1.2.0",
            "grid_template_areas": null,
            "object_position": null,
            "object_fit": null,
            "grid_auto_columns": null,
            "margin": null,
            "display": null,
            "left": null
          }
        },
        "f2c71a1f5d514633a80e98ffb06a2c69": {
          "model_module": "@jupyter-widgets/controls",
          "model_name": "DescriptionStyleModel",
          "state": {
            "_view_name": "StyleView",
            "_model_name": "DescriptionStyleModel",
            "description_width": "",
            "_view_module": "@jupyter-widgets/base",
            "_model_module_version": "1.5.0",
            "_view_count": null,
            "_view_module_version": "1.2.0",
            "_model_module": "@jupyter-widgets/controls"
          }
        },
        "7934fa1513e04152ac93f4bd30af0446": {
          "model_module": "@jupyter-widgets/base",
          "model_name": "LayoutModel",
          "state": {
            "_view_name": "LayoutView",
            "grid_template_rows": null,
            "right": null,
            "justify_content": null,
            "_view_module": "@jupyter-widgets/base",
            "overflow": null,
            "_model_module_version": "1.2.0",
            "_view_count": null,
            "flex_flow": null,
            "width": null,
            "min_width": null,
            "border": null,
            "align_items": null,
            "bottom": null,
            "_model_module": "@jupyter-widgets/base",
            "top": null,
            "grid_column": null,
            "overflow_y": null,
            "overflow_x": null,
            "grid_auto_flow": null,
            "grid_area": null,
            "grid_template_columns": null,
            "flex": null,
            "_model_name": "LayoutModel",
            "justify_items": null,
            "grid_row": null,
            "max_height": null,
            "align_content": null,
            "visibility": null,
            "align_self": null,
            "height": null,
            "min_height": null,
            "padding": null,
            "grid_auto_rows": null,
            "grid_gap": null,
            "max_width": null,
            "order": null,
            "_view_module_version": "1.2.0",
            "grid_template_areas": null,
            "object_position": null,
            "object_fit": null,
            "grid_auto_columns": null,
            "margin": null,
            "display": null,
            "left": null
          }
        },
        "ade1f4adae0c4c318923645f135611a2": {
          "model_module": "@jupyter-widgets/controls",
          "model_name": "HBoxModel",
          "state": {
            "_view_name": "HBoxView",
            "_dom_classes": [],
            "_model_name": "HBoxModel",
            "_view_module": "@jupyter-widgets/controls",
            "_model_module_version": "1.5.0",
            "_view_count": null,
            "_view_module_version": "1.5.0",
            "box_style": "",
            "layout": "IPY_MODEL_82398b7b27f14414aeb3d0ab982b4ed7",
            "_model_module": "@jupyter-widgets/controls",
            "children": [
              "IPY_MODEL_d2e9d7ca23404defaa64e01bb9a36dbd",
              "IPY_MODEL_f442de9f8f7a44e29ce5cd4d2bd61a5a"
            ]
          }
        },
        "82398b7b27f14414aeb3d0ab982b4ed7": {
          "model_module": "@jupyter-widgets/base",
          "model_name": "LayoutModel",
          "state": {
            "_view_name": "LayoutView",
            "grid_template_rows": null,
            "right": null,
            "justify_content": null,
            "_view_module": "@jupyter-widgets/base",
            "overflow": null,
            "_model_module_version": "1.2.0",
            "_view_count": null,
            "flex_flow": null,
            "width": null,
            "min_width": null,
            "border": null,
            "align_items": null,
            "bottom": null,
            "_model_module": "@jupyter-widgets/base",
            "top": null,
            "grid_column": null,
            "overflow_y": null,
            "overflow_x": null,
            "grid_auto_flow": null,
            "grid_area": null,
            "grid_template_columns": null,
            "flex": null,
            "_model_name": "LayoutModel",
            "justify_items": null,
            "grid_row": null,
            "max_height": null,
            "align_content": null,
            "visibility": null,
            "align_self": null,
            "height": null,
            "min_height": null,
            "padding": null,
            "grid_auto_rows": null,
            "grid_gap": null,
            "max_width": null,
            "order": null,
            "_view_module_version": "1.2.0",
            "grid_template_areas": null,
            "object_position": null,
            "object_fit": null,
            "grid_auto_columns": null,
            "margin": null,
            "display": null,
            "left": null
          }
        },
        "d2e9d7ca23404defaa64e01bb9a36dbd": {
          "model_module": "@jupyter-widgets/controls",
          "model_name": "FloatProgressModel",
          "state": {
            "_view_name": "ProgressView",
            "style": "IPY_MODEL_70caa3cb7072417c9f5da83801f7b77b",
            "_dom_classes": [],
            "description": "100%",
            "_model_name": "FloatProgressModel",
            "bar_style": "success",
            "max": 100,
            "_view_module": "@jupyter-widgets/controls",
            "_model_module_version": "1.5.0",
            "value": 100,
            "_view_count": null,
            "_view_module_version": "1.5.0",
            "orientation": "horizontal",
            "min": 0,
            "description_tooltip": null,
            "_model_module": "@jupyter-widgets/controls",
            "layout": "IPY_MODEL_e6907a810d284ff9b827038213a9fa3a"
          }
        },
        "f442de9f8f7a44e29ce5cd4d2bd61a5a": {
          "model_module": "@jupyter-widgets/controls",
          "model_name": "HTMLModel",
          "state": {
            "_view_name": "HTMLView",
            "style": "IPY_MODEL_2573de03ce1c482fb2cf701882060848",
            "_dom_classes": [],
            "description": "",
            "_model_name": "HTMLModel",
            "placeholder": "​",
            "_view_module": "@jupyter-widgets/controls",
            "_model_module_version": "1.5.0",
            "value": " 100/100 [01:03&lt;00:00,  1.58it/s]",
            "_view_count": null,
            "_view_module_version": "1.5.0",
            "description_tooltip": null,
            "_model_module": "@jupyter-widgets/controls",
            "layout": "IPY_MODEL_63febcdc5e0345ba9dd470f362d47e14"
          }
        },
        "70caa3cb7072417c9f5da83801f7b77b": {
          "model_module": "@jupyter-widgets/controls",
          "model_name": "ProgressStyleModel",
          "state": {
            "_view_name": "StyleView",
            "_model_name": "ProgressStyleModel",
            "description_width": "initial",
            "_view_module": "@jupyter-widgets/base",
            "_model_module_version": "1.5.0",
            "_view_count": null,
            "_view_module_version": "1.2.0",
            "bar_color": null,
            "_model_module": "@jupyter-widgets/controls"
          }
        },
        "e6907a810d284ff9b827038213a9fa3a": {
          "model_module": "@jupyter-widgets/base",
          "model_name": "LayoutModel",
          "state": {
            "_view_name": "LayoutView",
            "grid_template_rows": null,
            "right": null,
            "justify_content": null,
            "_view_module": "@jupyter-widgets/base",
            "overflow": null,
            "_model_module_version": "1.2.0",
            "_view_count": null,
            "flex_flow": null,
            "width": null,
            "min_width": null,
            "border": null,
            "align_items": null,
            "bottom": null,
            "_model_module": "@jupyter-widgets/base",
            "top": null,
            "grid_column": null,
            "overflow_y": null,
            "overflow_x": null,
            "grid_auto_flow": null,
            "grid_area": null,
            "grid_template_columns": null,
            "flex": null,
            "_model_name": "LayoutModel",
            "justify_items": null,
            "grid_row": null,
            "max_height": null,
            "align_content": null,
            "visibility": null,
            "align_self": null,
            "height": null,
            "min_height": null,
            "padding": null,
            "grid_auto_rows": null,
            "grid_gap": null,
            "max_width": null,
            "order": null,
            "_view_module_version": "1.2.0",
            "grid_template_areas": null,
            "object_position": null,
            "object_fit": null,
            "grid_auto_columns": null,
            "margin": null,
            "display": null,
            "left": null
          }
        },
        "2573de03ce1c482fb2cf701882060848": {
          "model_module": "@jupyter-widgets/controls",
          "model_name": "DescriptionStyleModel",
          "state": {
            "_view_name": "StyleView",
            "_model_name": "DescriptionStyleModel",
            "description_width": "",
            "_view_module": "@jupyter-widgets/base",
            "_model_module_version": "1.5.0",
            "_view_count": null,
            "_view_module_version": "1.2.0",
            "_model_module": "@jupyter-widgets/controls"
          }
        },
        "63febcdc5e0345ba9dd470f362d47e14": {
          "model_module": "@jupyter-widgets/base",
          "model_name": "LayoutModel",
          "state": {
            "_view_name": "LayoutView",
            "grid_template_rows": null,
            "right": null,
            "justify_content": null,
            "_view_module": "@jupyter-widgets/base",
            "overflow": null,
            "_model_module_version": "1.2.0",
            "_view_count": null,
            "flex_flow": null,
            "width": null,
            "min_width": null,
            "border": null,
            "align_items": null,
            "bottom": null,
            "_model_module": "@jupyter-widgets/base",
            "top": null,
            "grid_column": null,
            "overflow_y": null,
            "overflow_x": null,
            "grid_auto_flow": null,
            "grid_area": null,
            "grid_template_columns": null,
            "flex": null,
            "_model_name": "LayoutModel",
            "justify_items": null,
            "grid_row": null,
            "max_height": null,
            "align_content": null,
            "visibility": null,
            "align_self": null,
            "height": null,
            "min_height": null,
            "padding": null,
            "grid_auto_rows": null,
            "grid_gap": null,
            "max_width": null,
            "order": null,
            "_view_module_version": "1.2.0",
            "grid_template_areas": null,
            "object_position": null,
            "object_fit": null,
            "grid_auto_columns": null,
            "margin": null,
            "display": null,
            "left": null
          }
        },
        "08f2c666dab446a280b7a8f68743445f": {
          "model_module": "@jupyter-widgets/controls",
          "model_name": "HBoxModel",
          "state": {
            "_view_name": "HBoxView",
            "_dom_classes": [],
            "_model_name": "HBoxModel",
            "_view_module": "@jupyter-widgets/controls",
            "_model_module_version": "1.5.0",
            "_view_count": null,
            "_view_module_version": "1.5.0",
            "box_style": "",
            "layout": "IPY_MODEL_f4889f0bb8d44ef98e14ab089adff68e",
            "_model_module": "@jupyter-widgets/controls",
            "children": [
              "IPY_MODEL_6760b6e586c04c6eb7c25b6ae564530d",
              "IPY_MODEL_e86c5221d1d142909b2493f10f48e794"
            ]
          }
        },
        "f4889f0bb8d44ef98e14ab089adff68e": {
          "model_module": "@jupyter-widgets/base",
          "model_name": "LayoutModel",
          "state": {
            "_view_name": "LayoutView",
            "grid_template_rows": null,
            "right": null,
            "justify_content": null,
            "_view_module": "@jupyter-widgets/base",
            "overflow": null,
            "_model_module_version": "1.2.0",
            "_view_count": null,
            "flex_flow": null,
            "width": null,
            "min_width": null,
            "border": null,
            "align_items": null,
            "bottom": null,
            "_model_module": "@jupyter-widgets/base",
            "top": null,
            "grid_column": null,
            "overflow_y": null,
            "overflow_x": null,
            "grid_auto_flow": null,
            "grid_area": null,
            "grid_template_columns": null,
            "flex": null,
            "_model_name": "LayoutModel",
            "justify_items": null,
            "grid_row": null,
            "max_height": null,
            "align_content": null,
            "visibility": null,
            "align_self": null,
            "height": null,
            "min_height": null,
            "padding": null,
            "grid_auto_rows": null,
            "grid_gap": null,
            "max_width": null,
            "order": null,
            "_view_module_version": "1.2.0",
            "grid_template_areas": null,
            "object_position": null,
            "object_fit": null,
            "grid_auto_columns": null,
            "margin": null,
            "display": null,
            "left": null
          }
        },
        "6760b6e586c04c6eb7c25b6ae564530d": {
          "model_module": "@jupyter-widgets/controls",
          "model_name": "FloatProgressModel",
          "state": {
            "_view_name": "ProgressView",
            "style": "IPY_MODEL_90ad4c607a504353b430957569531f5c",
            "_dom_classes": [],
            "description": "100%",
            "_model_name": "FloatProgressModel",
            "bar_style": "success",
            "max": 105,
            "_view_module": "@jupyter-widgets/controls",
            "_model_module_version": "1.5.0",
            "value": 105,
            "_view_count": null,
            "_view_module_version": "1.5.0",
            "orientation": "horizontal",
            "min": 0,
            "description_tooltip": null,
            "_model_module": "@jupyter-widgets/controls",
            "layout": "IPY_MODEL_74b4d9003a19447888807e8e52491346"
          }
        },
        "e86c5221d1d142909b2493f10f48e794": {
          "model_module": "@jupyter-widgets/controls",
          "model_name": "HTMLModel",
          "state": {
            "_view_name": "HTMLView",
            "style": "IPY_MODEL_f5dd30ab7bb644d49f0424387ddd9f7e",
            "_dom_classes": [],
            "description": "",
            "_model_name": "HTMLModel",
            "placeholder": "​",
            "_view_module": "@jupyter-widgets/controls",
            "_model_module_version": "1.5.0",
            "value": " 105/105 [07:51&lt;00:00,  4.49s/it]",
            "_view_count": null,
            "_view_module_version": "1.5.0",
            "description_tooltip": null,
            "_model_module": "@jupyter-widgets/controls",
            "layout": "IPY_MODEL_aa47a431a9ba409387aae6808d2c4cf7"
          }
        },
        "90ad4c607a504353b430957569531f5c": {
          "model_module": "@jupyter-widgets/controls",
          "model_name": "ProgressStyleModel",
          "state": {
            "_view_name": "StyleView",
            "_model_name": "ProgressStyleModel",
            "description_width": "initial",
            "_view_module": "@jupyter-widgets/base",
            "_model_module_version": "1.5.0",
            "_view_count": null,
            "_view_module_version": "1.2.0",
            "bar_color": null,
            "_model_module": "@jupyter-widgets/controls"
          }
        },
        "74b4d9003a19447888807e8e52491346": {
          "model_module": "@jupyter-widgets/base",
          "model_name": "LayoutModel",
          "state": {
            "_view_name": "LayoutView",
            "grid_template_rows": null,
            "right": null,
            "justify_content": null,
            "_view_module": "@jupyter-widgets/base",
            "overflow": null,
            "_model_module_version": "1.2.0",
            "_view_count": null,
            "flex_flow": null,
            "width": null,
            "min_width": null,
            "border": null,
            "align_items": null,
            "bottom": null,
            "_model_module": "@jupyter-widgets/base",
            "top": null,
            "grid_column": null,
            "overflow_y": null,
            "overflow_x": null,
            "grid_auto_flow": null,
            "grid_area": null,
            "grid_template_columns": null,
            "flex": null,
            "_model_name": "LayoutModel",
            "justify_items": null,
            "grid_row": null,
            "max_height": null,
            "align_content": null,
            "visibility": null,
            "align_self": null,
            "height": null,
            "min_height": null,
            "padding": null,
            "grid_auto_rows": null,
            "grid_gap": null,
            "max_width": null,
            "order": null,
            "_view_module_version": "1.2.0",
            "grid_template_areas": null,
            "object_position": null,
            "object_fit": null,
            "grid_auto_columns": null,
            "margin": null,
            "display": null,
            "left": null
          }
        },
        "f5dd30ab7bb644d49f0424387ddd9f7e": {
          "model_module": "@jupyter-widgets/controls",
          "model_name": "DescriptionStyleModel",
          "state": {
            "_view_name": "StyleView",
            "_model_name": "DescriptionStyleModel",
            "description_width": "",
            "_view_module": "@jupyter-widgets/base",
            "_model_module_version": "1.5.0",
            "_view_count": null,
            "_view_module_version": "1.2.0",
            "_model_module": "@jupyter-widgets/controls"
          }
        },
        "aa47a431a9ba409387aae6808d2c4cf7": {
          "model_module": "@jupyter-widgets/base",
          "model_name": "LayoutModel",
          "state": {
            "_view_name": "LayoutView",
            "grid_template_rows": null,
            "right": null,
            "justify_content": null,
            "_view_module": "@jupyter-widgets/base",
            "overflow": null,
            "_model_module_version": "1.2.0",
            "_view_count": null,
            "flex_flow": null,
            "width": null,
            "min_width": null,
            "border": null,
            "align_items": null,
            "bottom": null,
            "_model_module": "@jupyter-widgets/base",
            "top": null,
            "grid_column": null,
            "overflow_y": null,
            "overflow_x": null,
            "grid_auto_flow": null,
            "grid_area": null,
            "grid_template_columns": null,
            "flex": null,
            "_model_name": "LayoutModel",
            "justify_items": null,
            "grid_row": null,
            "max_height": null,
            "align_content": null,
            "visibility": null,
            "align_self": null,
            "height": null,
            "min_height": null,
            "padding": null,
            "grid_auto_rows": null,
            "grid_gap": null,
            "max_width": null,
            "order": null,
            "_view_module_version": "1.2.0",
            "grid_template_areas": null,
            "object_position": null,
            "object_fit": null,
            "grid_auto_columns": null,
            "margin": null,
            "display": null,
            "left": null
          }
        },
        "aca740b05f2c4a8e829a331aaadf9562": {
          "model_module": "@jupyter-widgets/controls",
          "model_name": "HBoxModel",
          "state": {
            "_view_name": "HBoxView",
            "_dom_classes": [],
            "_model_name": "HBoxModel",
            "_view_module": "@jupyter-widgets/controls",
            "_model_module_version": "1.5.0",
            "_view_count": null,
            "_view_module_version": "1.5.0",
            "box_style": "",
            "layout": "IPY_MODEL_89dd3b2c6b0e46cf955c268429409057",
            "_model_module": "@jupyter-widgets/controls",
            "children": [
              "IPY_MODEL_dd516bf6e6c94f1fbd92a5fc9f9ae22c",
              "IPY_MODEL_0584bc248cff45c0b2c4c29a77f1fd5d"
            ]
          }
        },
        "89dd3b2c6b0e46cf955c268429409057": {
          "model_module": "@jupyter-widgets/base",
          "model_name": "LayoutModel",
          "state": {
            "_view_name": "LayoutView",
            "grid_template_rows": null,
            "right": null,
            "justify_content": null,
            "_view_module": "@jupyter-widgets/base",
            "overflow": null,
            "_model_module_version": "1.2.0",
            "_view_count": null,
            "flex_flow": null,
            "width": null,
            "min_width": null,
            "border": null,
            "align_items": null,
            "bottom": null,
            "_model_module": "@jupyter-widgets/base",
            "top": null,
            "grid_column": null,
            "overflow_y": null,
            "overflow_x": null,
            "grid_auto_flow": null,
            "grid_area": null,
            "grid_template_columns": null,
            "flex": null,
            "_model_name": "LayoutModel",
            "justify_items": null,
            "grid_row": null,
            "max_height": null,
            "align_content": null,
            "visibility": null,
            "align_self": null,
            "height": null,
            "min_height": null,
            "padding": null,
            "grid_auto_rows": null,
            "grid_gap": null,
            "max_width": null,
            "order": null,
            "_view_module_version": "1.2.0",
            "grid_template_areas": null,
            "object_position": null,
            "object_fit": null,
            "grid_auto_columns": null,
            "margin": null,
            "display": null,
            "left": null
          }
        },
        "dd516bf6e6c94f1fbd92a5fc9f9ae22c": {
          "model_module": "@jupyter-widgets/controls",
          "model_name": "FloatProgressModel",
          "state": {
            "_view_name": "ProgressView",
            "style": "IPY_MODEL_05424b35118845dbabd9d4f8233b05eb",
            "_dom_classes": [],
            "description": "100%",
            "_model_name": "FloatProgressModel",
            "bar_style": "success",
            "max": 100,
            "_view_module": "@jupyter-widgets/controls",
            "_model_module_version": "1.5.0",
            "value": 100,
            "_view_count": null,
            "_view_module_version": "1.5.0",
            "orientation": "horizontal",
            "min": 0,
            "description_tooltip": null,
            "_model_module": "@jupyter-widgets/controls",
            "layout": "IPY_MODEL_90eb19523d8f4366ae6994267eed9239"
          }
        },
        "0584bc248cff45c0b2c4c29a77f1fd5d": {
          "model_module": "@jupyter-widgets/controls",
          "model_name": "HTMLModel",
          "state": {
            "_view_name": "HTMLView",
            "style": "IPY_MODEL_7a13df2f1966485c8526c8ed64932462",
            "_dom_classes": [],
            "description": "",
            "_model_name": "HTMLModel",
            "placeholder": "​",
            "_view_module": "@jupyter-widgets/controls",
            "_model_module_version": "1.5.0",
            "value": " 100/100 [00:16&lt;00:00,  5.92it/s]",
            "_view_count": null,
            "_view_module_version": "1.5.0",
            "description_tooltip": null,
            "_model_module": "@jupyter-widgets/controls",
            "layout": "IPY_MODEL_ab481018792442619c201ad6e5f687f6"
          }
        },
        "05424b35118845dbabd9d4f8233b05eb": {
          "model_module": "@jupyter-widgets/controls",
          "model_name": "ProgressStyleModel",
          "state": {
            "_view_name": "StyleView",
            "_model_name": "ProgressStyleModel",
            "description_width": "initial",
            "_view_module": "@jupyter-widgets/base",
            "_model_module_version": "1.5.0",
            "_view_count": null,
            "_view_module_version": "1.2.0",
            "bar_color": null,
            "_model_module": "@jupyter-widgets/controls"
          }
        },
        "90eb19523d8f4366ae6994267eed9239": {
          "model_module": "@jupyter-widgets/base",
          "model_name": "LayoutModel",
          "state": {
            "_view_name": "LayoutView",
            "grid_template_rows": null,
            "right": null,
            "justify_content": null,
            "_view_module": "@jupyter-widgets/base",
            "overflow": null,
            "_model_module_version": "1.2.0",
            "_view_count": null,
            "flex_flow": null,
            "width": null,
            "min_width": null,
            "border": null,
            "align_items": null,
            "bottom": null,
            "_model_module": "@jupyter-widgets/base",
            "top": null,
            "grid_column": null,
            "overflow_y": null,
            "overflow_x": null,
            "grid_auto_flow": null,
            "grid_area": null,
            "grid_template_columns": null,
            "flex": null,
            "_model_name": "LayoutModel",
            "justify_items": null,
            "grid_row": null,
            "max_height": null,
            "align_content": null,
            "visibility": null,
            "align_self": null,
            "height": null,
            "min_height": null,
            "padding": null,
            "grid_auto_rows": null,
            "grid_gap": null,
            "max_width": null,
            "order": null,
            "_view_module_version": "1.2.0",
            "grid_template_areas": null,
            "object_position": null,
            "object_fit": null,
            "grid_auto_columns": null,
            "margin": null,
            "display": null,
            "left": null
          }
        },
        "7a13df2f1966485c8526c8ed64932462": {
          "model_module": "@jupyter-widgets/controls",
          "model_name": "DescriptionStyleModel",
          "state": {
            "_view_name": "StyleView",
            "_model_name": "DescriptionStyleModel",
            "description_width": "",
            "_view_module": "@jupyter-widgets/base",
            "_model_module_version": "1.5.0",
            "_view_count": null,
            "_view_module_version": "1.2.0",
            "_model_module": "@jupyter-widgets/controls"
          }
        },
        "ab481018792442619c201ad6e5f687f6": {
          "model_module": "@jupyter-widgets/base",
          "model_name": "LayoutModel",
          "state": {
            "_view_name": "LayoutView",
            "grid_template_rows": null,
            "right": null,
            "justify_content": null,
            "_view_module": "@jupyter-widgets/base",
            "overflow": null,
            "_model_module_version": "1.2.0",
            "_view_count": null,
            "flex_flow": null,
            "width": null,
            "min_width": null,
            "border": null,
            "align_items": null,
            "bottom": null,
            "_model_module": "@jupyter-widgets/base",
            "top": null,
            "grid_column": null,
            "overflow_y": null,
            "overflow_x": null,
            "grid_auto_flow": null,
            "grid_area": null,
            "grid_template_columns": null,
            "flex": null,
            "_model_name": "LayoutModel",
            "justify_items": null,
            "grid_row": null,
            "max_height": null,
            "align_content": null,
            "visibility": null,
            "align_self": null,
            "height": null,
            "min_height": null,
            "padding": null,
            "grid_auto_rows": null,
            "grid_gap": null,
            "max_width": null,
            "order": null,
            "_view_module_version": "1.2.0",
            "grid_template_areas": null,
            "object_position": null,
            "object_fit": null,
            "grid_auto_columns": null,
            "margin": null,
            "display": null,
            "left": null
          }
        },
        "fc2ed94ec6da47839c481117bb495be7": {
          "model_module": "@jupyter-widgets/controls",
          "model_name": "HBoxModel",
          "state": {
            "_view_name": "HBoxView",
            "_dom_classes": [],
            "_model_name": "HBoxModel",
            "_view_module": "@jupyter-widgets/controls",
            "_model_module_version": "1.5.0",
            "_view_count": null,
            "_view_module_version": "1.5.0",
            "box_style": "",
            "layout": "IPY_MODEL_b46f5bf7f5964a3b9ab94d01ad8efc7b",
            "_model_module": "@jupyter-widgets/controls",
            "children": [
              "IPY_MODEL_c798898c86a64a4dade19d4655910d41",
              "IPY_MODEL_2e9871df7fa340c3a2c62cd6f2c0dc69"
            ]
          }
        },
        "b46f5bf7f5964a3b9ab94d01ad8efc7b": {
          "model_module": "@jupyter-widgets/base",
          "model_name": "LayoutModel",
          "state": {
            "_view_name": "LayoutView",
            "grid_template_rows": null,
            "right": null,
            "justify_content": null,
            "_view_module": "@jupyter-widgets/base",
            "overflow": null,
            "_model_module_version": "1.2.0",
            "_view_count": null,
            "flex_flow": null,
            "width": null,
            "min_width": null,
            "border": null,
            "align_items": null,
            "bottom": null,
            "_model_module": "@jupyter-widgets/base",
            "top": null,
            "grid_column": null,
            "overflow_y": null,
            "overflow_x": null,
            "grid_auto_flow": null,
            "grid_area": null,
            "grid_template_columns": null,
            "flex": null,
            "_model_name": "LayoutModel",
            "justify_items": null,
            "grid_row": null,
            "max_height": null,
            "align_content": null,
            "visibility": null,
            "align_self": null,
            "height": null,
            "min_height": null,
            "padding": null,
            "grid_auto_rows": null,
            "grid_gap": null,
            "max_width": null,
            "order": null,
            "_view_module_version": "1.2.0",
            "grid_template_areas": null,
            "object_position": null,
            "object_fit": null,
            "grid_auto_columns": null,
            "margin": null,
            "display": null,
            "left": null
          }
        },
        "c798898c86a64a4dade19d4655910d41": {
          "model_module": "@jupyter-widgets/controls",
          "model_name": "FloatProgressModel",
          "state": {
            "_view_name": "ProgressView",
            "style": "IPY_MODEL_18c31165475a4a578d7a43dd098db223",
            "_dom_classes": [],
            "description": "100%",
            "_model_name": "FloatProgressModel",
            "bar_style": "success",
            "max": 100,
            "_view_module": "@jupyter-widgets/controls",
            "_model_module_version": "1.5.0",
            "value": 100,
            "_view_count": null,
            "_view_module_version": "1.5.0",
            "orientation": "horizontal",
            "min": 0,
            "description_tooltip": null,
            "_model_module": "@jupyter-widgets/controls",
            "layout": "IPY_MODEL_c002340fb88c4432abf74bd5becfe24a"
          }
        },
        "2e9871df7fa340c3a2c62cd6f2c0dc69": {
          "model_module": "@jupyter-widgets/controls",
          "model_name": "HTMLModel",
          "state": {
            "_view_name": "HTMLView",
            "style": "IPY_MODEL_02ecdcb649b54f6ba15637f763d73390",
            "_dom_classes": [],
            "description": "",
            "_model_name": "HTMLModel",
            "placeholder": "​",
            "_view_module": "@jupyter-widgets/controls",
            "_model_module_version": "1.5.0",
            "value": " 100/100 [03:34&lt;00:00,  2.14s/it, correct=55.45%, skipped=1.34%]",
            "_view_count": null,
            "_view_module_version": "1.5.0",
            "description_tooltip": null,
            "_model_module": "@jupyter-widgets/controls",
            "layout": "IPY_MODEL_46a06c3c5a384ba79032ae03e269e211"
          }
        },
        "18c31165475a4a578d7a43dd098db223": {
          "model_module": "@jupyter-widgets/controls",
          "model_name": "ProgressStyleModel",
          "state": {
            "_view_name": "StyleView",
            "_model_name": "ProgressStyleModel",
            "description_width": "initial",
            "_view_module": "@jupyter-widgets/base",
            "_model_module_version": "1.5.0",
            "_view_count": null,
            "_view_module_version": "1.2.0",
            "bar_color": null,
            "_model_module": "@jupyter-widgets/controls"
          }
        },
        "c002340fb88c4432abf74bd5becfe24a": {
          "model_module": "@jupyter-widgets/base",
          "model_name": "LayoutModel",
          "state": {
            "_view_name": "LayoutView",
            "grid_template_rows": null,
            "right": null,
            "justify_content": null,
            "_view_module": "@jupyter-widgets/base",
            "overflow": null,
            "_model_module_version": "1.2.0",
            "_view_count": null,
            "flex_flow": null,
            "width": null,
            "min_width": null,
            "border": null,
            "align_items": null,
            "bottom": null,
            "_model_module": "@jupyter-widgets/base",
            "top": null,
            "grid_column": null,
            "overflow_y": null,
            "overflow_x": null,
            "grid_auto_flow": null,
            "grid_area": null,
            "grid_template_columns": null,
            "flex": null,
            "_model_name": "LayoutModel",
            "justify_items": null,
            "grid_row": null,
            "max_height": null,
            "align_content": null,
            "visibility": null,
            "align_self": null,
            "height": null,
            "min_height": null,
            "padding": null,
            "grid_auto_rows": null,
            "grid_gap": null,
            "max_width": null,
            "order": null,
            "_view_module_version": "1.2.0",
            "grid_template_areas": null,
            "object_position": null,
            "object_fit": null,
            "grid_auto_columns": null,
            "margin": null,
            "display": null,
            "left": null
          }
        },
        "02ecdcb649b54f6ba15637f763d73390": {
          "model_module": "@jupyter-widgets/controls",
          "model_name": "DescriptionStyleModel",
          "state": {
            "_view_name": "StyleView",
            "_model_name": "DescriptionStyleModel",
            "description_width": "",
            "_view_module": "@jupyter-widgets/base",
            "_model_module_version": "1.5.0",
            "_view_count": null,
            "_view_module_version": "1.2.0",
            "_model_module": "@jupyter-widgets/controls"
          }
        },
        "46a06c3c5a384ba79032ae03e269e211": {
          "model_module": "@jupyter-widgets/base",
          "model_name": "LayoutModel",
          "state": {
            "_view_name": "LayoutView",
            "grid_template_rows": null,
            "right": null,
            "justify_content": null,
            "_view_module": "@jupyter-widgets/base",
            "overflow": null,
            "_model_module_version": "1.2.0",
            "_view_count": null,
            "flex_flow": null,
            "width": null,
            "min_width": null,
            "border": null,
            "align_items": null,
            "bottom": null,
            "_model_module": "@jupyter-widgets/base",
            "top": null,
            "grid_column": null,
            "overflow_y": null,
            "overflow_x": null,
            "grid_auto_flow": null,
            "grid_area": null,
            "grid_template_columns": null,
            "flex": null,
            "_model_name": "LayoutModel",
            "justify_items": null,
            "grid_row": null,
            "max_height": null,
            "align_content": null,
            "visibility": null,
            "align_self": null,
            "height": null,
            "min_height": null,
            "padding": null,
            "grid_auto_rows": null,
            "grid_gap": null,
            "max_width": null,
            "order": null,
            "_view_module_version": "1.2.0",
            "grid_template_areas": null,
            "object_position": null,
            "object_fit": null,
            "grid_auto_columns": null,
            "margin": null,
            "display": null,
            "left": null
          }
        },
        "f60009ace5714f7c9a2d0254a38eb231": {
          "model_module": "@jupyter-widgets/controls",
          "model_name": "HBoxModel",
          "state": {
            "_view_name": "HBoxView",
            "_dom_classes": [],
            "_model_name": "HBoxModel",
            "_view_module": "@jupyter-widgets/controls",
            "_model_module_version": "1.5.0",
            "_view_count": null,
            "_view_module_version": "1.5.0",
            "box_style": "",
            "layout": "IPY_MODEL_fe115be451c743a6b84c37db6f48b198",
            "_model_module": "@jupyter-widgets/controls",
            "children": [
              "IPY_MODEL_2957b7ad8cd148298f80d2d270c413d7",
              "IPY_MODEL_302de2caf3144115a3a6986b00937710"
            ]
          }
        },
        "fe115be451c743a6b84c37db6f48b198": {
          "model_module": "@jupyter-widgets/base",
          "model_name": "LayoutModel",
          "state": {
            "_view_name": "LayoutView",
            "grid_template_rows": null,
            "right": null,
            "justify_content": null,
            "_view_module": "@jupyter-widgets/base",
            "overflow": null,
            "_model_module_version": "1.2.0",
            "_view_count": null,
            "flex_flow": null,
            "width": null,
            "min_width": null,
            "border": null,
            "align_items": null,
            "bottom": null,
            "_model_module": "@jupyter-widgets/base",
            "top": null,
            "grid_column": null,
            "overflow_y": null,
            "overflow_x": null,
            "grid_auto_flow": null,
            "grid_area": null,
            "grid_template_columns": null,
            "flex": null,
            "_model_name": "LayoutModel",
            "justify_items": null,
            "grid_row": null,
            "max_height": null,
            "align_content": null,
            "visibility": null,
            "align_self": null,
            "height": null,
            "min_height": null,
            "padding": null,
            "grid_auto_rows": null,
            "grid_gap": null,
            "max_width": null,
            "order": null,
            "_view_module_version": "1.2.0",
            "grid_template_areas": null,
            "object_position": null,
            "object_fit": null,
            "grid_auto_columns": null,
            "margin": null,
            "display": null,
            "left": null
          }
        },
        "2957b7ad8cd148298f80d2d270c413d7": {
          "model_module": "@jupyter-widgets/controls",
          "model_name": "FloatProgressModel",
          "state": {
            "_view_name": "ProgressView",
            "style": "IPY_MODEL_65720ef770bf438e976b5bc62faf233b",
            "_dom_classes": [],
            "description": "100%",
            "_model_name": "FloatProgressModel",
            "bar_style": "success",
            "max": 105,
            "_view_module": "@jupyter-widgets/controls",
            "_model_module_version": "1.5.0",
            "value": 105,
            "_view_count": null,
            "_view_module_version": "1.5.0",
            "orientation": "horizontal",
            "min": 0,
            "description_tooltip": null,
            "_model_module": "@jupyter-widgets/controls",
            "layout": "IPY_MODEL_46c7b4dc8f71450bac8775ddba312e4c"
          }
        },
        "302de2caf3144115a3a6986b00937710": {
          "model_module": "@jupyter-widgets/controls",
          "model_name": "HTMLModel",
          "state": {
            "_view_name": "HTMLView",
            "style": "IPY_MODEL_875bb30f912140b99e0cf882a4b79114",
            "_dom_classes": [],
            "description": "",
            "_model_name": "HTMLModel",
            "placeholder": "​",
            "_view_module": "@jupyter-widgets/controls",
            "_model_module_version": "1.5.0",
            "value": " 105/105 [00:35&lt;00:00,  2.99it/s, correct=61.31%, skipped=1.42%]",
            "_view_count": null,
            "_view_module_version": "1.5.0",
            "description_tooltip": null,
            "_model_module": "@jupyter-widgets/controls",
            "layout": "IPY_MODEL_deea86a09c5b488abce260be564e6c5c"
          }
        },
        "65720ef770bf438e976b5bc62faf233b": {
          "model_module": "@jupyter-widgets/controls",
          "model_name": "ProgressStyleModel",
          "state": {
            "_view_name": "StyleView",
            "_model_name": "ProgressStyleModel",
            "description_width": "initial",
            "_view_module": "@jupyter-widgets/base",
            "_model_module_version": "1.5.0",
            "_view_count": null,
            "_view_module_version": "1.2.0",
            "bar_color": null,
            "_model_module": "@jupyter-widgets/controls"
          }
        },
        "46c7b4dc8f71450bac8775ddba312e4c": {
          "model_module": "@jupyter-widgets/base",
          "model_name": "LayoutModel",
          "state": {
            "_view_name": "LayoutView",
            "grid_template_rows": null,
            "right": null,
            "justify_content": null,
            "_view_module": "@jupyter-widgets/base",
            "overflow": null,
            "_model_module_version": "1.2.0",
            "_view_count": null,
            "flex_flow": null,
            "width": null,
            "min_width": null,
            "border": null,
            "align_items": null,
            "bottom": null,
            "_model_module": "@jupyter-widgets/base",
            "top": null,
            "grid_column": null,
            "overflow_y": null,
            "overflow_x": null,
            "grid_auto_flow": null,
            "grid_area": null,
            "grid_template_columns": null,
            "flex": null,
            "_model_name": "LayoutModel",
            "justify_items": null,
            "grid_row": null,
            "max_height": null,
            "align_content": null,
            "visibility": null,
            "align_self": null,
            "height": null,
            "min_height": null,
            "padding": null,
            "grid_auto_rows": null,
            "grid_gap": null,
            "max_width": null,
            "order": null,
            "_view_module_version": "1.2.0",
            "grid_template_areas": null,
            "object_position": null,
            "object_fit": null,
            "grid_auto_columns": null,
            "margin": null,
            "display": null,
            "left": null
          }
        },
        "875bb30f912140b99e0cf882a4b79114": {
          "model_module": "@jupyter-widgets/controls",
          "model_name": "DescriptionStyleModel",
          "state": {
            "_view_name": "StyleView",
            "_model_name": "DescriptionStyleModel",
            "description_width": "",
            "_view_module": "@jupyter-widgets/base",
            "_model_module_version": "1.5.0",
            "_view_count": null,
            "_view_module_version": "1.2.0",
            "_model_module": "@jupyter-widgets/controls"
          }
        },
        "deea86a09c5b488abce260be564e6c5c": {
          "model_module": "@jupyter-widgets/base",
          "model_name": "LayoutModel",
          "state": {
            "_view_name": "LayoutView",
            "grid_template_rows": null,
            "right": null,
            "justify_content": null,
            "_view_module": "@jupyter-widgets/base",
            "overflow": null,
            "_model_module_version": "1.2.0",
            "_view_count": null,
            "flex_flow": null,
            "width": null,
            "min_width": null,
            "border": null,
            "align_items": null,
            "bottom": null,
            "_model_module": "@jupyter-widgets/base",
            "top": null,
            "grid_column": null,
            "overflow_y": null,
            "overflow_x": null,
            "grid_auto_flow": null,
            "grid_area": null,
            "grid_template_columns": null,
            "flex": null,
            "_model_name": "LayoutModel",
            "justify_items": null,
            "grid_row": null,
            "max_height": null,
            "align_content": null,
            "visibility": null,
            "align_self": null,
            "height": null,
            "min_height": null,
            "padding": null,
            "grid_auto_rows": null,
            "grid_gap": null,
            "max_width": null,
            "order": null,
            "_view_module_version": "1.2.0",
            "grid_template_areas": null,
            "object_position": null,
            "object_fit": null,
            "grid_auto_columns": null,
            "margin": null,
            "display": null,
            "left": null
          }
        },
        "ffe1a89dd49d477fb561a25e65679b4b": {
          "model_module": "@jupyter-widgets/controls",
          "model_name": "HBoxModel",
          "state": {
            "_view_name": "HBoxView",
            "_dom_classes": [],
            "_model_name": "HBoxModel",
            "_view_module": "@jupyter-widgets/controls",
            "_model_module_version": "1.5.0",
            "_view_count": null,
            "_view_module_version": "1.5.0",
            "box_style": "",
            "layout": "IPY_MODEL_809a436897e0436485a42b0eda4ba4c2",
            "_model_module": "@jupyter-widgets/controls",
            "children": [
              "IPY_MODEL_a2986c12182f494fa7588a70218ebb08",
              "IPY_MODEL_fd7674940bef49a9bf58a623cb37debd"
            ]
          }
        },
        "809a436897e0436485a42b0eda4ba4c2": {
          "model_module": "@jupyter-widgets/base",
          "model_name": "LayoutModel",
          "state": {
            "_view_name": "LayoutView",
            "grid_template_rows": null,
            "right": null,
            "justify_content": null,
            "_view_module": "@jupyter-widgets/base",
            "overflow": null,
            "_model_module_version": "1.2.0",
            "_view_count": null,
            "flex_flow": null,
            "width": null,
            "min_width": null,
            "border": null,
            "align_items": null,
            "bottom": null,
            "_model_module": "@jupyter-widgets/base",
            "top": null,
            "grid_column": null,
            "overflow_y": null,
            "overflow_x": null,
            "grid_auto_flow": null,
            "grid_area": null,
            "grid_template_columns": null,
            "flex": null,
            "_model_name": "LayoutModel",
            "justify_items": null,
            "grid_row": null,
            "max_height": null,
            "align_content": null,
            "visibility": null,
            "align_self": null,
            "height": null,
            "min_height": null,
            "padding": null,
            "grid_auto_rows": null,
            "grid_gap": null,
            "max_width": null,
            "order": null,
            "_view_module_version": "1.2.0",
            "grid_template_areas": null,
            "object_position": null,
            "object_fit": null,
            "grid_auto_columns": null,
            "margin": null,
            "display": null,
            "left": null
          }
        },
        "a2986c12182f494fa7588a70218ebb08": {
          "model_module": "@jupyter-widgets/controls",
          "model_name": "FloatProgressModel",
          "state": {
            "_view_name": "ProgressView",
            "style": "IPY_MODEL_941f25627b1544cd87493893f8df1f27",
            "_dom_classes": [],
            "description": "100%",
            "_model_name": "FloatProgressModel",
            "bar_style": "success",
            "max": 100,
            "_view_module": "@jupyter-widgets/controls",
            "_model_module_version": "1.5.0",
            "value": 100,
            "_view_count": null,
            "_view_module_version": "1.5.0",
            "orientation": "horizontal",
            "min": 0,
            "description_tooltip": null,
            "_model_module": "@jupyter-widgets/controls",
            "layout": "IPY_MODEL_e960e07a0f854abbad8fd72831552030"
          }
        },
        "fd7674940bef49a9bf58a623cb37debd": {
          "model_module": "@jupyter-widgets/controls",
          "model_name": "HTMLModel",
          "state": {
            "_view_name": "HTMLView",
            "style": "IPY_MODEL_df99da82ed0047aa90625ecb9c6800db",
            "_dom_classes": [],
            "description": "",
            "_model_name": "HTMLModel",
            "placeholder": "​",
            "_view_module": "@jupyter-widgets/controls",
            "_model_module_version": "1.5.0",
            "value": " 100/100 [00:17&lt;00:00,  5.63it/s, correct=56.94%, skipped=1.43%]",
            "_view_count": null,
            "_view_module_version": "1.5.0",
            "description_tooltip": null,
            "_model_module": "@jupyter-widgets/controls",
            "layout": "IPY_MODEL_ab92d2f12708407e97358e0338fcd09f"
          }
        },
        "941f25627b1544cd87493893f8df1f27": {
          "model_module": "@jupyter-widgets/controls",
          "model_name": "ProgressStyleModel",
          "state": {
            "_view_name": "StyleView",
            "_model_name": "ProgressStyleModel",
            "description_width": "initial",
            "_view_module": "@jupyter-widgets/base",
            "_model_module_version": "1.5.0",
            "_view_count": null,
            "_view_module_version": "1.2.0",
            "bar_color": null,
            "_model_module": "@jupyter-widgets/controls"
          }
        },
        "e960e07a0f854abbad8fd72831552030": {
          "model_module": "@jupyter-widgets/base",
          "model_name": "LayoutModel",
          "state": {
            "_view_name": "LayoutView",
            "grid_template_rows": null,
            "right": null,
            "justify_content": null,
            "_view_module": "@jupyter-widgets/base",
            "overflow": null,
            "_model_module_version": "1.2.0",
            "_view_count": null,
            "flex_flow": null,
            "width": null,
            "min_width": null,
            "border": null,
            "align_items": null,
            "bottom": null,
            "_model_module": "@jupyter-widgets/base",
            "top": null,
            "grid_column": null,
            "overflow_y": null,
            "overflow_x": null,
            "grid_auto_flow": null,
            "grid_area": null,
            "grid_template_columns": null,
            "flex": null,
            "_model_name": "LayoutModel",
            "justify_items": null,
            "grid_row": null,
            "max_height": null,
            "align_content": null,
            "visibility": null,
            "align_self": null,
            "height": null,
            "min_height": null,
            "padding": null,
            "grid_auto_rows": null,
            "grid_gap": null,
            "max_width": null,
            "order": null,
            "_view_module_version": "1.2.0",
            "grid_template_areas": null,
            "object_position": null,
            "object_fit": null,
            "grid_auto_columns": null,
            "margin": null,
            "display": null,
            "left": null
          }
        },
        "df99da82ed0047aa90625ecb9c6800db": {
          "model_module": "@jupyter-widgets/controls",
          "model_name": "DescriptionStyleModel",
          "state": {
            "_view_name": "StyleView",
            "_model_name": "DescriptionStyleModel",
            "description_width": "",
            "_view_module": "@jupyter-widgets/base",
            "_model_module_version": "1.5.0",
            "_view_count": null,
            "_view_module_version": "1.2.0",
            "_model_module": "@jupyter-widgets/controls"
          }
        },
        "ab92d2f12708407e97358e0338fcd09f": {
          "model_module": "@jupyter-widgets/base",
          "model_name": "LayoutModel",
          "state": {
            "_view_name": "LayoutView",
            "grid_template_rows": null,
            "right": null,
            "justify_content": null,
            "_view_module": "@jupyter-widgets/base",
            "overflow": null,
            "_model_module_version": "1.2.0",
            "_view_count": null,
            "flex_flow": null,
            "width": null,
            "min_width": null,
            "border": null,
            "align_items": null,
            "bottom": null,
            "_model_module": "@jupyter-widgets/base",
            "top": null,
            "grid_column": null,
            "overflow_y": null,
            "overflow_x": null,
            "grid_auto_flow": null,
            "grid_area": null,
            "grid_template_columns": null,
            "flex": null,
            "_model_name": "LayoutModel",
            "justify_items": null,
            "grid_row": null,
            "max_height": null,
            "align_content": null,
            "visibility": null,
            "align_self": null,
            "height": null,
            "min_height": null,
            "padding": null,
            "grid_auto_rows": null,
            "grid_gap": null,
            "max_width": null,
            "order": null,
            "_view_module_version": "1.2.0",
            "grid_template_areas": null,
            "object_position": null,
            "object_fit": null,
            "grid_auto_columns": null,
            "margin": null,
            "display": null,
            "left": null
          }
        },
        "6c22d62184ce4433bc6c45b3eeb2b95f": {
          "model_module": "@jupyter-widgets/controls",
          "model_name": "HBoxModel",
          "state": {
            "_view_name": "HBoxView",
            "_dom_classes": [],
            "_model_name": "HBoxModel",
            "_view_module": "@jupyter-widgets/controls",
            "_model_module_version": "1.5.0",
            "_view_count": null,
            "_view_module_version": "1.5.0",
            "box_style": "",
            "layout": "IPY_MODEL_4d18e93fb7b74a1b8334064beff2b4f5",
            "_model_module": "@jupyter-widgets/controls",
            "children": [
              "IPY_MODEL_1f36b26a1568464a8a4ea7d103ba0242",
              "IPY_MODEL_725f2b72be134b0e87a67eb7af28321f"
            ]
          }
        },
        "4d18e93fb7b74a1b8334064beff2b4f5": {
          "model_module": "@jupyter-widgets/base",
          "model_name": "LayoutModel",
          "state": {
            "_view_name": "LayoutView",
            "grid_template_rows": null,
            "right": null,
            "justify_content": null,
            "_view_module": "@jupyter-widgets/base",
            "overflow": null,
            "_model_module_version": "1.2.0",
            "_view_count": null,
            "flex_flow": null,
            "width": null,
            "min_width": null,
            "border": null,
            "align_items": null,
            "bottom": null,
            "_model_module": "@jupyter-widgets/base",
            "top": null,
            "grid_column": null,
            "overflow_y": null,
            "overflow_x": null,
            "grid_auto_flow": null,
            "grid_area": null,
            "grid_template_columns": null,
            "flex": null,
            "_model_name": "LayoutModel",
            "justify_items": null,
            "grid_row": null,
            "max_height": null,
            "align_content": null,
            "visibility": null,
            "align_self": null,
            "height": null,
            "min_height": null,
            "padding": null,
            "grid_auto_rows": null,
            "grid_gap": null,
            "max_width": null,
            "order": null,
            "_view_module_version": "1.2.0",
            "grid_template_areas": null,
            "object_position": null,
            "object_fit": null,
            "grid_auto_columns": null,
            "margin": null,
            "display": null,
            "left": null
          }
        },
        "1f36b26a1568464a8a4ea7d103ba0242": {
          "model_module": "@jupyter-widgets/controls",
          "model_name": "FloatProgressModel",
          "state": {
            "_view_name": "ProgressView",
            "style": "IPY_MODEL_fe5347bd046d49f7a793fc5b9558eaf5",
            "_dom_classes": [],
            "description": "100%",
            "_model_name": "FloatProgressModel",
            "bar_style": "success",
            "max": 105,
            "_view_module": "@jupyter-widgets/controls",
            "_model_module_version": "1.5.0",
            "value": 105,
            "_view_count": null,
            "_view_module_version": "1.5.0",
            "orientation": "horizontal",
            "min": 0,
            "description_tooltip": null,
            "_model_module": "@jupyter-widgets/controls",
            "layout": "IPY_MODEL_683d441e87c94550a0b088a8405147ca"
          }
        },
        "725f2b72be134b0e87a67eb7af28321f": {
          "model_module": "@jupyter-widgets/controls",
          "model_name": "HTMLModel",
          "state": {
            "_view_name": "HTMLView",
            "style": "IPY_MODEL_f614a05335cd4faabf1a92868117b38c",
            "_dom_classes": [],
            "description": "",
            "_model_name": "HTMLModel",
            "placeholder": "​",
            "_view_module": "@jupyter-widgets/controls",
            "_model_module_version": "1.5.0",
            "value": " 105/105 [02:42&lt;00:00,  1.55s/it, correct=56.41%, skipped=1.38%]",
            "_view_count": null,
            "_view_module_version": "1.5.0",
            "description_tooltip": null,
            "_model_module": "@jupyter-widgets/controls",
            "layout": "IPY_MODEL_ab2c56d0388940e4b2c5a7482b74b9cc"
          }
        },
        "fe5347bd046d49f7a793fc5b9558eaf5": {
          "model_module": "@jupyter-widgets/controls",
          "model_name": "ProgressStyleModel",
          "state": {
            "_view_name": "StyleView",
            "_model_name": "ProgressStyleModel",
            "description_width": "initial",
            "_view_module": "@jupyter-widgets/base",
            "_model_module_version": "1.5.0",
            "_view_count": null,
            "_view_module_version": "1.2.0",
            "bar_color": null,
            "_model_module": "@jupyter-widgets/controls"
          }
        },
        "683d441e87c94550a0b088a8405147ca": {
          "model_module": "@jupyter-widgets/base",
          "model_name": "LayoutModel",
          "state": {
            "_view_name": "LayoutView",
            "grid_template_rows": null,
            "right": null,
            "justify_content": null,
            "_view_module": "@jupyter-widgets/base",
            "overflow": null,
            "_model_module_version": "1.2.0",
            "_view_count": null,
            "flex_flow": null,
            "width": null,
            "min_width": null,
            "border": null,
            "align_items": null,
            "bottom": null,
            "_model_module": "@jupyter-widgets/base",
            "top": null,
            "grid_column": null,
            "overflow_y": null,
            "overflow_x": null,
            "grid_auto_flow": null,
            "grid_area": null,
            "grid_template_columns": null,
            "flex": null,
            "_model_name": "LayoutModel",
            "justify_items": null,
            "grid_row": null,
            "max_height": null,
            "align_content": null,
            "visibility": null,
            "align_self": null,
            "height": null,
            "min_height": null,
            "padding": null,
            "grid_auto_rows": null,
            "grid_gap": null,
            "max_width": null,
            "order": null,
            "_view_module_version": "1.2.0",
            "grid_template_areas": null,
            "object_position": null,
            "object_fit": null,
            "grid_auto_columns": null,
            "margin": null,
            "display": null,
            "left": null
          }
        },
        "f614a05335cd4faabf1a92868117b38c": {
          "model_module": "@jupyter-widgets/controls",
          "model_name": "DescriptionStyleModel",
          "state": {
            "_view_name": "StyleView",
            "_model_name": "DescriptionStyleModel",
            "description_width": "",
            "_view_module": "@jupyter-widgets/base",
            "_model_module_version": "1.5.0",
            "_view_count": null,
            "_view_module_version": "1.2.0",
            "_model_module": "@jupyter-widgets/controls"
          }
        },
        "ab2c56d0388940e4b2c5a7482b74b9cc": {
          "model_module": "@jupyter-widgets/base",
          "model_name": "LayoutModel",
          "state": {
            "_view_name": "LayoutView",
            "grid_template_rows": null,
            "right": null,
            "justify_content": null,
            "_view_module": "@jupyter-widgets/base",
            "overflow": null,
            "_model_module_version": "1.2.0",
            "_view_count": null,
            "flex_flow": null,
            "width": null,
            "min_width": null,
            "border": null,
            "align_items": null,
            "bottom": null,
            "_model_module": "@jupyter-widgets/base",
            "top": null,
            "grid_column": null,
            "overflow_y": null,
            "overflow_x": null,
            "grid_auto_flow": null,
            "grid_area": null,
            "grid_template_columns": null,
            "flex": null,
            "_model_name": "LayoutModel",
            "justify_items": null,
            "grid_row": null,
            "max_height": null,
            "align_content": null,
            "visibility": null,
            "align_self": null,
            "height": null,
            "min_height": null,
            "padding": null,
            "grid_auto_rows": null,
            "grid_gap": null,
            "max_width": null,
            "order": null,
            "_view_module_version": "1.2.0",
            "grid_template_areas": null,
            "object_position": null,
            "object_fit": null,
            "grid_auto_columns": null,
            "margin": null,
            "display": null,
            "left": null
          }
        },
        "e3be9f3ab78f42839529d6e3855de4a5": {
          "model_module": "@jupyter-widgets/controls",
          "model_name": "HBoxModel",
          "state": {
            "_view_name": "HBoxView",
            "_dom_classes": [],
            "_model_name": "HBoxModel",
            "_view_module": "@jupyter-widgets/controls",
            "_model_module_version": "1.5.0",
            "_view_count": null,
            "_view_module_version": "1.5.0",
            "box_style": "",
            "layout": "IPY_MODEL_57341b469d6644c0a39c09b239dfceaa",
            "_model_module": "@jupyter-widgets/controls",
            "children": [
              "IPY_MODEL_6ae1987b74714ad9bf07a2fd28a3c46a",
              "IPY_MODEL_85f0f59d8cb245378b9e729e7f78ec99"
            ]
          }
        },
        "57341b469d6644c0a39c09b239dfceaa": {
          "model_module": "@jupyter-widgets/base",
          "model_name": "LayoutModel",
          "state": {
            "_view_name": "LayoutView",
            "grid_template_rows": null,
            "right": null,
            "justify_content": null,
            "_view_module": "@jupyter-widgets/base",
            "overflow": null,
            "_model_module_version": "1.2.0",
            "_view_count": null,
            "flex_flow": null,
            "width": null,
            "min_width": null,
            "border": null,
            "align_items": null,
            "bottom": null,
            "_model_module": "@jupyter-widgets/base",
            "top": null,
            "grid_column": null,
            "overflow_y": null,
            "overflow_x": null,
            "grid_auto_flow": null,
            "grid_area": null,
            "grid_template_columns": null,
            "flex": null,
            "_model_name": "LayoutModel",
            "justify_items": null,
            "grid_row": null,
            "max_height": null,
            "align_content": null,
            "visibility": null,
            "align_self": null,
            "height": null,
            "min_height": null,
            "padding": null,
            "grid_auto_rows": null,
            "grid_gap": null,
            "max_width": null,
            "order": null,
            "_view_module_version": "1.2.0",
            "grid_template_areas": null,
            "object_position": null,
            "object_fit": null,
            "grid_auto_columns": null,
            "margin": null,
            "display": null,
            "left": null
          }
        },
        "6ae1987b74714ad9bf07a2fd28a3c46a": {
          "model_module": "@jupyter-widgets/controls",
          "model_name": "FloatProgressModel",
          "state": {
            "_view_name": "ProgressView",
            "style": "IPY_MODEL_8c8e7314da454159b555d90bafc18cfa",
            "_dom_classes": [],
            "description": "100%",
            "_model_name": "FloatProgressModel",
            "bar_style": "success",
            "max": 100,
            "_view_module": "@jupyter-widgets/controls",
            "_model_module_version": "1.5.0",
            "value": 100,
            "_view_count": null,
            "_view_module_version": "1.5.0",
            "orientation": "horizontal",
            "min": 0,
            "description_tooltip": null,
            "_model_module": "@jupyter-widgets/controls",
            "layout": "IPY_MODEL_886a4b15598b4ab495fccec7dc7c4790"
          }
        },
        "85f0f59d8cb245378b9e729e7f78ec99": {
          "model_module": "@jupyter-widgets/controls",
          "model_name": "HTMLModel",
          "state": {
            "_view_name": "HTMLView",
            "style": "IPY_MODEL_816ac7470fbd4f408757e59a992b4291",
            "_dom_classes": [],
            "description": "",
            "_model_name": "HTMLModel",
            "placeholder": "​",
            "_view_module": "@jupyter-widgets/controls",
            "_model_module_version": "1.5.0",
            "value": " 100/100 [00:38&lt;00:00,  2.59it/s, correct=52.86%, skipped=1.35%]",
            "_view_count": null,
            "_view_module_version": "1.5.0",
            "description_tooltip": null,
            "_model_module": "@jupyter-widgets/controls",
            "layout": "IPY_MODEL_986732a7672846498113b12f11ce9c92"
          }
        },
        "8c8e7314da454159b555d90bafc18cfa": {
          "model_module": "@jupyter-widgets/controls",
          "model_name": "ProgressStyleModel",
          "state": {
            "_view_name": "StyleView",
            "_model_name": "ProgressStyleModel",
            "description_width": "initial",
            "_view_module": "@jupyter-widgets/base",
            "_model_module_version": "1.5.0",
            "_view_count": null,
            "_view_module_version": "1.2.0",
            "bar_color": null,
            "_model_module": "@jupyter-widgets/controls"
          }
        },
        "886a4b15598b4ab495fccec7dc7c4790": {
          "model_module": "@jupyter-widgets/base",
          "model_name": "LayoutModel",
          "state": {
            "_view_name": "LayoutView",
            "grid_template_rows": null,
            "right": null,
            "justify_content": null,
            "_view_module": "@jupyter-widgets/base",
            "overflow": null,
            "_model_module_version": "1.2.0",
            "_view_count": null,
            "flex_flow": null,
            "width": null,
            "min_width": null,
            "border": null,
            "align_items": null,
            "bottom": null,
            "_model_module": "@jupyter-widgets/base",
            "top": null,
            "grid_column": null,
            "overflow_y": null,
            "overflow_x": null,
            "grid_auto_flow": null,
            "grid_area": null,
            "grid_template_columns": null,
            "flex": null,
            "_model_name": "LayoutModel",
            "justify_items": null,
            "grid_row": null,
            "max_height": null,
            "align_content": null,
            "visibility": null,
            "align_self": null,
            "height": null,
            "min_height": null,
            "padding": null,
            "grid_auto_rows": null,
            "grid_gap": null,
            "max_width": null,
            "order": null,
            "_view_module_version": "1.2.0",
            "grid_template_areas": null,
            "object_position": null,
            "object_fit": null,
            "grid_auto_columns": null,
            "margin": null,
            "display": null,
            "left": null
          }
        },
        "816ac7470fbd4f408757e59a992b4291": {
          "model_module": "@jupyter-widgets/controls",
          "model_name": "DescriptionStyleModel",
          "state": {
            "_view_name": "StyleView",
            "_model_name": "DescriptionStyleModel",
            "description_width": "",
            "_view_module": "@jupyter-widgets/base",
            "_model_module_version": "1.5.0",
            "_view_count": null,
            "_view_module_version": "1.2.0",
            "_model_module": "@jupyter-widgets/controls"
          }
        },
        "986732a7672846498113b12f11ce9c92": {
          "model_module": "@jupyter-widgets/base",
          "model_name": "LayoutModel",
          "state": {
            "_view_name": "LayoutView",
            "grid_template_rows": null,
            "right": null,
            "justify_content": null,
            "_view_module": "@jupyter-widgets/base",
            "overflow": null,
            "_model_module_version": "1.2.0",
            "_view_count": null,
            "flex_flow": null,
            "width": null,
            "min_width": null,
            "border": null,
            "align_items": null,
            "bottom": null,
            "_model_module": "@jupyter-widgets/base",
            "top": null,
            "grid_column": null,
            "overflow_y": null,
            "overflow_x": null,
            "grid_auto_flow": null,
            "grid_area": null,
            "grid_template_columns": null,
            "flex": null,
            "_model_name": "LayoutModel",
            "justify_items": null,
            "grid_row": null,
            "max_height": null,
            "align_content": null,
            "visibility": null,
            "align_self": null,
            "height": null,
            "min_height": null,
            "padding": null,
            "grid_auto_rows": null,
            "grid_gap": null,
            "max_width": null,
            "order": null,
            "_view_module_version": "1.2.0",
            "grid_template_areas": null,
            "object_position": null,
            "object_fit": null,
            "grid_auto_columns": null,
            "margin": null,
            "display": null,
            "left": null
          }
        },
        "74627f094b5248f8b00a19bc87c569d4": {
          "model_module": "@jupyter-widgets/controls",
          "model_name": "HBoxModel",
          "state": {
            "_view_name": "HBoxView",
            "_dom_classes": [],
            "_model_name": "HBoxModel",
            "_view_module": "@jupyter-widgets/controls",
            "_model_module_version": "1.5.0",
            "_view_count": null,
            "_view_module_version": "1.5.0",
            "box_style": "",
            "layout": "IPY_MODEL_6416f48435a44411b8a0c69f8d7339a1",
            "_model_module": "@jupyter-widgets/controls",
            "children": [
              "IPY_MODEL_f5ab4d10391d4d248897fda4162bd06c",
              "IPY_MODEL_d5c540ac7ba6426d8700132d98a66d8c"
            ]
          }
        },
        "6416f48435a44411b8a0c69f8d7339a1": {
          "model_module": "@jupyter-widgets/base",
          "model_name": "LayoutModel",
          "state": {
            "_view_name": "LayoutView",
            "grid_template_rows": null,
            "right": null,
            "justify_content": null,
            "_view_module": "@jupyter-widgets/base",
            "overflow": null,
            "_model_module_version": "1.2.0",
            "_view_count": null,
            "flex_flow": null,
            "width": null,
            "min_width": null,
            "border": null,
            "align_items": null,
            "bottom": null,
            "_model_module": "@jupyter-widgets/base",
            "top": null,
            "grid_column": null,
            "overflow_y": null,
            "overflow_x": null,
            "grid_auto_flow": null,
            "grid_area": null,
            "grid_template_columns": null,
            "flex": null,
            "_model_name": "LayoutModel",
            "justify_items": null,
            "grid_row": null,
            "max_height": null,
            "align_content": null,
            "visibility": null,
            "align_self": null,
            "height": null,
            "min_height": null,
            "padding": null,
            "grid_auto_rows": null,
            "grid_gap": null,
            "max_width": null,
            "order": null,
            "_view_module_version": "1.2.0",
            "grid_template_areas": null,
            "object_position": null,
            "object_fit": null,
            "grid_auto_columns": null,
            "margin": null,
            "display": null,
            "left": null
          }
        },
        "f5ab4d10391d4d248897fda4162bd06c": {
          "model_module": "@jupyter-widgets/controls",
          "model_name": "FloatProgressModel",
          "state": {
            "_view_name": "ProgressView",
            "style": "IPY_MODEL_12ecad436f8e4dac8af320c351ab196a",
            "_dom_classes": [],
            "description": "100%",
            "_model_name": "FloatProgressModel",
            "bar_style": "success",
            "max": 105,
            "_view_module": "@jupyter-widgets/controls",
            "_model_module_version": "1.5.0",
            "value": 105,
            "_view_count": null,
            "_view_module_version": "1.5.0",
            "orientation": "horizontal",
            "min": 0,
            "description_tooltip": null,
            "_model_module": "@jupyter-widgets/controls",
            "layout": "IPY_MODEL_2b112c2c80bc4e869ab079896079b655"
          }
        },
        "d5c540ac7ba6426d8700132d98a66d8c": {
          "model_module": "@jupyter-widgets/controls",
          "model_name": "HTMLModel",
          "state": {
            "_view_name": "HTMLView",
            "style": "IPY_MODEL_ce783f81cca246a193c3aa4450b5709f",
            "_dom_classes": [],
            "description": "",
            "_model_name": "HTMLModel",
            "placeholder": "​",
            "_view_module": "@jupyter-widgets/controls",
            "_model_module_version": "1.5.0",
            "value": " 105/105 [00:20&lt;00:00,  5.16it/s, correct=55.85%, skipped=1.34%]",
            "_view_count": null,
            "_view_module_version": "1.5.0",
            "description_tooltip": null,
            "_model_module": "@jupyter-widgets/controls",
            "layout": "IPY_MODEL_4a1b932956dd49d7a1d1f680e2be25c2"
          }
        },
        "12ecad436f8e4dac8af320c351ab196a": {
          "model_module": "@jupyter-widgets/controls",
          "model_name": "ProgressStyleModel",
          "state": {
            "_view_name": "StyleView",
            "_model_name": "ProgressStyleModel",
            "description_width": "initial",
            "_view_module": "@jupyter-widgets/base",
            "_model_module_version": "1.5.0",
            "_view_count": null,
            "_view_module_version": "1.2.0",
            "bar_color": null,
            "_model_module": "@jupyter-widgets/controls"
          }
        },
        "2b112c2c80bc4e869ab079896079b655": {
          "model_module": "@jupyter-widgets/base",
          "model_name": "LayoutModel",
          "state": {
            "_view_name": "LayoutView",
            "grid_template_rows": null,
            "right": null,
            "justify_content": null,
            "_view_module": "@jupyter-widgets/base",
            "overflow": null,
            "_model_module_version": "1.2.0",
            "_view_count": null,
            "flex_flow": null,
            "width": null,
            "min_width": null,
            "border": null,
            "align_items": null,
            "bottom": null,
            "_model_module": "@jupyter-widgets/base",
            "top": null,
            "grid_column": null,
            "overflow_y": null,
            "overflow_x": null,
            "grid_auto_flow": null,
            "grid_area": null,
            "grid_template_columns": null,
            "flex": null,
            "_model_name": "LayoutModel",
            "justify_items": null,
            "grid_row": null,
            "max_height": null,
            "align_content": null,
            "visibility": null,
            "align_self": null,
            "height": null,
            "min_height": null,
            "padding": null,
            "grid_auto_rows": null,
            "grid_gap": null,
            "max_width": null,
            "order": null,
            "_view_module_version": "1.2.0",
            "grid_template_areas": null,
            "object_position": null,
            "object_fit": null,
            "grid_auto_columns": null,
            "margin": null,
            "display": null,
            "left": null
          }
        },
        "ce783f81cca246a193c3aa4450b5709f": {
          "model_module": "@jupyter-widgets/controls",
          "model_name": "DescriptionStyleModel",
          "state": {
            "_view_name": "StyleView",
            "_model_name": "DescriptionStyleModel",
            "description_width": "",
            "_view_module": "@jupyter-widgets/base",
            "_model_module_version": "1.5.0",
            "_view_count": null,
            "_view_module_version": "1.2.0",
            "_model_module": "@jupyter-widgets/controls"
          }
        },
        "4a1b932956dd49d7a1d1f680e2be25c2": {
          "model_module": "@jupyter-widgets/base",
          "model_name": "LayoutModel",
          "state": {
            "_view_name": "LayoutView",
            "grid_template_rows": null,
            "right": null,
            "justify_content": null,
            "_view_module": "@jupyter-widgets/base",
            "overflow": null,
            "_model_module_version": "1.2.0",
            "_view_count": null,
            "flex_flow": null,
            "width": null,
            "min_width": null,
            "border": null,
            "align_items": null,
            "bottom": null,
            "_model_module": "@jupyter-widgets/base",
            "top": null,
            "grid_column": null,
            "overflow_y": null,
            "overflow_x": null,
            "grid_auto_flow": null,
            "grid_area": null,
            "grid_template_columns": null,
            "flex": null,
            "_model_name": "LayoutModel",
            "justify_items": null,
            "grid_row": null,
            "max_height": null,
            "align_content": null,
            "visibility": null,
            "align_self": null,
            "height": null,
            "min_height": null,
            "padding": null,
            "grid_auto_rows": null,
            "grid_gap": null,
            "max_width": null,
            "order": null,
            "_view_module_version": "1.2.0",
            "grid_template_areas": null,
            "object_position": null,
            "object_fit": null,
            "grid_auto_columns": null,
            "margin": null,
            "display": null,
            "left": null
          }
        },
        "83d9460aaf144e3497444fe876a16759": {
          "model_module": "@jupyter-widgets/controls",
          "model_name": "HBoxModel",
          "state": {
            "_view_name": "HBoxView",
            "_dom_classes": [],
            "_model_name": "HBoxModel",
            "_view_module": "@jupyter-widgets/controls",
            "_model_module_version": "1.5.0",
            "_view_count": null,
            "_view_module_version": "1.5.0",
            "box_style": "",
            "layout": "IPY_MODEL_6e4891bc9d7b4f7e97bf32ce94520267",
            "_model_module": "@jupyter-widgets/controls",
            "children": [
              "IPY_MODEL_c171d0306a4e4defa34938ce8761a9fc",
              "IPY_MODEL_29897379c3174cc59d3aa3c9c45c8d15"
            ]
          }
        },
        "6e4891bc9d7b4f7e97bf32ce94520267": {
          "model_module": "@jupyter-widgets/base",
          "model_name": "LayoutModel",
          "state": {
            "_view_name": "LayoutView",
            "grid_template_rows": null,
            "right": null,
            "justify_content": null,
            "_view_module": "@jupyter-widgets/base",
            "overflow": null,
            "_model_module_version": "1.2.0",
            "_view_count": null,
            "flex_flow": null,
            "width": null,
            "min_width": null,
            "border": null,
            "align_items": null,
            "bottom": null,
            "_model_module": "@jupyter-widgets/base",
            "top": null,
            "grid_column": null,
            "overflow_y": null,
            "overflow_x": null,
            "grid_auto_flow": null,
            "grid_area": null,
            "grid_template_columns": null,
            "flex": null,
            "_model_name": "LayoutModel",
            "justify_items": null,
            "grid_row": null,
            "max_height": null,
            "align_content": null,
            "visibility": null,
            "align_self": null,
            "height": null,
            "min_height": null,
            "padding": null,
            "grid_auto_rows": null,
            "grid_gap": null,
            "max_width": null,
            "order": null,
            "_view_module_version": "1.2.0",
            "grid_template_areas": null,
            "object_position": null,
            "object_fit": null,
            "grid_auto_columns": null,
            "margin": null,
            "display": null,
            "left": null
          }
        },
        "c171d0306a4e4defa34938ce8761a9fc": {
          "model_module": "@jupyter-widgets/controls",
          "model_name": "FloatProgressModel",
          "state": {
            "_view_name": "ProgressView",
            "style": "IPY_MODEL_3828d193659f44d7b57b3a358efa97b7",
            "_dom_classes": [],
            "description": "100%",
            "_model_name": "FloatProgressModel",
            "bar_style": "success",
            "max": 100,
            "_view_module": "@jupyter-widgets/controls",
            "_model_module_version": "1.5.0",
            "value": 100,
            "_view_count": null,
            "_view_module_version": "1.5.0",
            "orientation": "horizontal",
            "min": 0,
            "description_tooltip": null,
            "_model_module": "@jupyter-widgets/controls",
            "layout": "IPY_MODEL_78ad956764b74fcd8a5d8cc67bb9f0c6"
          }
        },
        "29897379c3174cc59d3aa3c9c45c8d15": {
          "model_module": "@jupyter-widgets/controls",
          "model_name": "HTMLModel",
          "state": {
            "_view_name": "HTMLView",
            "style": "IPY_MODEL_1eeed3c9b3c240a9a47389a069486c94",
            "_dom_classes": [],
            "description": "",
            "_model_name": "HTMLModel",
            "placeholder": "​",
            "_view_module": "@jupyter-widgets/controls",
            "_model_module_version": "1.5.0",
            "value": " 100/100 [01:47&lt;00:00,  1.08s/it, correct=52.92%, skipped=1.37%]",
            "_view_count": null,
            "_view_module_version": "1.5.0",
            "description_tooltip": null,
            "_model_module": "@jupyter-widgets/controls",
            "layout": "IPY_MODEL_301093b823594dba875b22255c9b8b85"
          }
        },
        "3828d193659f44d7b57b3a358efa97b7": {
          "model_module": "@jupyter-widgets/controls",
          "model_name": "ProgressStyleModel",
          "state": {
            "_view_name": "StyleView",
            "_model_name": "ProgressStyleModel",
            "description_width": "initial",
            "_view_module": "@jupyter-widgets/base",
            "_model_module_version": "1.5.0",
            "_view_count": null,
            "_view_module_version": "1.2.0",
            "bar_color": null,
            "_model_module": "@jupyter-widgets/controls"
          }
        },
        "78ad956764b74fcd8a5d8cc67bb9f0c6": {
          "model_module": "@jupyter-widgets/base",
          "model_name": "LayoutModel",
          "state": {
            "_view_name": "LayoutView",
            "grid_template_rows": null,
            "right": null,
            "justify_content": null,
            "_view_module": "@jupyter-widgets/base",
            "overflow": null,
            "_model_module_version": "1.2.0",
            "_view_count": null,
            "flex_flow": null,
            "width": null,
            "min_width": null,
            "border": null,
            "align_items": null,
            "bottom": null,
            "_model_module": "@jupyter-widgets/base",
            "top": null,
            "grid_column": null,
            "overflow_y": null,
            "overflow_x": null,
            "grid_auto_flow": null,
            "grid_area": null,
            "grid_template_columns": null,
            "flex": null,
            "_model_name": "LayoutModel",
            "justify_items": null,
            "grid_row": null,
            "max_height": null,
            "align_content": null,
            "visibility": null,
            "align_self": null,
            "height": null,
            "min_height": null,
            "padding": null,
            "grid_auto_rows": null,
            "grid_gap": null,
            "max_width": null,
            "order": null,
            "_view_module_version": "1.2.0",
            "grid_template_areas": null,
            "object_position": null,
            "object_fit": null,
            "grid_auto_columns": null,
            "margin": null,
            "display": null,
            "left": null
          }
        },
        "1eeed3c9b3c240a9a47389a069486c94": {
          "model_module": "@jupyter-widgets/controls",
          "model_name": "DescriptionStyleModel",
          "state": {
            "_view_name": "StyleView",
            "_model_name": "DescriptionStyleModel",
            "description_width": "",
            "_view_module": "@jupyter-widgets/base",
            "_model_module_version": "1.5.0",
            "_view_count": null,
            "_view_module_version": "1.2.0",
            "_model_module": "@jupyter-widgets/controls"
          }
        },
        "301093b823594dba875b22255c9b8b85": {
          "model_module": "@jupyter-widgets/base",
          "model_name": "LayoutModel",
          "state": {
            "_view_name": "LayoutView",
            "grid_template_rows": null,
            "right": null,
            "justify_content": null,
            "_view_module": "@jupyter-widgets/base",
            "overflow": null,
            "_model_module_version": "1.2.0",
            "_view_count": null,
            "flex_flow": null,
            "width": null,
            "min_width": null,
            "border": null,
            "align_items": null,
            "bottom": null,
            "_model_module": "@jupyter-widgets/base",
            "top": null,
            "grid_column": null,
            "overflow_y": null,
            "overflow_x": null,
            "grid_auto_flow": null,
            "grid_area": null,
            "grid_template_columns": null,
            "flex": null,
            "_model_name": "LayoutModel",
            "justify_items": null,
            "grid_row": null,
            "max_height": null,
            "align_content": null,
            "visibility": null,
            "align_self": null,
            "height": null,
            "min_height": null,
            "padding": null,
            "grid_auto_rows": null,
            "grid_gap": null,
            "max_width": null,
            "order": null,
            "_view_module_version": "1.2.0",
            "grid_template_areas": null,
            "object_position": null,
            "object_fit": null,
            "grid_auto_columns": null,
            "margin": null,
            "display": null,
            "left": null
          }
        },
        "c51395748f9d4c318732a979b3b48117": {
          "model_module": "@jupyter-widgets/controls",
          "model_name": "HBoxModel",
          "state": {
            "_view_name": "HBoxView",
            "_dom_classes": [],
            "_model_name": "HBoxModel",
            "_view_module": "@jupyter-widgets/controls",
            "_model_module_version": "1.5.0",
            "_view_count": null,
            "_view_module_version": "1.5.0",
            "box_style": "",
            "layout": "IPY_MODEL_38e8a6ccfd014f1b9a9c6c3a26cf7f84",
            "_model_module": "@jupyter-widgets/controls",
            "children": [
              "IPY_MODEL_279e80d93df4445f8a1f4652ea1c3e56",
              "IPY_MODEL_dc4cf61b4c924078b910c1ec47b60732"
            ]
          }
        },
        "38e8a6ccfd014f1b9a9c6c3a26cf7f84": {
          "model_module": "@jupyter-widgets/base",
          "model_name": "LayoutModel",
          "state": {
            "_view_name": "LayoutView",
            "grid_template_rows": null,
            "right": null,
            "justify_content": null,
            "_view_module": "@jupyter-widgets/base",
            "overflow": null,
            "_model_module_version": "1.2.0",
            "_view_count": null,
            "flex_flow": null,
            "width": null,
            "min_width": null,
            "border": null,
            "align_items": null,
            "bottom": null,
            "_model_module": "@jupyter-widgets/base",
            "top": null,
            "grid_column": null,
            "overflow_y": null,
            "overflow_x": null,
            "grid_auto_flow": null,
            "grid_area": null,
            "grid_template_columns": null,
            "flex": null,
            "_model_name": "LayoutModel",
            "justify_items": null,
            "grid_row": null,
            "max_height": null,
            "align_content": null,
            "visibility": null,
            "align_self": null,
            "height": null,
            "min_height": null,
            "padding": null,
            "grid_auto_rows": null,
            "grid_gap": null,
            "max_width": null,
            "order": null,
            "_view_module_version": "1.2.0",
            "grid_template_areas": null,
            "object_position": null,
            "object_fit": null,
            "grid_auto_columns": null,
            "margin": null,
            "display": null,
            "left": null
          }
        },
        "279e80d93df4445f8a1f4652ea1c3e56": {
          "model_module": "@jupyter-widgets/controls",
          "model_name": "FloatProgressModel",
          "state": {
            "_view_name": "ProgressView",
            "style": "IPY_MODEL_2bb3008e48ac4de7a3ae93c107cf3b7d",
            "_dom_classes": [],
            "description": "100%",
            "_model_name": "FloatProgressModel",
            "bar_style": "success",
            "max": 105,
            "_view_module": "@jupyter-widgets/controls",
            "_model_module_version": "1.5.0",
            "value": 105,
            "_view_count": null,
            "_view_module_version": "1.5.0",
            "orientation": "horizontal",
            "min": 0,
            "description_tooltip": null,
            "_model_module": "@jupyter-widgets/controls",
            "layout": "IPY_MODEL_8238ed6ca0f747d7912d3d4ff1521939"
          }
        },
        "dc4cf61b4c924078b910c1ec47b60732": {
          "model_module": "@jupyter-widgets/controls",
          "model_name": "HTMLModel",
          "state": {
            "_view_name": "HTMLView",
            "style": "IPY_MODEL_817008d2f5b940cf82cc13ae9b50c914",
            "_dom_classes": [],
            "description": "",
            "_model_name": "HTMLModel",
            "placeholder": "​",
            "_view_module": "@jupyter-widgets/controls",
            "_model_module_version": "1.5.0",
            "value": " 105/105 [00:35&lt;00:00,  2.94it/s, correct=57.04%, skipped=1.41%]",
            "_view_count": null,
            "_view_module_version": "1.5.0",
            "description_tooltip": null,
            "_model_module": "@jupyter-widgets/controls",
            "layout": "IPY_MODEL_d7c7be6338c74935bc208fa8d28bf0b4"
          }
        },
        "2bb3008e48ac4de7a3ae93c107cf3b7d": {
          "model_module": "@jupyter-widgets/controls",
          "model_name": "ProgressStyleModel",
          "state": {
            "_view_name": "StyleView",
            "_model_name": "ProgressStyleModel",
            "description_width": "initial",
            "_view_module": "@jupyter-widgets/base",
            "_model_module_version": "1.5.0",
            "_view_count": null,
            "_view_module_version": "1.2.0",
            "bar_color": null,
            "_model_module": "@jupyter-widgets/controls"
          }
        },
        "8238ed6ca0f747d7912d3d4ff1521939": {
          "model_module": "@jupyter-widgets/base",
          "model_name": "LayoutModel",
          "state": {
            "_view_name": "LayoutView",
            "grid_template_rows": null,
            "right": null,
            "justify_content": null,
            "_view_module": "@jupyter-widgets/base",
            "overflow": null,
            "_model_module_version": "1.2.0",
            "_view_count": null,
            "flex_flow": null,
            "width": null,
            "min_width": null,
            "border": null,
            "align_items": null,
            "bottom": null,
            "_model_module": "@jupyter-widgets/base",
            "top": null,
            "grid_column": null,
            "overflow_y": null,
            "overflow_x": null,
            "grid_auto_flow": null,
            "grid_area": null,
            "grid_template_columns": null,
            "flex": null,
            "_model_name": "LayoutModel",
            "justify_items": null,
            "grid_row": null,
            "max_height": null,
            "align_content": null,
            "visibility": null,
            "align_self": null,
            "height": null,
            "min_height": null,
            "padding": null,
            "grid_auto_rows": null,
            "grid_gap": null,
            "max_width": null,
            "order": null,
            "_view_module_version": "1.2.0",
            "grid_template_areas": null,
            "object_position": null,
            "object_fit": null,
            "grid_auto_columns": null,
            "margin": null,
            "display": null,
            "left": null
          }
        },
        "817008d2f5b940cf82cc13ae9b50c914": {
          "model_module": "@jupyter-widgets/controls",
          "model_name": "DescriptionStyleModel",
          "state": {
            "_view_name": "StyleView",
            "_model_name": "DescriptionStyleModel",
            "description_width": "",
            "_view_module": "@jupyter-widgets/base",
            "_model_module_version": "1.5.0",
            "_view_count": null,
            "_view_module_version": "1.2.0",
            "_model_module": "@jupyter-widgets/controls"
          }
        },
        "d7c7be6338c74935bc208fa8d28bf0b4": {
          "model_module": "@jupyter-widgets/base",
          "model_name": "LayoutModel",
          "state": {
            "_view_name": "LayoutView",
            "grid_template_rows": null,
            "right": null,
            "justify_content": null,
            "_view_module": "@jupyter-widgets/base",
            "overflow": null,
            "_model_module_version": "1.2.0",
            "_view_count": null,
            "flex_flow": null,
            "width": null,
            "min_width": null,
            "border": null,
            "align_items": null,
            "bottom": null,
            "_model_module": "@jupyter-widgets/base",
            "top": null,
            "grid_column": null,
            "overflow_y": null,
            "overflow_x": null,
            "grid_auto_flow": null,
            "grid_area": null,
            "grid_template_columns": null,
            "flex": null,
            "_model_name": "LayoutModel",
            "justify_items": null,
            "grid_row": null,
            "max_height": null,
            "align_content": null,
            "visibility": null,
            "align_self": null,
            "height": null,
            "min_height": null,
            "padding": null,
            "grid_auto_rows": null,
            "grid_gap": null,
            "max_width": null,
            "order": null,
            "_view_module_version": "1.2.0",
            "grid_template_areas": null,
            "object_position": null,
            "object_fit": null,
            "grid_auto_columns": null,
            "margin": null,
            "display": null,
            "left": null
          }
        },
        "feee9609203b458daa30df9561f6ea60": {
          "model_module": "@jupyter-widgets/controls",
          "model_name": "HBoxModel",
          "state": {
            "_view_name": "HBoxView",
            "_dom_classes": [],
            "_model_name": "HBoxModel",
            "_view_module": "@jupyter-widgets/controls",
            "_model_module_version": "1.5.0",
            "_view_count": null,
            "_view_module_version": "1.5.0",
            "box_style": "",
            "layout": "IPY_MODEL_559e467850214589ba0ef1252f9dc26b",
            "_model_module": "@jupyter-widgets/controls",
            "children": [
              "IPY_MODEL_a50cd4bf83b24b0298d24dcea7e64489",
              "IPY_MODEL_bd60520d93e743baa3fe633d4ce4511d"
            ]
          }
        },
        "559e467850214589ba0ef1252f9dc26b": {
          "model_module": "@jupyter-widgets/base",
          "model_name": "LayoutModel",
          "state": {
            "_view_name": "LayoutView",
            "grid_template_rows": null,
            "right": null,
            "justify_content": null,
            "_view_module": "@jupyter-widgets/base",
            "overflow": null,
            "_model_module_version": "1.2.0",
            "_view_count": null,
            "flex_flow": null,
            "width": null,
            "min_width": null,
            "border": null,
            "align_items": null,
            "bottom": null,
            "_model_module": "@jupyter-widgets/base",
            "top": null,
            "grid_column": null,
            "overflow_y": null,
            "overflow_x": null,
            "grid_auto_flow": null,
            "grid_area": null,
            "grid_template_columns": null,
            "flex": null,
            "_model_name": "LayoutModel",
            "justify_items": null,
            "grid_row": null,
            "max_height": null,
            "align_content": null,
            "visibility": null,
            "align_self": null,
            "height": null,
            "min_height": null,
            "padding": null,
            "grid_auto_rows": null,
            "grid_gap": null,
            "max_width": null,
            "order": null,
            "_view_module_version": "1.2.0",
            "grid_template_areas": null,
            "object_position": null,
            "object_fit": null,
            "grid_auto_columns": null,
            "margin": null,
            "display": null,
            "left": null
          }
        },
        "a50cd4bf83b24b0298d24dcea7e64489": {
          "model_module": "@jupyter-widgets/controls",
          "model_name": "FloatProgressModel",
          "state": {
            "_view_name": "ProgressView",
            "style": "IPY_MODEL_dae44c55344949eeb9fc235b2d6e27e9",
            "_dom_classes": [],
            "description": "100%",
            "_model_name": "FloatProgressModel",
            "bar_style": "success",
            "max": 100,
            "_view_module": "@jupyter-widgets/controls",
            "_model_module_version": "1.5.0",
            "value": 100,
            "_view_count": null,
            "_view_module_version": "1.5.0",
            "orientation": "horizontal",
            "min": 0,
            "description_tooltip": null,
            "_model_module": "@jupyter-widgets/controls",
            "layout": "IPY_MODEL_f9bdb77a47e4408f8d7fdcea79c30675"
          }
        },
        "bd60520d93e743baa3fe633d4ce4511d": {
          "model_module": "@jupyter-widgets/controls",
          "model_name": "HTMLModel",
          "state": {
            "_view_name": "HTMLView",
            "style": "IPY_MODEL_e0a39322594d4ccfb859f3dfcca7a590",
            "_dom_classes": [],
            "description": "",
            "_model_name": "HTMLModel",
            "placeholder": "​",
            "_view_module": "@jupyter-widgets/controls",
            "_model_module_version": "1.5.0",
            "value": " 100/100 [00:18&lt;00:00,  5.55it/s, correct=56.19%, skipped=1.41%]",
            "_view_count": null,
            "_view_module_version": "1.5.0",
            "description_tooltip": null,
            "_model_module": "@jupyter-widgets/controls",
            "layout": "IPY_MODEL_4de0012bc1a9481a91c24480d0f07f39"
          }
        },
        "dae44c55344949eeb9fc235b2d6e27e9": {
          "model_module": "@jupyter-widgets/controls",
          "model_name": "ProgressStyleModel",
          "state": {
            "_view_name": "StyleView",
            "_model_name": "ProgressStyleModel",
            "description_width": "initial",
            "_view_module": "@jupyter-widgets/base",
            "_model_module_version": "1.5.0",
            "_view_count": null,
            "_view_module_version": "1.2.0",
            "bar_color": null,
            "_model_module": "@jupyter-widgets/controls"
          }
        },
        "f9bdb77a47e4408f8d7fdcea79c30675": {
          "model_module": "@jupyter-widgets/base",
          "model_name": "LayoutModel",
          "state": {
            "_view_name": "LayoutView",
            "grid_template_rows": null,
            "right": null,
            "justify_content": null,
            "_view_module": "@jupyter-widgets/base",
            "overflow": null,
            "_model_module_version": "1.2.0",
            "_view_count": null,
            "flex_flow": null,
            "width": null,
            "min_width": null,
            "border": null,
            "align_items": null,
            "bottom": null,
            "_model_module": "@jupyter-widgets/base",
            "top": null,
            "grid_column": null,
            "overflow_y": null,
            "overflow_x": null,
            "grid_auto_flow": null,
            "grid_area": null,
            "grid_template_columns": null,
            "flex": null,
            "_model_name": "LayoutModel",
            "justify_items": null,
            "grid_row": null,
            "max_height": null,
            "align_content": null,
            "visibility": null,
            "align_self": null,
            "height": null,
            "min_height": null,
            "padding": null,
            "grid_auto_rows": null,
            "grid_gap": null,
            "max_width": null,
            "order": null,
            "_view_module_version": "1.2.0",
            "grid_template_areas": null,
            "object_position": null,
            "object_fit": null,
            "grid_auto_columns": null,
            "margin": null,
            "display": null,
            "left": null
          }
        },
        "e0a39322594d4ccfb859f3dfcca7a590": {
          "model_module": "@jupyter-widgets/controls",
          "model_name": "DescriptionStyleModel",
          "state": {
            "_view_name": "StyleView",
            "_model_name": "DescriptionStyleModel",
            "description_width": "",
            "_view_module": "@jupyter-widgets/base",
            "_model_module_version": "1.5.0",
            "_view_count": null,
            "_view_module_version": "1.2.0",
            "_model_module": "@jupyter-widgets/controls"
          }
        },
        "4de0012bc1a9481a91c24480d0f07f39": {
          "model_module": "@jupyter-widgets/base",
          "model_name": "LayoutModel",
          "state": {
            "_view_name": "LayoutView",
            "grid_template_rows": null,
            "right": null,
            "justify_content": null,
            "_view_module": "@jupyter-widgets/base",
            "overflow": null,
            "_model_module_version": "1.2.0",
            "_view_count": null,
            "flex_flow": null,
            "width": null,
            "min_width": null,
            "border": null,
            "align_items": null,
            "bottom": null,
            "_model_module": "@jupyter-widgets/base",
            "top": null,
            "grid_column": null,
            "overflow_y": null,
            "overflow_x": null,
            "grid_auto_flow": null,
            "grid_area": null,
            "grid_template_columns": null,
            "flex": null,
            "_model_name": "LayoutModel",
            "justify_items": null,
            "grid_row": null,
            "max_height": null,
            "align_content": null,
            "visibility": null,
            "align_self": null,
            "height": null,
            "min_height": null,
            "padding": null,
            "grid_auto_rows": null,
            "grid_gap": null,
            "max_width": null,
            "order": null,
            "_view_module_version": "1.2.0",
            "grid_template_areas": null,
            "object_position": null,
            "object_fit": null,
            "grid_auto_columns": null,
            "margin": null,
            "display": null,
            "left": null
          }
        },
        "9e0f1b69efa34b02ba94f6e2369d7cd8": {
          "model_module": "@jupyter-widgets/controls",
          "model_name": "HBoxModel",
          "state": {
            "_view_name": "HBoxView",
            "_dom_classes": [],
            "_model_name": "HBoxModel",
            "_view_module": "@jupyter-widgets/controls",
            "_model_module_version": "1.5.0",
            "_view_count": null,
            "_view_module_version": "1.5.0",
            "box_style": "",
            "layout": "IPY_MODEL_05c74a46032845b99748ca6e12c3233d",
            "_model_module": "@jupyter-widgets/controls",
            "children": [
              "IPY_MODEL_d36078fb6c5f458e919f45ef509cf92a",
              "IPY_MODEL_f7c8adb44653493c8eae39a990b70061"
            ]
          }
        },
        "05c74a46032845b99748ca6e12c3233d": {
          "model_module": "@jupyter-widgets/base",
          "model_name": "LayoutModel",
          "state": {
            "_view_name": "LayoutView",
            "grid_template_rows": null,
            "right": null,
            "justify_content": null,
            "_view_module": "@jupyter-widgets/base",
            "overflow": null,
            "_model_module_version": "1.2.0",
            "_view_count": null,
            "flex_flow": null,
            "width": null,
            "min_width": null,
            "border": null,
            "align_items": null,
            "bottom": null,
            "_model_module": "@jupyter-widgets/base",
            "top": null,
            "grid_column": null,
            "overflow_y": null,
            "overflow_x": null,
            "grid_auto_flow": null,
            "grid_area": null,
            "grid_template_columns": null,
            "flex": null,
            "_model_name": "LayoutModel",
            "justify_items": null,
            "grid_row": null,
            "max_height": null,
            "align_content": null,
            "visibility": null,
            "align_self": null,
            "height": null,
            "min_height": null,
            "padding": null,
            "grid_auto_rows": null,
            "grid_gap": null,
            "max_width": null,
            "order": null,
            "_view_module_version": "1.2.0",
            "grid_template_areas": null,
            "object_position": null,
            "object_fit": null,
            "grid_auto_columns": null,
            "margin": null,
            "display": null,
            "left": null
          }
        },
        "d36078fb6c5f458e919f45ef509cf92a": {
          "model_module": "@jupyter-widgets/controls",
          "model_name": "FloatProgressModel",
          "state": {
            "_view_name": "ProgressView",
            "style": "IPY_MODEL_3cabd39c71834578b3ab17ef123debb0",
            "_dom_classes": [],
            "description": "100%",
            "_model_name": "FloatProgressModel",
            "bar_style": "success",
            "max": 105,
            "_view_module": "@jupyter-widgets/controls",
            "_model_module_version": "1.5.0",
            "value": 105,
            "_view_count": null,
            "_view_module_version": "1.5.0",
            "orientation": "horizontal",
            "min": 0,
            "description_tooltip": null,
            "_model_module": "@jupyter-widgets/controls",
            "layout": "IPY_MODEL_95df70ed0eb047aeb892e25ae837f957"
          }
        },
        "f7c8adb44653493c8eae39a990b70061": {
          "model_module": "@jupyter-widgets/controls",
          "model_name": "HTMLModel",
          "state": {
            "_view_name": "HTMLView",
            "style": "IPY_MODEL_aa27efa75a284a0399352f5f34000166",
            "_dom_classes": [],
            "description": "",
            "_model_name": "HTMLModel",
            "placeholder": "​",
            "_view_module": "@jupyter-widgets/controls",
            "_model_module_version": "1.5.0",
            "value": " 105/105 [00:55&lt;00:00,  1.90it/s, correct=59.23%, skipped=1.40%]",
            "_view_count": null,
            "_view_module_version": "1.5.0",
            "description_tooltip": null,
            "_model_module": "@jupyter-widgets/controls",
            "layout": "IPY_MODEL_797228a5aa274e41a15fb88ea9bf2a6a"
          }
        },
        "3cabd39c71834578b3ab17ef123debb0": {
          "model_module": "@jupyter-widgets/controls",
          "model_name": "ProgressStyleModel",
          "state": {
            "_view_name": "StyleView",
            "_model_name": "ProgressStyleModel",
            "description_width": "initial",
            "_view_module": "@jupyter-widgets/base",
            "_model_module_version": "1.5.0",
            "_view_count": null,
            "_view_module_version": "1.2.0",
            "bar_color": null,
            "_model_module": "@jupyter-widgets/controls"
          }
        },
        "95df70ed0eb047aeb892e25ae837f957": {
          "model_module": "@jupyter-widgets/base",
          "model_name": "LayoutModel",
          "state": {
            "_view_name": "LayoutView",
            "grid_template_rows": null,
            "right": null,
            "justify_content": null,
            "_view_module": "@jupyter-widgets/base",
            "overflow": null,
            "_model_module_version": "1.2.0",
            "_view_count": null,
            "flex_flow": null,
            "width": null,
            "min_width": null,
            "border": null,
            "align_items": null,
            "bottom": null,
            "_model_module": "@jupyter-widgets/base",
            "top": null,
            "grid_column": null,
            "overflow_y": null,
            "overflow_x": null,
            "grid_auto_flow": null,
            "grid_area": null,
            "grid_template_columns": null,
            "flex": null,
            "_model_name": "LayoutModel",
            "justify_items": null,
            "grid_row": null,
            "max_height": null,
            "align_content": null,
            "visibility": null,
            "align_self": null,
            "height": null,
            "min_height": null,
            "padding": null,
            "grid_auto_rows": null,
            "grid_gap": null,
            "max_width": null,
            "order": null,
            "_view_module_version": "1.2.0",
            "grid_template_areas": null,
            "object_position": null,
            "object_fit": null,
            "grid_auto_columns": null,
            "margin": null,
            "display": null,
            "left": null
          }
        },
        "aa27efa75a284a0399352f5f34000166": {
          "model_module": "@jupyter-widgets/controls",
          "model_name": "DescriptionStyleModel",
          "state": {
            "_view_name": "StyleView",
            "_model_name": "DescriptionStyleModel",
            "description_width": "",
            "_view_module": "@jupyter-widgets/base",
            "_model_module_version": "1.5.0",
            "_view_count": null,
            "_view_module_version": "1.2.0",
            "_model_module": "@jupyter-widgets/controls"
          }
        },
        "797228a5aa274e41a15fb88ea9bf2a6a": {
          "model_module": "@jupyter-widgets/base",
          "model_name": "LayoutModel",
          "state": {
            "_view_name": "LayoutView",
            "grid_template_rows": null,
            "right": null,
            "justify_content": null,
            "_view_module": "@jupyter-widgets/base",
            "overflow": null,
            "_model_module_version": "1.2.0",
            "_view_count": null,
            "flex_flow": null,
            "width": null,
            "min_width": null,
            "border": null,
            "align_items": null,
            "bottom": null,
            "_model_module": "@jupyter-widgets/base",
            "top": null,
            "grid_column": null,
            "overflow_y": null,
            "overflow_x": null,
            "grid_auto_flow": null,
            "grid_area": null,
            "grid_template_columns": null,
            "flex": null,
            "_model_name": "LayoutModel",
            "justify_items": null,
            "grid_row": null,
            "max_height": null,
            "align_content": null,
            "visibility": null,
            "align_self": null,
            "height": null,
            "min_height": null,
            "padding": null,
            "grid_auto_rows": null,
            "grid_gap": null,
            "max_width": null,
            "order": null,
            "_view_module_version": "1.2.0",
            "grid_template_areas": null,
            "object_position": null,
            "object_fit": null,
            "grid_auto_columns": null,
            "margin": null,
            "display": null,
            "left": null
          }
        },
        "9de246bde43a49019b048e802d3056ac": {
          "model_module": "@jupyter-widgets/controls",
          "model_name": "HBoxModel",
          "state": {
            "_view_name": "HBoxView",
            "_dom_classes": [],
            "_model_name": "HBoxModel",
            "_view_module": "@jupyter-widgets/controls",
            "_model_module_version": "1.5.0",
            "_view_count": null,
            "_view_module_version": "1.5.0",
            "box_style": "",
            "layout": "IPY_MODEL_ca4d194122d14ee6be6da5aaedca2c1d",
            "_model_module": "@jupyter-widgets/controls",
            "children": [
              "IPY_MODEL_6cd1198be60849e5bcf2c61985971542",
              "IPY_MODEL_215261646fec41358522533a5b099c3f"
            ]
          }
        },
        "ca4d194122d14ee6be6da5aaedca2c1d": {
          "model_module": "@jupyter-widgets/base",
          "model_name": "LayoutModel",
          "state": {
            "_view_name": "LayoutView",
            "grid_template_rows": null,
            "right": null,
            "justify_content": null,
            "_view_module": "@jupyter-widgets/base",
            "overflow": null,
            "_model_module_version": "1.2.0",
            "_view_count": null,
            "flex_flow": null,
            "width": null,
            "min_width": null,
            "border": null,
            "align_items": null,
            "bottom": null,
            "_model_module": "@jupyter-widgets/base",
            "top": null,
            "grid_column": null,
            "overflow_y": null,
            "overflow_x": null,
            "grid_auto_flow": null,
            "grid_area": null,
            "grid_template_columns": null,
            "flex": null,
            "_model_name": "LayoutModel",
            "justify_items": null,
            "grid_row": null,
            "max_height": null,
            "align_content": null,
            "visibility": null,
            "align_self": null,
            "height": null,
            "min_height": null,
            "padding": null,
            "grid_auto_rows": null,
            "grid_gap": null,
            "max_width": null,
            "order": null,
            "_view_module_version": "1.2.0",
            "grid_template_areas": null,
            "object_position": null,
            "object_fit": null,
            "grid_auto_columns": null,
            "margin": null,
            "display": null,
            "left": null
          }
        },
        "6cd1198be60849e5bcf2c61985971542": {
          "model_module": "@jupyter-widgets/controls",
          "model_name": "FloatProgressModel",
          "state": {
            "_view_name": "ProgressView",
            "style": "IPY_MODEL_989e4e04c7144cadb10801624dfbd742",
            "_dom_classes": [],
            "description": "100%",
            "_model_name": "FloatProgressModel",
            "bar_style": "success",
            "max": 100,
            "_view_module": "@jupyter-widgets/controls",
            "_model_module_version": "1.5.0",
            "value": 100,
            "_view_count": null,
            "_view_module_version": "1.5.0",
            "orientation": "horizontal",
            "min": 0,
            "description_tooltip": null,
            "_model_module": "@jupyter-widgets/controls",
            "layout": "IPY_MODEL_384888312fce4251a8899799df36129a"
          }
        },
        "215261646fec41358522533a5b099c3f": {
          "model_module": "@jupyter-widgets/controls",
          "model_name": "HTMLModel",
          "state": {
            "_view_name": "HTMLView",
            "style": "IPY_MODEL_5f0334149d0d4212921db9d79fa2d083",
            "_dom_classes": [],
            "description": "",
            "_model_name": "HTMLModel",
            "placeholder": "​",
            "_view_module": "@jupyter-widgets/controls",
            "_model_module_version": "1.5.0",
            "value": " 100/100 [00:37&lt;00:00,  2.67it/s, correct=56.70%, skipped=1.43%]",
            "_view_count": null,
            "_view_module_version": "1.5.0",
            "description_tooltip": null,
            "_model_module": "@jupyter-widgets/controls",
            "layout": "IPY_MODEL_57cfe51d33cc4d6cab591744b1bf8a57"
          }
        },
        "989e4e04c7144cadb10801624dfbd742": {
          "model_module": "@jupyter-widgets/controls",
          "model_name": "ProgressStyleModel",
          "state": {
            "_view_name": "StyleView",
            "_model_name": "ProgressStyleModel",
            "description_width": "initial",
            "_view_module": "@jupyter-widgets/base",
            "_model_module_version": "1.5.0",
            "_view_count": null,
            "_view_module_version": "1.2.0",
            "bar_color": null,
            "_model_module": "@jupyter-widgets/controls"
          }
        },
        "384888312fce4251a8899799df36129a": {
          "model_module": "@jupyter-widgets/base",
          "model_name": "LayoutModel",
          "state": {
            "_view_name": "LayoutView",
            "grid_template_rows": null,
            "right": null,
            "justify_content": null,
            "_view_module": "@jupyter-widgets/base",
            "overflow": null,
            "_model_module_version": "1.2.0",
            "_view_count": null,
            "flex_flow": null,
            "width": null,
            "min_width": null,
            "border": null,
            "align_items": null,
            "bottom": null,
            "_model_module": "@jupyter-widgets/base",
            "top": null,
            "grid_column": null,
            "overflow_y": null,
            "overflow_x": null,
            "grid_auto_flow": null,
            "grid_area": null,
            "grid_template_columns": null,
            "flex": null,
            "_model_name": "LayoutModel",
            "justify_items": null,
            "grid_row": null,
            "max_height": null,
            "align_content": null,
            "visibility": null,
            "align_self": null,
            "height": null,
            "min_height": null,
            "padding": null,
            "grid_auto_rows": null,
            "grid_gap": null,
            "max_width": null,
            "order": null,
            "_view_module_version": "1.2.0",
            "grid_template_areas": null,
            "object_position": null,
            "object_fit": null,
            "grid_auto_columns": null,
            "margin": null,
            "display": null,
            "left": null
          }
        },
        "5f0334149d0d4212921db9d79fa2d083": {
          "model_module": "@jupyter-widgets/controls",
          "model_name": "DescriptionStyleModel",
          "state": {
            "_view_name": "StyleView",
            "_model_name": "DescriptionStyleModel",
            "description_width": "",
            "_view_module": "@jupyter-widgets/base",
            "_model_module_version": "1.5.0",
            "_view_count": null,
            "_view_module_version": "1.2.0",
            "_model_module": "@jupyter-widgets/controls"
          }
        },
        "57cfe51d33cc4d6cab591744b1bf8a57": {
          "model_module": "@jupyter-widgets/base",
          "model_name": "LayoutModel",
          "state": {
            "_view_name": "LayoutView",
            "grid_template_rows": null,
            "right": null,
            "justify_content": null,
            "_view_module": "@jupyter-widgets/base",
            "overflow": null,
            "_model_module_version": "1.2.0",
            "_view_count": null,
            "flex_flow": null,
            "width": null,
            "min_width": null,
            "border": null,
            "align_items": null,
            "bottom": null,
            "_model_module": "@jupyter-widgets/base",
            "top": null,
            "grid_column": null,
            "overflow_y": null,
            "overflow_x": null,
            "grid_auto_flow": null,
            "grid_area": null,
            "grid_template_columns": null,
            "flex": null,
            "_model_name": "LayoutModel",
            "justify_items": null,
            "grid_row": null,
            "max_height": null,
            "align_content": null,
            "visibility": null,
            "align_self": null,
            "height": null,
            "min_height": null,
            "padding": null,
            "grid_auto_rows": null,
            "grid_gap": null,
            "max_width": null,
            "order": null,
            "_view_module_version": "1.2.0",
            "grid_template_areas": null,
            "object_position": null,
            "object_fit": null,
            "grid_auto_columns": null,
            "margin": null,
            "display": null,
            "left": null
          }
        },
        "f6f3f9d91ea0417b8589886c4452ad94": {
          "model_module": "@jupyter-widgets/controls",
          "model_name": "HBoxModel",
          "state": {
            "_view_name": "HBoxView",
            "_dom_classes": [],
            "_model_name": "HBoxModel",
            "_view_module": "@jupyter-widgets/controls",
            "_model_module_version": "1.5.0",
            "_view_count": null,
            "_view_module_version": "1.5.0",
            "box_style": "",
            "layout": "IPY_MODEL_d784a6883f514d948018e31ef4822a37",
            "_model_module": "@jupyter-widgets/controls",
            "children": [
              "IPY_MODEL_d02e262e2aa147fd8c0adbc3d9f3100b",
              "IPY_MODEL_33570e157cad4450bc516f63fd59f860"
            ]
          }
        },
        "d784a6883f514d948018e31ef4822a37": {
          "model_module": "@jupyter-widgets/base",
          "model_name": "LayoutModel",
          "state": {
            "_view_name": "LayoutView",
            "grid_template_rows": null,
            "right": null,
            "justify_content": null,
            "_view_module": "@jupyter-widgets/base",
            "overflow": null,
            "_model_module_version": "1.2.0",
            "_view_count": null,
            "flex_flow": null,
            "width": null,
            "min_width": null,
            "border": null,
            "align_items": null,
            "bottom": null,
            "_model_module": "@jupyter-widgets/base",
            "top": null,
            "grid_column": null,
            "overflow_y": null,
            "overflow_x": null,
            "grid_auto_flow": null,
            "grid_area": null,
            "grid_template_columns": null,
            "flex": null,
            "_model_name": "LayoutModel",
            "justify_items": null,
            "grid_row": null,
            "max_height": null,
            "align_content": null,
            "visibility": null,
            "align_self": null,
            "height": null,
            "min_height": null,
            "padding": null,
            "grid_auto_rows": null,
            "grid_gap": null,
            "max_width": null,
            "order": null,
            "_view_module_version": "1.2.0",
            "grid_template_areas": null,
            "object_position": null,
            "object_fit": null,
            "grid_auto_columns": null,
            "margin": null,
            "display": null,
            "left": null
          }
        },
        "d02e262e2aa147fd8c0adbc3d9f3100b": {
          "model_module": "@jupyter-widgets/controls",
          "model_name": "FloatProgressModel",
          "state": {
            "_view_name": "ProgressView",
            "style": "IPY_MODEL_0a3068360ccb4085b417c8473d41e280",
            "_dom_classes": [],
            "description": "100%",
            "_model_name": "FloatProgressModel",
            "bar_style": "success",
            "max": 105,
            "_view_module": "@jupyter-widgets/controls",
            "_model_module_version": "1.5.0",
            "value": 105,
            "_view_count": null,
            "_view_module_version": "1.5.0",
            "orientation": "horizontal",
            "min": 0,
            "description_tooltip": null,
            "_model_module": "@jupyter-widgets/controls",
            "layout": "IPY_MODEL_796d4ea3e5bd4dee918df4c0c6a4e1f9"
          }
        },
        "33570e157cad4450bc516f63fd59f860": {
          "model_module": "@jupyter-widgets/controls",
          "model_name": "HTMLModel",
          "state": {
            "_view_name": "HTMLView",
            "style": "IPY_MODEL_b71aa25c701b47c4ab9ed464fb34ea78",
            "_dom_classes": [],
            "description": "",
            "_model_name": "HTMLModel",
            "placeholder": "​",
            "_view_module": "@jupyter-widgets/controls",
            "_model_module_version": "1.5.0",
            "value": " 105/105 [00:18&lt;00:00,  5.64it/s, correct=55.59%, skipped=1.40%]",
            "_view_count": null,
            "_view_module_version": "1.5.0",
            "description_tooltip": null,
            "_model_module": "@jupyter-widgets/controls",
            "layout": "IPY_MODEL_43a91d0c1f684f3db82f53ecc713b31a"
          }
        },
        "0a3068360ccb4085b417c8473d41e280": {
          "model_module": "@jupyter-widgets/controls",
          "model_name": "ProgressStyleModel",
          "state": {
            "_view_name": "StyleView",
            "_model_name": "ProgressStyleModel",
            "description_width": "initial",
            "_view_module": "@jupyter-widgets/base",
            "_model_module_version": "1.5.0",
            "_view_count": null,
            "_view_module_version": "1.2.0",
            "bar_color": null,
            "_model_module": "@jupyter-widgets/controls"
          }
        },
        "796d4ea3e5bd4dee918df4c0c6a4e1f9": {
          "model_module": "@jupyter-widgets/base",
          "model_name": "LayoutModel",
          "state": {
            "_view_name": "LayoutView",
            "grid_template_rows": null,
            "right": null,
            "justify_content": null,
            "_view_module": "@jupyter-widgets/base",
            "overflow": null,
            "_model_module_version": "1.2.0",
            "_view_count": null,
            "flex_flow": null,
            "width": null,
            "min_width": null,
            "border": null,
            "align_items": null,
            "bottom": null,
            "_model_module": "@jupyter-widgets/base",
            "top": null,
            "grid_column": null,
            "overflow_y": null,
            "overflow_x": null,
            "grid_auto_flow": null,
            "grid_area": null,
            "grid_template_columns": null,
            "flex": null,
            "_model_name": "LayoutModel",
            "justify_items": null,
            "grid_row": null,
            "max_height": null,
            "align_content": null,
            "visibility": null,
            "align_self": null,
            "height": null,
            "min_height": null,
            "padding": null,
            "grid_auto_rows": null,
            "grid_gap": null,
            "max_width": null,
            "order": null,
            "_view_module_version": "1.2.0",
            "grid_template_areas": null,
            "object_position": null,
            "object_fit": null,
            "grid_auto_columns": null,
            "margin": null,
            "display": null,
            "left": null
          }
        },
        "b71aa25c701b47c4ab9ed464fb34ea78": {
          "model_module": "@jupyter-widgets/controls",
          "model_name": "DescriptionStyleModel",
          "state": {
            "_view_name": "StyleView",
            "_model_name": "DescriptionStyleModel",
            "description_width": "",
            "_view_module": "@jupyter-widgets/base",
            "_model_module_version": "1.5.0",
            "_view_count": null,
            "_view_module_version": "1.2.0",
            "_model_module": "@jupyter-widgets/controls"
          }
        },
        "43a91d0c1f684f3db82f53ecc713b31a": {
          "model_module": "@jupyter-widgets/base",
          "model_name": "LayoutModel",
          "state": {
            "_view_name": "LayoutView",
            "grid_template_rows": null,
            "right": null,
            "justify_content": null,
            "_view_module": "@jupyter-widgets/base",
            "overflow": null,
            "_model_module_version": "1.2.0",
            "_view_count": null,
            "flex_flow": null,
            "width": null,
            "min_width": null,
            "border": null,
            "align_items": null,
            "bottom": null,
            "_model_module": "@jupyter-widgets/base",
            "top": null,
            "grid_column": null,
            "overflow_y": null,
            "overflow_x": null,
            "grid_auto_flow": null,
            "grid_area": null,
            "grid_template_columns": null,
            "flex": null,
            "_model_name": "LayoutModel",
            "justify_items": null,
            "grid_row": null,
            "max_height": null,
            "align_content": null,
            "visibility": null,
            "align_self": null,
            "height": null,
            "min_height": null,
            "padding": null,
            "grid_auto_rows": null,
            "grid_gap": null,
            "max_width": null,
            "order": null,
            "_view_module_version": "1.2.0",
            "grid_template_areas": null,
            "object_position": null,
            "object_fit": null,
            "grid_auto_columns": null,
            "margin": null,
            "display": null,
            "left": null
          }
        },
        "828cc4bc237c4c16928bc66f8b10cc0b": {
          "model_module": "@jupyter-widgets/controls",
          "model_name": "HBoxModel",
          "state": {
            "_view_name": "HBoxView",
            "_dom_classes": [],
            "_model_name": "HBoxModel",
            "_view_module": "@jupyter-widgets/controls",
            "_model_module_version": "1.5.0",
            "_view_count": null,
            "_view_module_version": "1.5.0",
            "box_style": "",
            "layout": "IPY_MODEL_ef0b3d58ed984946981e20a06c80715c",
            "_model_module": "@jupyter-widgets/controls",
            "children": [
              "IPY_MODEL_9192e40b6d30490cba8d6d111669a8d6",
              "IPY_MODEL_2f444f2ec51344e48b544150a96a8560"
            ]
          }
        },
        "ef0b3d58ed984946981e20a06c80715c": {
          "model_module": "@jupyter-widgets/base",
          "model_name": "LayoutModel",
          "state": {
            "_view_name": "LayoutView",
            "grid_template_rows": null,
            "right": null,
            "justify_content": null,
            "_view_module": "@jupyter-widgets/base",
            "overflow": null,
            "_model_module_version": "1.2.0",
            "_view_count": null,
            "flex_flow": null,
            "width": null,
            "min_width": null,
            "border": null,
            "align_items": null,
            "bottom": null,
            "_model_module": "@jupyter-widgets/base",
            "top": null,
            "grid_column": null,
            "overflow_y": null,
            "overflow_x": null,
            "grid_auto_flow": null,
            "grid_area": null,
            "grid_template_columns": null,
            "flex": null,
            "_model_name": "LayoutModel",
            "justify_items": null,
            "grid_row": null,
            "max_height": null,
            "align_content": null,
            "visibility": null,
            "align_self": null,
            "height": null,
            "min_height": null,
            "padding": null,
            "grid_auto_rows": null,
            "grid_gap": null,
            "max_width": null,
            "order": null,
            "_view_module_version": "1.2.0",
            "grid_template_areas": null,
            "object_position": null,
            "object_fit": null,
            "grid_auto_columns": null,
            "margin": null,
            "display": null,
            "left": null
          }
        },
        "9192e40b6d30490cba8d6d111669a8d6": {
          "model_module": "@jupyter-widgets/controls",
          "model_name": "FloatProgressModel",
          "state": {
            "_view_name": "ProgressView",
            "style": "IPY_MODEL_6d6f07fc34024476a2508315f386ca7c",
            "_dom_classes": [],
            "description": "100%",
            "_model_name": "FloatProgressModel",
            "bar_style": "success",
            "max": 100,
            "_view_module": "@jupyter-widgets/controls",
            "_model_module_version": "1.5.0",
            "value": 100,
            "_view_count": null,
            "_view_module_version": "1.5.0",
            "orientation": "horizontal",
            "min": 0,
            "description_tooltip": null,
            "_model_module": "@jupyter-widgets/controls",
            "layout": "IPY_MODEL_88e376f9dfba43dcb5b74ed2b66808e4"
          }
        },
        "2f444f2ec51344e48b544150a96a8560": {
          "model_module": "@jupyter-widgets/controls",
          "model_name": "HTMLModel",
          "state": {
            "_view_name": "HTMLView",
            "style": "IPY_MODEL_33c293d15187458d8474fe7cae765cab",
            "_dom_classes": [],
            "description": "",
            "_model_name": "HTMLModel",
            "placeholder": "​",
            "_view_module": "@jupyter-widgets/controls",
            "_model_module_version": "1.5.0",
            "value": " 100/100 [00:03&lt;00:00, 26.69it/s, correct=56.13%, skipped=1.42%]",
            "_view_count": null,
            "_view_module_version": "1.5.0",
            "description_tooltip": null,
            "_model_module": "@jupyter-widgets/controls",
            "layout": "IPY_MODEL_3aa2010f812940d7939fc1ea2aa913a7"
          }
        },
        "6d6f07fc34024476a2508315f386ca7c": {
          "model_module": "@jupyter-widgets/controls",
          "model_name": "ProgressStyleModel",
          "state": {
            "_view_name": "StyleView",
            "_model_name": "ProgressStyleModel",
            "description_width": "initial",
            "_view_module": "@jupyter-widgets/base",
            "_model_module_version": "1.5.0",
            "_view_count": null,
            "_view_module_version": "1.2.0",
            "bar_color": null,
            "_model_module": "@jupyter-widgets/controls"
          }
        },
        "88e376f9dfba43dcb5b74ed2b66808e4": {
          "model_module": "@jupyter-widgets/base",
          "model_name": "LayoutModel",
          "state": {
            "_view_name": "LayoutView",
            "grid_template_rows": null,
            "right": null,
            "justify_content": null,
            "_view_module": "@jupyter-widgets/base",
            "overflow": null,
            "_model_module_version": "1.2.0",
            "_view_count": null,
            "flex_flow": null,
            "width": null,
            "min_width": null,
            "border": null,
            "align_items": null,
            "bottom": null,
            "_model_module": "@jupyter-widgets/base",
            "top": null,
            "grid_column": null,
            "overflow_y": null,
            "overflow_x": null,
            "grid_auto_flow": null,
            "grid_area": null,
            "grid_template_columns": null,
            "flex": null,
            "_model_name": "LayoutModel",
            "justify_items": null,
            "grid_row": null,
            "max_height": null,
            "align_content": null,
            "visibility": null,
            "align_self": null,
            "height": null,
            "min_height": null,
            "padding": null,
            "grid_auto_rows": null,
            "grid_gap": null,
            "max_width": null,
            "order": null,
            "_view_module_version": "1.2.0",
            "grid_template_areas": null,
            "object_position": null,
            "object_fit": null,
            "grid_auto_columns": null,
            "margin": null,
            "display": null,
            "left": null
          }
        },
        "33c293d15187458d8474fe7cae765cab": {
          "model_module": "@jupyter-widgets/controls",
          "model_name": "DescriptionStyleModel",
          "state": {
            "_view_name": "StyleView",
            "_model_name": "DescriptionStyleModel",
            "description_width": "",
            "_view_module": "@jupyter-widgets/base",
            "_model_module_version": "1.5.0",
            "_view_count": null,
            "_view_module_version": "1.2.0",
            "_model_module": "@jupyter-widgets/controls"
          }
        },
        "3aa2010f812940d7939fc1ea2aa913a7": {
          "model_module": "@jupyter-widgets/base",
          "model_name": "LayoutModel",
          "state": {
            "_view_name": "LayoutView",
            "grid_template_rows": null,
            "right": null,
            "justify_content": null,
            "_view_module": "@jupyter-widgets/base",
            "overflow": null,
            "_model_module_version": "1.2.0",
            "_view_count": null,
            "flex_flow": null,
            "width": null,
            "min_width": null,
            "border": null,
            "align_items": null,
            "bottom": null,
            "_model_module": "@jupyter-widgets/base",
            "top": null,
            "grid_column": null,
            "overflow_y": null,
            "overflow_x": null,
            "grid_auto_flow": null,
            "grid_area": null,
            "grid_template_columns": null,
            "flex": null,
            "_model_name": "LayoutModel",
            "justify_items": null,
            "grid_row": null,
            "max_height": null,
            "align_content": null,
            "visibility": null,
            "align_self": null,
            "height": null,
            "min_height": null,
            "padding": null,
            "grid_auto_rows": null,
            "grid_gap": null,
            "max_width": null,
            "order": null,
            "_view_module_version": "1.2.0",
            "grid_template_areas": null,
            "object_position": null,
            "object_fit": null,
            "grid_auto_columns": null,
            "margin": null,
            "display": null,
            "left": null
          }
        },
        "8edbd92507dc48b4aa9298977491b664": {
          "model_module": "@jupyter-widgets/controls",
          "model_name": "HBoxModel",
          "state": {
            "_view_name": "HBoxView",
            "_dom_classes": [],
            "_model_name": "HBoxModel",
            "_view_module": "@jupyter-widgets/controls",
            "_model_module_version": "1.5.0",
            "_view_count": null,
            "_view_module_version": "1.5.0",
            "box_style": "",
            "layout": "IPY_MODEL_9667e709688744ae97826fc73ff91624",
            "_model_module": "@jupyter-widgets/controls",
            "children": [
              "IPY_MODEL_71832f04e3604fc08f259d363a92c0a8",
              "IPY_MODEL_9ff62fd5a2424a5f8e9bfa74e78635ff"
            ]
          }
        },
        "9667e709688744ae97826fc73ff91624": {
          "model_module": "@jupyter-widgets/base",
          "model_name": "LayoutModel",
          "state": {
            "_view_name": "LayoutView",
            "grid_template_rows": null,
            "right": null,
            "justify_content": null,
            "_view_module": "@jupyter-widgets/base",
            "overflow": null,
            "_model_module_version": "1.2.0",
            "_view_count": null,
            "flex_flow": null,
            "width": null,
            "min_width": null,
            "border": null,
            "align_items": null,
            "bottom": null,
            "_model_module": "@jupyter-widgets/base",
            "top": null,
            "grid_column": null,
            "overflow_y": null,
            "overflow_x": null,
            "grid_auto_flow": null,
            "grid_area": null,
            "grid_template_columns": null,
            "flex": null,
            "_model_name": "LayoutModel",
            "justify_items": null,
            "grid_row": null,
            "max_height": null,
            "align_content": null,
            "visibility": null,
            "align_self": null,
            "height": null,
            "min_height": null,
            "padding": null,
            "grid_auto_rows": null,
            "grid_gap": null,
            "max_width": null,
            "order": null,
            "_view_module_version": "1.2.0",
            "grid_template_areas": null,
            "object_position": null,
            "object_fit": null,
            "grid_auto_columns": null,
            "margin": null,
            "display": null,
            "left": null
          }
        },
        "71832f04e3604fc08f259d363a92c0a8": {
          "model_module": "@jupyter-widgets/controls",
          "model_name": "FloatProgressModel",
          "state": {
            "_view_name": "ProgressView",
            "style": "IPY_MODEL_b40f2628c3ef4f62890d2ba75b38f127",
            "_dom_classes": [],
            "description": "Computing transition probabilities: 100%",
            "_model_name": "FloatProgressModel",
            "bar_style": "success",
            "max": 18720,
            "_view_module": "@jupyter-widgets/controls",
            "_model_module_version": "1.5.0",
            "value": 18720,
            "_view_count": null,
            "_view_module_version": "1.5.0",
            "orientation": "horizontal",
            "min": 0,
            "description_tooltip": null,
            "_model_module": "@jupyter-widgets/controls",
            "layout": "IPY_MODEL_63fb49522f844e369a068adf620d2cdc"
          }
        },
        "9ff62fd5a2424a5f8e9bfa74e78635ff": {
          "model_module": "@jupyter-widgets/controls",
          "model_name": "HTMLModel",
          "state": {
            "_view_name": "HTMLView",
            "style": "IPY_MODEL_81b8792dd99f4b748bda216d13fe095a",
            "_dom_classes": [],
            "description": "",
            "_model_name": "HTMLModel",
            "placeholder": "​",
            "_view_module": "@jupyter-widgets/controls",
            "_model_module_version": "1.5.0",
            "value": " 18720/18720 [00:03&lt;00:00, 6085.21it/s]",
            "_view_count": null,
            "_view_module_version": "1.5.0",
            "description_tooltip": null,
            "_model_module": "@jupyter-widgets/controls",
            "layout": "IPY_MODEL_badbed08350a47a1b29652dda35779aa"
          }
        },
        "b40f2628c3ef4f62890d2ba75b38f127": {
          "model_module": "@jupyter-widgets/controls",
          "model_name": "ProgressStyleModel",
          "state": {
            "_view_name": "StyleView",
            "_model_name": "ProgressStyleModel",
            "description_width": "initial",
            "_view_module": "@jupyter-widgets/base",
            "_model_module_version": "1.5.0",
            "_view_count": null,
            "_view_module_version": "1.2.0",
            "bar_color": null,
            "_model_module": "@jupyter-widgets/controls"
          }
        },
        "63fb49522f844e369a068adf620d2cdc": {
          "model_module": "@jupyter-widgets/base",
          "model_name": "LayoutModel",
          "state": {
            "_view_name": "LayoutView",
            "grid_template_rows": null,
            "right": null,
            "justify_content": null,
            "_view_module": "@jupyter-widgets/base",
            "overflow": null,
            "_model_module_version": "1.2.0",
            "_view_count": null,
            "flex_flow": null,
            "width": null,
            "min_width": null,
            "border": null,
            "align_items": null,
            "bottom": null,
            "_model_module": "@jupyter-widgets/base",
            "top": null,
            "grid_column": null,
            "overflow_y": null,
            "overflow_x": null,
            "grid_auto_flow": null,
            "grid_area": null,
            "grid_template_columns": null,
            "flex": null,
            "_model_name": "LayoutModel",
            "justify_items": null,
            "grid_row": null,
            "max_height": null,
            "align_content": null,
            "visibility": null,
            "align_self": null,
            "height": null,
            "min_height": null,
            "padding": null,
            "grid_auto_rows": null,
            "grid_gap": null,
            "max_width": null,
            "order": null,
            "_view_module_version": "1.2.0",
            "grid_template_areas": null,
            "object_position": null,
            "object_fit": null,
            "grid_auto_columns": null,
            "margin": null,
            "display": null,
            "left": null
          }
        },
        "81b8792dd99f4b748bda216d13fe095a": {
          "model_module": "@jupyter-widgets/controls",
          "model_name": "DescriptionStyleModel",
          "state": {
            "_view_name": "StyleView",
            "_model_name": "DescriptionStyleModel",
            "description_width": "",
            "_view_module": "@jupyter-widgets/base",
            "_model_module_version": "1.5.0",
            "_view_count": null,
            "_view_module_version": "1.2.0",
            "_model_module": "@jupyter-widgets/controls"
          }
        },
        "badbed08350a47a1b29652dda35779aa": {
          "model_module": "@jupyter-widgets/base",
          "model_name": "LayoutModel",
          "state": {
            "_view_name": "LayoutView",
            "grid_template_rows": null,
            "right": null,
            "justify_content": null,
            "_view_module": "@jupyter-widgets/base",
            "overflow": null,
            "_model_module_version": "1.2.0",
            "_view_count": null,
            "flex_flow": null,
            "width": null,
            "min_width": null,
            "border": null,
            "align_items": null,
            "bottom": null,
            "_model_module": "@jupyter-widgets/base",
            "top": null,
            "grid_column": null,
            "overflow_y": null,
            "overflow_x": null,
            "grid_auto_flow": null,
            "grid_area": null,
            "grid_template_columns": null,
            "flex": null,
            "_model_name": "LayoutModel",
            "justify_items": null,
            "grid_row": null,
            "max_height": null,
            "align_content": null,
            "visibility": null,
            "align_self": null,
            "height": null,
            "min_height": null,
            "padding": null,
            "grid_auto_rows": null,
            "grid_gap": null,
            "max_width": null,
            "order": null,
            "_view_module_version": "1.2.0",
            "grid_template_areas": null,
            "object_position": null,
            "object_fit": null,
            "grid_auto_columns": null,
            "margin": null,
            "display": null,
            "left": null
          }
        }
      }
    }
  },
  "cells": [
    {
      "cell_type": "markdown",
      "metadata": {
        "id": "CucaOH1h5cKI"
      },
      "source": [
        "**Name : Anoop John Alocious**\n",
        "\n",
        "**ID : 31084354**\n",
        "\n",
        "**Kaggle ID : AJohn**"
      ]
    },
    {
      "cell_type": "markdown",
      "metadata": {
        "id": "xg53W_xdzuwk"
      },
      "source": [
        "**PART A - Recommender Systems**\n",
        "\n",
        "In this notebook, we will be focusing on building recommendation systems for flickr dataset. The data provided to us consists of different users and different items, for which each user has interacted with. Our main is to build a recommendation system that can help recommend relevant items to the users."
      ]
    },
    {
      "cell_type": "code",
      "metadata": {
        "colab": {
          "base_uri": "https://localhost:8080/"
        },
        "id": "48UY2-n3zrm5",
        "outputId": "3e847b38-ca14-4960-e939-994e3d25c174"
      },
      "source": [
        "from google.colab import drive\n",
        "drive.mount('/content/drive')"
      ],
      "execution_count": 1,
      "outputs": [
        {
          "output_type": "stream",
          "text": [
            "Mounted at /content/drive\n"
          ],
          "name": "stdout"
        }
      ]
    },
    {
      "cell_type": "code",
      "metadata": {
        "colab": {
          "base_uri": "https://localhost:8080/"
        },
        "id": "smvC71aTsykv",
        "outputId": "bae78929-e186-45cc-db87-467d66bbe997"
      },
      "source": [
        "# installing Implicit package \n",
        "!pip install implicit"
      ],
      "execution_count": 2,
      "outputs": [
        {
          "output_type": "stream",
          "text": [
            "Collecting implicit\n",
            "\u001b[?25l  Downloading https://files.pythonhosted.org/packages/bc/07/c0121884722d16e2c5beeb815f6b84b41cbf22e738e4075f1475be2791bc/implicit-0.4.4.tar.gz (1.1MB)\n",
            "\u001b[K     |████████████████████████████████| 1.1MB 5.4MB/s \n",
            "\u001b[?25hRequirement already satisfied: numpy in /usr/local/lib/python3.7/dist-packages (from implicit) (1.19.5)\n",
            "Requirement already satisfied: scipy>=0.16 in /usr/local/lib/python3.7/dist-packages (from implicit) (1.4.1)\n",
            "Requirement already satisfied: tqdm>=4.27 in /usr/local/lib/python3.7/dist-packages (from implicit) (4.41.1)\n",
            "Building wheels for collected packages: implicit\n",
            "  Building wheel for implicit (setup.py) ... \u001b[?25l\u001b[?25hdone\n",
            "  Created wheel for implicit: filename=implicit-0.4.4-cp37-cp37m-linux_x86_64.whl size=3406428 sha256=6a3ccf580f419d5071869211204ef68ea52e6125e222d0d2cfa820f585a0f0df\n",
            "  Stored in directory: /root/.cache/pip/wheels/bf/d4/ec/fd4f622fcbefb7521f149905295b2c26adecb23af38aa28217\n",
            "Successfully built implicit\n",
            "Installing collected packages: implicit\n",
            "Successfully installed implicit-0.4.4\n"
          ],
          "name": "stdout"
        }
      ]
    },
    {
      "cell_type": "markdown",
      "metadata": {
        "id": "g6Iez6OV0UiF"
      },
      "source": [
        "**Importing Libraries**"
      ]
    },
    {
      "cell_type": "code",
      "metadata": {
        "id": "7_-7vqCbVE4o"
      },
      "source": [
        "import pandas as pd\n",
        "import numpy as np\n",
        "from sklearn.preprocessing import MinMaxScaler\n",
        "from sklearn import metrics\n",
        "import scipy.sparse as sparse\n",
        "import implicit"
      ],
      "execution_count": 4,
      "outputs": []
    },
    {
      "cell_type": "markdown",
      "metadata": {
        "id": "W4uFPg1BLAeD"
      },
      "source": [
        "**Reading All the files**\n"
      ]
    },
    {
      "cell_type": "code",
      "metadata": {
        "id": "ytO_ZTDAUnFY"
      },
      "source": [
        "train = pd.read_csv('flickr_train_data.csv')\n",
        "item_features = pd.read_csv('flickr_item_fea.csv')\n",
        "links = pd.read_csv('flickr_links.csv')\n",
        "usr_features = pd.read_csv('flickr_user_fea.csv')\n",
        "test = pd.read_csv('flickr_test_data.csv')\n",
        "validation_set = pd.read_csv('flickr_validation_data.csv')"
      ],
      "execution_count": 5,
      "outputs": []
    },
    {
      "cell_type": "markdown",
      "metadata": {
        "id": "JiQ826JgLF4g"
      },
      "source": [
        "**Inspecting the training data**"
      ]
    },
    {
      "cell_type": "code",
      "metadata": {
        "colab": {
          "base_uri": "https://localhost:8080/",
          "height": 195
        },
        "id": "AYDO19JrY2cH",
        "outputId": "7bade7ec-7181-45fc-cf33-47ef1e85a1e1"
      },
      "source": [
        "train.head(5)"
      ],
      "execution_count": 6,
      "outputs": [
        {
          "output_type": "execute_result",
          "data": {
            "text/html": [
              "<div>\n",
              "<style scoped>\n",
              "    .dataframe tbody tr th:only-of-type {\n",
              "        vertical-align: middle;\n",
              "    }\n",
              "\n",
              "    .dataframe tbody tr th {\n",
              "        vertical-align: top;\n",
              "    }\n",
              "\n",
              "    .dataframe thead th {\n",
              "        text-align: right;\n",
              "    }\n",
              "</style>\n",
              "<table border=\"1\" class=\"dataframe\">\n",
              "  <thead>\n",
              "    <tr style=\"text-align: right;\">\n",
              "      <th></th>\n",
              "      <th>user_id</th>\n",
              "      <th>item_id</th>\n",
              "      <th>rating</th>\n",
              "    </tr>\n",
              "  </thead>\n",
              "  <tbody>\n",
              "    <tr>\n",
              "      <th>0</th>\n",
              "      <td>0</td>\n",
              "      <td>0</td>\n",
              "      <td>1</td>\n",
              "    </tr>\n",
              "    <tr>\n",
              "      <th>1</th>\n",
              "      <td>0</td>\n",
              "      <td>1</td>\n",
              "      <td>1</td>\n",
              "    </tr>\n",
              "    <tr>\n",
              "      <th>2</th>\n",
              "      <td>0</td>\n",
              "      <td>2</td>\n",
              "      <td>1</td>\n",
              "    </tr>\n",
              "    <tr>\n",
              "      <th>3</th>\n",
              "      <td>0</td>\n",
              "      <td>3</td>\n",
              "      <td>1</td>\n",
              "    </tr>\n",
              "    <tr>\n",
              "      <th>4</th>\n",
              "      <td>0</td>\n",
              "      <td>4</td>\n",
              "      <td>1</td>\n",
              "    </tr>\n",
              "  </tbody>\n",
              "</table>\n",
              "</div>"
            ],
            "text/plain": [
              "   user_id  item_id  rating\n",
              "0        0        0       1\n",
              "1        0        1       1\n",
              "2        0        2       1\n",
              "3        0        3       1\n",
              "4        0        4       1"
            ]
          },
          "metadata": {
            "tags": []
          },
          "execution_count": 6
        }
      ]
    },
    {
      "cell_type": "markdown",
      "metadata": {
        "id": "8iQjAO8ELOGR"
      },
      "source": [
        "**Checking for Duplicates & Item value counts**\n",
        "\n",
        "We will be dropping the duplicates in the training set, if any found. And just for curiousity, we would like to check the item that was liked by most users."
      ]
    },
    {
      "cell_type": "code",
      "metadata": {
        "colab": {
          "base_uri": "https://localhost:8080/"
        },
        "id": "TF1vkdP1VIu3",
        "outputId": "04a56f03-bff4-47b4-fbe4-7cd9b2e5d310"
      },
      "source": [
        "train = train.drop_duplicates()\n",
        "train['item_id'].value_counts()"
      ],
      "execution_count": 7,
      "outputs": [
        {
          "output_type": "execute_result",
          "data": {
            "text/plain": [
              "49      110\n",
              "2486    101\n",
              "3990     91\n",
              "774      85\n",
              "1429     79\n",
              "       ... \n",
              "2511      4\n",
              "3716      4\n",
              "829       4\n",
              "2540      4\n",
              "2922      4\n",
              "Name: item_id, Length: 9004, dtype: int64"
            ]
          },
          "metadata": {
            "tags": []
          },
          "execution_count": 7
        }
      ]
    },
    {
      "cell_type": "code",
      "metadata": {
        "colab": {
          "base_uri": "https://localhost:8080/"
        },
        "id": "Sbv0r_j1IUma",
        "outputId": "5bd40f83-37d1-42b5-81e9-4e2ea2831b3a"
      },
      "source": [
        "train.dtypes"
      ],
      "execution_count": 8,
      "outputs": [
        {
          "output_type": "execute_result",
          "data": {
            "text/plain": [
              "user_id    int64\n",
              "item_id    int64\n",
              "rating     int64\n",
              "dtype: object"
            ]
          },
          "metadata": {
            "tags": []
          },
          "execution_count": 8
        }
      ]
    },
    {
      "cell_type": "markdown",
      "metadata": {
        "id": "gODC_R_9L-gJ"
      },
      "source": [
        "**Creating Sparse Matrices**\n",
        "\n",
        "In this step, we will creating user-item and item-user interaction matrix. We will use the user-item interaction matrix to build the model, whereas using the latter will be used for the recommending step."
      ]
    },
    {
      "cell_type": "code",
      "metadata": {
        "id": "Buj_O-ahfK2b"
      },
      "source": [
        "# creating item-user interaction matrix\n",
        "sparse_item_user = sparse.csr_matrix((train['rating'].astype(float), (train['item_id'], train['user_id'])))\n",
        "\n",
        "# creating user-item interaction matrix\n",
        "sparse_user_item = sparse.csr_matrix((train['rating'].astype(float), (train['user_id'], train['item_id'])))"
      ],
      "execution_count": 9,
      "outputs": []
    },
    {
      "cell_type": "code",
      "metadata": {
        "colab": {
          "base_uri": "https://localhost:8080/"
        },
        "id": "cYlYNyZikNv6",
        "outputId": "85416c52-59df-4fa6-a33e-bb52ccd744d8"
      },
      "source": [
        "sparse_item_user"
      ],
      "execution_count": 10,
      "outputs": [
        {
          "output_type": "execute_result",
          "data": {
            "text/plain": [
              "<9004x3466 sparse matrix of type '<class 'numpy.float64'>'\n",
              "\twith 110129 stored elements in Compressed Sparse Row format>"
            ]
          },
          "metadata": {
            "tags": []
          },
          "execution_count": 10
        }
      ]
    },
    {
      "cell_type": "code",
      "metadata": {
        "colab": {
          "base_uri": "https://localhost:8080/"
        },
        "id": "L45QhgHrkN2G",
        "outputId": "5e4f432a-643b-4fb2-f13c-f40bf1ed3c1d"
      },
      "source": [
        "sparse_user_item"
      ],
      "execution_count": 11,
      "outputs": [
        {
          "output_type": "execute_result",
          "data": {
            "text/plain": [
              "<3466x9004 sparse matrix of type '<class 'numpy.float64'>'\n",
              "\twith 110129 stored elements in Compressed Sparse Row format>"
            ]
          },
          "metadata": {
            "tags": []
          },
          "execution_count": 11
        }
      ]
    },
    {
      "cell_type": "markdown",
      "metadata": {
        "id": "D85YvD7GMy4T"
      },
      "source": [
        "**DCG AND NDCG Calculation**\n",
        "\n",
        "The metric used to evaluate model performance is the Normalized Discounted Cumulative Gain. We will be mainly using this function for the hyper-parameter tuning step, where we will tune all the hyper parameters. \n",
        "NDCG is the ratio of a users DCG score over the ideal ranking of the DCG score."
      ]
    },
    {
      "cell_type": "code",
      "metadata": {
        "id": "bgSAFxyZqpqA"
      },
      "source": [
        "import math\n",
        "\n",
        "# computing ndcg score for the validation item \n",
        "def ndcg_score(rec_list, valid_item):\n",
        "  try:\n",
        "    i = rec_list.index(valid_item)\n",
        "    ndcg = math.log(2)/ math.log(i+2)\n",
        "  except ValueError:\n",
        "    ndcg = 0.0\n",
        "  return ndcg"
      ],
      "execution_count": 12,
      "outputs": []
    },
    {
      "cell_type": "markdown",
      "metadata": {
        "id": "ULOvfnY9OlQ3"
      },
      "source": [
        "**Creating the Recommend Function**\n",
        "\n",
        "This function is used to create a recommended list of items for each user. It returns the item_id based on the sorted values of the dot product of the user and the item-user matrix. "
      ]
    },
    {
      "cell_type": "code",
      "metadata": {
        "id": "YvQaqNnWqraG"
      },
      "source": [
        "def recommend(person_id, sparse_matrix, person_vecs, content_vecs):\n",
        "    # Get the interactions scores from the sparse person content matrix\n",
        "    person_interactions = sparse_matrix[person_id,:].toarray()\n",
        "    #print(person_interactions)\n",
        "    person_interactions = person_interactions.reshape(-1) + 1\n",
        "    person_interactions[person_interactions > 1] = 0\n",
        "    rec_vector = person_vecs[person_id,:].dot(content_vecs.T).toarray()\n",
        "    # Scale this recommendation vector between 0 and 1\n",
        "    min_max = MinMaxScaler()\n",
        "    rec_vector_scaled = min_max.fit_transform(rec_vector.reshape(-1,1))[:,0]\n",
        "    # Content already interacted have their recommendation multiplied by zero\n",
        "    recommend_vector = person_interactions * rec_vector_scaled\n",
        "    # Sort the indices of the content into order of best recommendations\n",
        "    content_idx = np.argsort(recommend_vector)[::-1]\n",
        "    # returning the sorted list of recommendations\n",
        "    return content_idx"
      ],
      "execution_count": 13,
      "outputs": []
    },
    {
      "cell_type": "markdown",
      "metadata": {
        "id": "q3FzQM8DiEqc"
      },
      "source": [
        "**Alternating Least Squares**\n",
        "\n",
        "Matrix Factorization is a method to generate latent variables when multiplying 2 different sparse matrices. In Collaborative Filtering, this is exactly what we do, as in, we take the users and items matrices, and we tend to identify the relationship between the users and items. For our task, using the inputs of the users rating for each item, we would like to recommend new items to the user from a candidate list of items.\n",
        "\n",
        "The dot product of user and item matrix can generate the rating matrix, while the user matrix is the shape of k (users) * f (features) and the item matrix is the shape of j(items) * f (features). From user’s and item’s matrices, we can identify the relationship where in our case, it is whether the user has liked the photo or not.\n",
        "\n",
        "The alternating least squares (ALS) algorithm factorizes a given matrix S into two factor matrices U and V such that S ≈ U(Transpose) * V."
      ]
    },
    {
      "cell_type": "markdown",
      "metadata": {
        "id": "KoCsKDvRP7DU"
      },
      "source": [
        "**Hyper Parameter Tuning**\n",
        "\n",
        "In this step, we will tune the hyper parameters for different models using the function below.\n",
        "We have used different values for alpha, number of factors, and regularization values & iterations.\n",
        "We will be tuning the hyper parameters based on the validation set, and we will compute the NDCG score for each result. Based on the top NDCG score, we will finalize the best parameters for our model."
      ]
    },
    {
      "cell_type": "code",
      "metadata": {
        "id": "02k2XASCj7ik"
      },
      "source": [
        "# parameter tuning\n",
        "from collections import defaultdict\n",
        "\n",
        "def hyper_parameter_tuning(model_type):\n",
        "  \"\"\"model_type: ALS, LMF, BPS\"\"\"\n",
        "  best_params = defaultdict(list)\n",
        "  users = set(train.user_id.tolist())\n",
        "  #column_names = [\"user_id\", \"item_id\"]\n",
        "  alpha_val = [25,50]\n",
        "  factors = [7,8,10]\n",
        "  reg_val = [0.1]\n",
        "  iterations = [100,105]\n",
        "  for alpha in alpha_val:\n",
        "    #df = pd.DataFrame(columns = column_names)\n",
        "    for fac in factors:\n",
        "      for values in reg_val:\n",
        "        for iter in iterations:\n",
        "          data = (sparse_item_user * alpha).astype('double')\n",
        "          data[1,:].todense()\n",
        "          if (model_type == 'ALS'):\n",
        "            model = implicit.als.AlternatingLeastSquares(factors=fac, regularization=values, iterations=iter, use_gpu = False)\n",
        "          elif (model_type == 'LMF'):\n",
        "            model = implicit.lmf.LogisticMatrixFactorization(factors=fac, regularization=values, iterations=iter, use_gpu = False)\n",
        "          else:\n",
        "            model = implicit.bpr.BayesianPersonalizedRanking(factors=fac, regularization=values, iterations=iter, use_gpu = False)\n",
        "          model.fit(data)\n",
        "          person_vecs = sparse.csr_matrix(model.user_factors)\n",
        "          content_vecs = sparse.csr_matrix(model.item_factors)\n",
        "          score_list = []\n",
        "          for i in range(0, len(users)):\n",
        "      #print(i)\n",
        "            x = recommend(i, sparse_user_item, person_vecs, content_vecs)[:15]\n",
        "            y = validation_set.loc[validation_set['user_id'] == i,'item_id'].tolist()[0]\n",
        "            #c = [0] * 15\n",
        "            \n",
        "            score = ndcg_score(list(x), y)\n",
        "            score_list.append(score)\n",
        "          print(len(score_list))\n",
        "          mean_dcg = sum(score_list)/len(score_list)\n",
        "          best_params['alpha'].append(alpha)\n",
        "          best_params['factors'].append(fac)\n",
        "          best_params['reg'].append(values)\n",
        "          best_params['iterations'].append(iter)\n",
        "          best_params['avg_ndcg'].append(mean_dcg)\n",
        "  return best_params"
      ],
      "execution_count": 69,
      "outputs": []
    },
    {
      "cell_type": "code",
      "metadata": {
        "colab": {
          "base_uri": "https://localhost:8080/",
          "height": 804,
          "referenced_widgets": [
            "0b54d526bc054b2988d278519062b8f2",
            "6a0e9abc354749b89555c3ebdb968e01",
            "72645759363243d7832e63e3c5be0716",
            "583d6c12f06c4fc5856895d63a45c04a",
            "8ce59a245e894745ab7b64ef09862261",
            "cac254f54e754d38822ad28c7db390c8",
            "209b5998cda14b919e6424e9a2408981",
            "85a4da535b1a4218ad8dfcdcdbab30e1",
            "bc514968c1184463abaa43cf73f941bd",
            "65b9dff66afb43ad9ef9785dd98de844",
            "b7845e76dac4476baaa962be70d5fbf3",
            "2aad5865ad524bec907232e87b2fb8d1",
            "0960555870ab4b5196b53afc196891bc",
            "1cb9ab51bd59492f92a786355f9b6141",
            "efd2b9e0158d4142bd519ddd039dcb30",
            "ef144d002a164fa6a5f8ac8fd78886fe",
            "e732052b33334a5abde726d52bdd6b6d",
            "78815e92c7f44b86a114e76b872058a3",
            "149c16b72afd49ee8f7119ae9d67e697",
            "ad5d99bdfd9b4cb8b597e8492cf6e3f9",
            "a988f8200c9a4ec5a715608645f9e691",
            "3e489ea49b4e41218857c901dc04fab3",
            "77882a263e594a82a2d757895ca5ec68",
            "dd6334d461244ba89feb8191c6bd9080",
            "aadbff75f37f4416b2da7b6f51bd1959",
            "48d66ebdc67748e884b0cb1caeebcc3c",
            "6744d963e13f457e9e9067ac91c4f12b",
            "8892e504a64a49e0a85351d29932ab48",
            "7f138847906e49d5a2c329389ae19311",
            "42f34b33994d4308b3331cc49ffdb56e",
            "5b2666e2d6da4b9ca3aa19a4317c4f45",
            "33da213b383844378ab9e138b8e0506a",
            "d3fa9baaffe84d3ab5f3c4b1bec4f0f4",
            "3f930acd0a0240af90a9350b7e3b13df",
            "72d6c1bc8d7e45a0bde222f4dbfe1e06",
            "45ce7b1dec834beaa294ca6655080a56",
            "832ac513d2134ad0a79f201e576c027d",
            "a9cbbe9e36ac4ca6b473cd64f2495b25",
            "270ab538be2c45a583b08b8bc724b74a",
            "3320803dd8fc4291a17122bc085ce89c",
            "922cf7cc0cd247a39469561ebb2b1c4a",
            "50344a0784384268af0659f0b004e4fd",
            "4ee7e6f72719426592e4443d55f96663",
            "0c94922e78c947dc88ddee25770cb55c",
            "8d89af78a5d348feb9ef1e57967f3f49",
            "0bb8fde58d6746e4a9b4bb93e2911979",
            "9da6c6bb5f674c28be7a6df89c059af9",
            "db8df3a4270e452e85a69805bc35f910",
            "5307fa6a7ebb49a396ea71e53d816cf6",
            "623947d1d67642f4a97a86c28704547f",
            "cd3e5b6e11784cdf8f813a073cc037a1",
            "47961681d51642be943d236ec28e91c2",
            "35f537e8aafc43978c02bce8e71df016",
            "02a17bc49a4540c38cf1c23f0ad0768e",
            "17827897c0f548c9a361e0b35072355d",
            "d3f25407ec954e7b85352f518f8cfa72",
            "5647be181fef48229a3977524709278a",
            "daa5cdad9a094959bed2acd9daafb96a",
            "b0f4175fedb24aa99f2c1dad95a36700",
            "63c68412e04b46b18b345b7b1a19babc",
            "9f67e3b30f6a4b5ab5731043c97794fd",
            "f8508d2a7c4d4bb896dca894cab4656a",
            "3d041480fe4b4b32b34fdb86ea6f7217",
            "39c228cf929c469aa7ec28a4cb3a3b08",
            "6a1fff6ee4de4f3cae85dad4202c73dc",
            "a2290a39614241498dbad10d0bca3a2a",
            "b863766154514ecc9d4fb3fabfd959cb",
            "f94e40cbf2af4db9989135be01162e54",
            "33cc8d528fa74e309537ad1e2b458cc0",
            "861eea8718b544669861e8158efbcf89",
            "e3d86e71dbcc48c0b7d9dc25c789b58f",
            "77e5fb9e43a44c7f9e59f213c299ee88",
            "d0271cb861074897854cfdb98d63826b",
            "aca0c4f216a6488c81f994d5d3158379",
            "d2f0124f04b54c6c8f2ff50cfea67794",
            "211124d1598c48ee992c07ae96e923af",
            "92ec4cd041f149a198dcc4b5a2aa03e3",
            "158c680153e94777ba305413aa98c757",
            "f2c71a1f5d514633a80e98ffb06a2c69",
            "7934fa1513e04152ac93f4bd30af0446",
            "ade1f4adae0c4c318923645f135611a2",
            "82398b7b27f14414aeb3d0ab982b4ed7",
            "d2e9d7ca23404defaa64e01bb9a36dbd",
            "f442de9f8f7a44e29ce5cd4d2bd61a5a",
            "70caa3cb7072417c9f5da83801f7b77b",
            "e6907a810d284ff9b827038213a9fa3a",
            "2573de03ce1c482fb2cf701882060848",
            "63febcdc5e0345ba9dd470f362d47e14",
            "08f2c666dab446a280b7a8f68743445f",
            "f4889f0bb8d44ef98e14ab089adff68e",
            "6760b6e586c04c6eb7c25b6ae564530d",
            "e86c5221d1d142909b2493f10f48e794",
            "90ad4c607a504353b430957569531f5c",
            "74b4d9003a19447888807e8e52491346",
            "f5dd30ab7bb644d49f0424387ddd9f7e",
            "aa47a431a9ba409387aae6808d2c4cf7"
          ]
        },
        "id": "BFmNt7f5x3aw",
        "outputId": "2edf2a09-6ad1-45de-e687-2e1fc38f46ba"
      },
      "source": [
        "# Hyper parameter Tuning Results\n",
        "results = hyper_parameter_tuning('ALS')\n",
        "valid_results = pd.DataFrame(results)\n",
        "valid_results = valid_results.sort_values('avg_ndcg', ascending=False)"
      ],
      "execution_count": 70,
      "outputs": [
        {
          "output_type": "display_data",
          "data": {
            "application/vnd.jupyter.widget-view+json": {
              "model_id": "0b54d526bc054b2988d278519062b8f2",
              "version_minor": 0,
              "version_major": 2
            },
            "text/plain": [
              "HBox(children=(FloatProgress(value=0.0), HTML(value='')))"
            ]
          },
          "metadata": {
            "tags": []
          }
        },
        {
          "output_type": "stream",
          "text": [
            "\n",
            "3466\n"
          ],
          "name": "stdout"
        },
        {
          "output_type": "display_data",
          "data": {
            "application/vnd.jupyter.widget-view+json": {
              "model_id": "bc514968c1184463abaa43cf73f941bd",
              "version_minor": 0,
              "version_major": 2
            },
            "text/plain": [
              "HBox(children=(FloatProgress(value=0.0, max=105.0), HTML(value='')))"
            ]
          },
          "metadata": {
            "tags": []
          }
        },
        {
          "output_type": "stream",
          "text": [
            "\n",
            "3466\n"
          ],
          "name": "stdout"
        },
        {
          "output_type": "display_data",
          "data": {
            "application/vnd.jupyter.widget-view+json": {
              "model_id": "e732052b33334a5abde726d52bdd6b6d",
              "version_minor": 0,
              "version_major": 2
            },
            "text/plain": [
              "HBox(children=(FloatProgress(value=0.0), HTML(value='')))"
            ]
          },
          "metadata": {
            "tags": []
          }
        },
        {
          "output_type": "stream",
          "text": [
            "\n",
            "3466\n"
          ],
          "name": "stdout"
        },
        {
          "output_type": "display_data",
          "data": {
            "application/vnd.jupyter.widget-view+json": {
              "model_id": "aadbff75f37f4416b2da7b6f51bd1959",
              "version_minor": 0,
              "version_major": 2
            },
            "text/plain": [
              "HBox(children=(FloatProgress(value=0.0, max=105.0), HTML(value='')))"
            ]
          },
          "metadata": {
            "tags": []
          }
        },
        {
          "output_type": "stream",
          "text": [
            "\n",
            "3466\n"
          ],
          "name": "stdout"
        },
        {
          "output_type": "display_data",
          "data": {
            "application/vnd.jupyter.widget-view+json": {
              "model_id": "d3fa9baaffe84d3ab5f3c4b1bec4f0f4",
              "version_minor": 0,
              "version_major": 2
            },
            "text/plain": [
              "HBox(children=(FloatProgress(value=0.0), HTML(value='')))"
            ]
          },
          "metadata": {
            "tags": []
          }
        },
        {
          "output_type": "stream",
          "text": [
            "\n",
            "3466\n"
          ],
          "name": "stdout"
        },
        {
          "output_type": "display_data",
          "data": {
            "application/vnd.jupyter.widget-view+json": {
              "model_id": "922cf7cc0cd247a39469561ebb2b1c4a",
              "version_minor": 0,
              "version_major": 2
            },
            "text/plain": [
              "HBox(children=(FloatProgress(value=0.0, max=105.0), HTML(value='')))"
            ]
          },
          "metadata": {
            "tags": []
          }
        },
        {
          "output_type": "stream",
          "text": [
            "\n",
            "3466\n"
          ],
          "name": "stdout"
        },
        {
          "output_type": "display_data",
          "data": {
            "application/vnd.jupyter.widget-view+json": {
              "model_id": "5307fa6a7ebb49a396ea71e53d816cf6",
              "version_minor": 0,
              "version_major": 2
            },
            "text/plain": [
              "HBox(children=(FloatProgress(value=0.0), HTML(value='')))"
            ]
          },
          "metadata": {
            "tags": []
          }
        },
        {
          "output_type": "stream",
          "text": [
            "\n",
            "3466\n"
          ],
          "name": "stdout"
        },
        {
          "output_type": "display_data",
          "data": {
            "application/vnd.jupyter.widget-view+json": {
              "model_id": "5647be181fef48229a3977524709278a",
              "version_minor": 0,
              "version_major": 2
            },
            "text/plain": [
              "HBox(children=(FloatProgress(value=0.0, max=105.0), HTML(value='')))"
            ]
          },
          "metadata": {
            "tags": []
          }
        },
        {
          "output_type": "stream",
          "text": [
            "\n",
            "3466\n"
          ],
          "name": "stdout"
        },
        {
          "output_type": "display_data",
          "data": {
            "application/vnd.jupyter.widget-view+json": {
              "model_id": "6a1fff6ee4de4f3cae85dad4202c73dc",
              "version_minor": 0,
              "version_major": 2
            },
            "text/plain": [
              "HBox(children=(FloatProgress(value=0.0), HTML(value='')))"
            ]
          },
          "metadata": {
            "tags": []
          }
        },
        {
          "output_type": "stream",
          "text": [
            "\n",
            "3466\n"
          ],
          "name": "stdout"
        },
        {
          "output_type": "display_data",
          "data": {
            "application/vnd.jupyter.widget-view+json": {
              "model_id": "d0271cb861074897854cfdb98d63826b",
              "version_minor": 0,
              "version_major": 2
            },
            "text/plain": [
              "HBox(children=(FloatProgress(value=0.0, max=105.0), HTML(value='')))"
            ]
          },
          "metadata": {
            "tags": []
          }
        },
        {
          "output_type": "stream",
          "text": [
            "\n",
            "3466\n"
          ],
          "name": "stdout"
        },
        {
          "output_type": "display_data",
          "data": {
            "application/vnd.jupyter.widget-view+json": {
              "model_id": "ade1f4adae0c4c318923645f135611a2",
              "version_minor": 0,
              "version_major": 2
            },
            "text/plain": [
              "HBox(children=(FloatProgress(value=0.0), HTML(value='')))"
            ]
          },
          "metadata": {
            "tags": []
          }
        },
        {
          "output_type": "stream",
          "text": [
            "\n",
            "3466\n"
          ],
          "name": "stdout"
        },
        {
          "output_type": "display_data",
          "data": {
            "application/vnd.jupyter.widget-view+json": {
              "model_id": "08f2c666dab446a280b7a8f68743445f",
              "version_minor": 0,
              "version_major": 2
            },
            "text/plain": [
              "HBox(children=(FloatProgress(value=0.0, max=105.0), HTML(value='')))"
            ]
          },
          "metadata": {
            "tags": []
          }
        },
        {
          "output_type": "stream",
          "text": [
            "\n",
            "3466\n"
          ],
          "name": "stdout"
        }
      ]
    },
    {
      "cell_type": "markdown",
      "metadata": {
        "id": "1Ia52kksRA--"
      },
      "source": [
        "**Building Model**\n",
        "\n",
        "From the previous step, we have obtained the hyper parameters for the model. We will plug use those values to build a good ALS model in this step.\n",
        "\n",
        "Alpha (α) = 50<br>\n",
        "Factors of the latent variables = 8<br>\n",
        "Regularization = 0.1 <br>\n",
        "Iteration = 100"
      ]
    },
    {
      "cell_type": "code",
      "metadata": {
        "colab": {
          "base_uri": "https://localhost:8080/",
          "height": 66,
          "referenced_widgets": [
            "aca740b05f2c4a8e829a331aaadf9562",
            "89dd3b2c6b0e46cf955c268429409057",
            "dd516bf6e6c94f1fbd92a5fc9f9ae22c",
            "0584bc248cff45c0b2c4c29a77f1fd5d",
            "05424b35118845dbabd9d4f8233b05eb",
            "90eb19523d8f4366ae6994267eed9239",
            "7a13df2f1966485c8526c8ed64932462",
            "ab481018792442619c201ad6e5f687f6"
          ]
        },
        "id": "OLKIrh1kkN7y",
        "outputId": "8239e26c-1fe3-4122-e5ce-4c6ecc853c98"
      },
      "source": [
        "alpha = 50\n",
        "data = (sparse_item_user * alpha).astype('double')\n",
        "data[1,:].todense()\n",
        "model = implicit.als.AlternatingLeastSquares(factors=8, regularization=0.1, iterations=100, use_gpu = False)\n",
        "model.fit(data)"
      ],
      "execution_count": 22,
      "outputs": [
        {
          "output_type": "display_data",
          "data": {
            "application/vnd.jupyter.widget-view+json": {
              "model_id": "aca740b05f2c4a8e829a331aaadf9562",
              "version_minor": 0,
              "version_major": 2
            },
            "text/plain": [
              "HBox(children=(FloatProgress(value=0.0), HTML(value='')))"
            ]
          },
          "metadata": {
            "tags": []
          }
        },
        {
          "output_type": "stream",
          "text": [
            "\n"
          ],
          "name": "stdout"
        }
      ]
    },
    {
      "cell_type": "markdown",
      "metadata": {
        "id": "XuTpgg--RZ3r"
      },
      "source": [
        "**Computing Results**\n",
        "\n",
        "We will get the top 15 recommendations for each user from the 100 candidate items in the testing set. We will create a new dataframe to store these values, so that we can use it to calculate the NDCG for the entire testset on Kaggle. The new dataframe will be exported as a .csv file, which will be submitted on Kaggle."
      ]
    },
    {
      "cell_type": "code",
      "metadata": {
        "id": "DxpN82n7YGZM"
      },
      "source": [
        "# getting user and item model factors\n",
        "person_vecs = sparse.csr_matrix(model.user_factors)\n",
        "content_vecs = sparse.csr_matrix(model.item_factors)\n",
        "\n",
        "# getting unique user ID's\n",
        "users = set(train.user_id.tolist())\n",
        "column_names = [\"user_id\", \"item_id\"]\n",
        "# dataframe with the final recommendations for each user. To be uploaded in kaggle\n",
        "df = pd.DataFrame(columns = column_names)\n",
        "#df1 = pd.DataFrame(columns = column_names)\n",
        "for i in range(0, len(users)):\n",
        "    #print(i)\n",
        "    x = recommend(i, sparse_user_item, person_vecs, content_vecs)\n",
        "    y = set(test.loc[test['user_id'] == i,'item_id'].tolist())\n",
        "    t = []\n",
        "    u = []\n",
        "    count = 0\n",
        "    for j in x:\n",
        "      if count < 15:\n",
        "        if j in y:\n",
        "          t.append(j)\n",
        "          u.append(i)\n",
        "          count = count + 1\n",
        "      else:\n",
        "        break\n",
        "    recommendations = pd.DataFrame({'user_id': u, 'item_id': t})\n",
        "    df = df.append(recommendations, ignore_index=True)"
      ],
      "execution_count": 20,
      "outputs": []
    },
    {
      "cell_type": "code",
      "metadata": {
        "colab": {
          "base_uri": "https://localhost:8080/"
        },
        "id": "IkHdekPYJW6a",
        "outputId": "a625de6a-b89a-4823-f113-47bbd6e0fa30"
      },
      "source": [
        "df.shape"
      ],
      "execution_count": 17,
      "outputs": [
        {
          "output_type": "execute_result",
          "data": {
            "text/plain": [
              "(51990, 2)"
            ]
          },
          "metadata": {
            "tags": []
          },
          "execution_count": 17
        }
      ]
    },
    {
      "cell_type": "markdown",
      "metadata": {
        "id": "2KyswaImDx3P"
      },
      "source": [
        "Finally, we are converting the dataframe with all the user-item recommendations into a dataframe."
      ]
    },
    {
      "cell_type": "code",
      "metadata": {
        "id": "h8aBQk6vHYXI"
      },
      "source": [
        "df.to_csv('31084354_output.csv', index=False)\n"
      ],
      "execution_count": 21,
      "outputs": []
    },
    {
      "cell_type": "markdown",
      "metadata": {
        "id": "ufbBCrItwPJA"
      },
      "source": [
        "**Logistic Matrix Factorization**\n",
        "\n",
        "This is another collaborative filtering algorithm which uses the user-item interactions to build a probability distribution for checking whether the user likes an item or not.\n",
        "\n",
        "We will be implementing this algorithm using the implicit package, the same package we used to build the ALS model. The input and the number of hyper parameters are the same for this model too."
      ]
    },
    {
      "cell_type": "code",
      "metadata": {
        "colab": {
          "base_uri": "https://localhost:8080/"
        },
        "id": "Cm8ZBJPnxdQx",
        "outputId": "5559fce8-5cf0-4777-a67d-6aa035584c9c"
      },
      "source": [
        "# Hyper parameter Tuning Results\n",
        "results = hyper_parameter_tuning('LMF')\n",
        "valid_results = pd.DataFrame(results)\n",
        "valid_results = valid_results.sort_values('avg_ndcg', ascending=False)\n"
      ],
      "execution_count": 71,
      "outputs": [
        {
          "output_type": "stream",
          "text": [
            "100%|██████████| 100/100 [00:02<00:00, 49.57it/s]\n",
            "  5%|▍         | 5/105 [00:00<00:02, 49.03it/s]"
          ],
          "name": "stderr"
        },
        {
          "output_type": "stream",
          "text": [
            "3466\n"
          ],
          "name": "stdout"
        },
        {
          "output_type": "stream",
          "text": [
            "100%|██████████| 105/105 [00:02<00:00, 49.32it/s]\n",
            "  4%|▍         | 4/100 [00:00<00:02, 37.18it/s]"
          ],
          "name": "stderr"
        },
        {
          "output_type": "stream",
          "text": [
            "3466\n"
          ],
          "name": "stdout"
        },
        {
          "output_type": "stream",
          "text": [
            "100%|██████████| 100/100 [00:02<00:00, 44.47it/s]\n",
            "  4%|▍         | 4/105 [00:00<00:02, 37.99it/s]"
          ],
          "name": "stderr"
        },
        {
          "output_type": "stream",
          "text": [
            "3466\n"
          ],
          "name": "stdout"
        },
        {
          "output_type": "stream",
          "text": [
            "100%|██████████| 105/105 [00:02<00:00, 43.89it/s]\n",
            "  4%|▍         | 4/100 [00:00<00:02, 37.68it/s]"
          ],
          "name": "stderr"
        },
        {
          "output_type": "stream",
          "text": [
            "3466\n"
          ],
          "name": "stdout"
        },
        {
          "output_type": "stream",
          "text": [
            "100%|██████████| 100/100 [00:02<00:00, 38.18it/s]\n",
            "  4%|▍         | 4/105 [00:00<00:02, 39.13it/s]"
          ],
          "name": "stderr"
        },
        {
          "output_type": "stream",
          "text": [
            "3466\n"
          ],
          "name": "stdout"
        },
        {
          "output_type": "stream",
          "text": [
            "100%|██████████| 105/105 [00:02<00:00, 39.10it/s]\n",
            "  6%|▌         | 6/100 [00:00<00:01, 52.93it/s]"
          ],
          "name": "stderr"
        },
        {
          "output_type": "stream",
          "text": [
            "3466\n"
          ],
          "name": "stdout"
        },
        {
          "output_type": "stream",
          "text": [
            "100%|██████████| 100/100 [00:02<00:00, 48.72it/s]\n",
            "  5%|▍         | 5/105 [00:00<00:02, 49.47it/s]"
          ],
          "name": "stderr"
        },
        {
          "output_type": "stream",
          "text": [
            "3466\n"
          ],
          "name": "stdout"
        },
        {
          "output_type": "stream",
          "text": [
            "100%|██████████| 105/105 [00:02<00:00, 48.60it/s]\n",
            "  5%|▌         | 5/100 [00:00<00:02, 37.79it/s]"
          ],
          "name": "stderr"
        },
        {
          "output_type": "stream",
          "text": [
            "3466\n"
          ],
          "name": "stdout"
        },
        {
          "output_type": "stream",
          "text": [
            "100%|██████████| 100/100 [00:02<00:00, 42.73it/s]\n",
            "  5%|▍         | 5/105 [00:00<00:02, 48.34it/s]"
          ],
          "name": "stderr"
        },
        {
          "output_type": "stream",
          "text": [
            "3466\n"
          ],
          "name": "stdout"
        },
        {
          "output_type": "stream",
          "text": [
            "100%|██████████| 105/105 [00:02<00:00, 44.63it/s]\n",
            "  4%|▍         | 4/100 [00:00<00:02, 36.71it/s]"
          ],
          "name": "stderr"
        },
        {
          "output_type": "stream",
          "text": [
            "3466\n"
          ],
          "name": "stdout"
        },
        {
          "output_type": "stream",
          "text": [
            "100%|██████████| 100/100 [00:02<00:00, 38.00it/s]\n",
            "  4%|▍         | 4/105 [00:00<00:02, 37.83it/s]"
          ],
          "name": "stderr"
        },
        {
          "output_type": "stream",
          "text": [
            "3466\n"
          ],
          "name": "stdout"
        },
        {
          "output_type": "stream",
          "text": [
            "100%|██████████| 105/105 [00:02<00:00, 38.20it/s]\n"
          ],
          "name": "stderr"
        },
        {
          "output_type": "stream",
          "text": [
            "3466\n"
          ],
          "name": "stdout"
        }
      ]
    },
    {
      "cell_type": "markdown",
      "metadata": {
        "id": "7GWScBMq7EK4"
      },
      "source": [
        "**Building Model**\n",
        "\n",
        "From the previous step, we have obtained the hyper parameters for the model. We will plug use those values to build a good LMF model in this step.\n",
        "\n",
        "Alpha (α) = 25<br>\n",
        "Factors of the latent variables = 8<br>\n",
        "Regularization = 0.1 <br>\n",
        "Iteration = 105"
      ]
    },
    {
      "cell_type": "code",
      "metadata": {
        "colab": {
          "base_uri": "https://localhost:8080/"
        },
        "id": "vK-6YJrvxdaa",
        "outputId": "57ee4899-8893-44dd-b6c1-cc3ee6a038c0"
      },
      "source": [
        "alpha = 25\n",
        "data = (sparse_item_user * alpha).astype('double')\n",
        "data[1,:].todense()\n",
        "model2 = implicit.lmf.LogisticMatrixFactorization(factors=8, regularization=0.1, iterations=105, use_gpu = False)\n",
        "model2.fit(data)"
      ],
      "execution_count": null,
      "outputs": [
        {
          "output_type": "stream",
          "text": [
            "100%|██████████| 105/105 [00:02<00:00, 51.30it/s]\n"
          ],
          "name": "stderr"
        }
      ]
    },
    {
      "cell_type": "code",
      "metadata": {
        "id": "-_TJsLdmxdjR"
      },
      "source": [
        "# getting user and item model factors\n",
        "person_vecs = sparse.csr_matrix(model2.user_factors)\n",
        "content_vecs = sparse.csr_matrix(model2.item_factors)\n",
        "\n",
        "# getting unique user ID's\n",
        "users = set(train.user_id.tolist())\n",
        "column_names = [\"user_id\", \"item_id\"]\n",
        "df = pd.DataFrame(columns = column_names)\n",
        "#df1 = pd.DataFrame(columns = column_names)\n",
        "for i in range(0, len(users)):\n",
        "    #print(i)\n",
        "    x = recommend(i, sparse_user_item, person_vecs, content_vecs)\n",
        "    y = set(test.loc[test['user_id'] == i,'item_id'].tolist())\n",
        "    t = []\n",
        "    u = []\n",
        "    count = 0\n",
        "    for j in x:\n",
        "      if count < 15:\n",
        "        if j in y:\n",
        "          t.append(j)\n",
        "          u.append(i)\n",
        "          count = count + 1\n",
        "      else:\n",
        "        break\n",
        "    recommendations = pd.DataFrame({'user_id': u, 'item_id': t})\n",
        "    df = df.append(recommendations, ignore_index=True)"
      ],
      "execution_count": null,
      "outputs": []
    },
    {
      "cell_type": "markdown",
      "metadata": {
        "id": "wtNbKLXd8cgm"
      },
      "source": [
        "**Computing Results**\n",
        "\n",
        "Using the LMF model created using the best parameters, we were getting n NDCG score of 0.10 on the test data. This justifies the fact that the LMF is not an accurate model for our task."
      ]
    },
    {
      "cell_type": "markdown",
      "metadata": {
        "id": "YuLRGe5x85QI"
      },
      "source": [
        "**Bayesian Personalized Ranking**\n",
        "\n",
        "This is another algorithm provided by the implicit package, which can be used for building recommendation system. The main feature of this algorithm is that it incorporates bayesian analysis by considering the likelihood function for each user-item interaction and also the prior probability of the model parameters."
      ]
    },
    {
      "cell_type": "code",
      "metadata": {
        "colab": {
          "base_uri": "https://localhost:8080/",
          "height": 804,
          "referenced_widgets": [
            "fc2ed94ec6da47839c481117bb495be7",
            "b46f5bf7f5964a3b9ab94d01ad8efc7b",
            "c798898c86a64a4dade19d4655910d41",
            "2e9871df7fa340c3a2c62cd6f2c0dc69",
            "18c31165475a4a578d7a43dd098db223",
            "c002340fb88c4432abf74bd5becfe24a",
            "02ecdcb649b54f6ba15637f763d73390",
            "46a06c3c5a384ba79032ae03e269e211",
            "f60009ace5714f7c9a2d0254a38eb231",
            "fe115be451c743a6b84c37db6f48b198",
            "2957b7ad8cd148298f80d2d270c413d7",
            "302de2caf3144115a3a6986b00937710",
            "65720ef770bf438e976b5bc62faf233b",
            "46c7b4dc8f71450bac8775ddba312e4c",
            "875bb30f912140b99e0cf882a4b79114",
            "deea86a09c5b488abce260be564e6c5c",
            "ffe1a89dd49d477fb561a25e65679b4b",
            "809a436897e0436485a42b0eda4ba4c2",
            "a2986c12182f494fa7588a70218ebb08",
            "fd7674940bef49a9bf58a623cb37debd",
            "941f25627b1544cd87493893f8df1f27",
            "e960e07a0f854abbad8fd72831552030",
            "df99da82ed0047aa90625ecb9c6800db",
            "ab92d2f12708407e97358e0338fcd09f",
            "6c22d62184ce4433bc6c45b3eeb2b95f",
            "4d18e93fb7b74a1b8334064beff2b4f5",
            "1f36b26a1568464a8a4ea7d103ba0242",
            "725f2b72be134b0e87a67eb7af28321f",
            "fe5347bd046d49f7a793fc5b9558eaf5",
            "683d441e87c94550a0b088a8405147ca",
            "f614a05335cd4faabf1a92868117b38c",
            "ab2c56d0388940e4b2c5a7482b74b9cc",
            "e3be9f3ab78f42839529d6e3855de4a5",
            "57341b469d6644c0a39c09b239dfceaa",
            "6ae1987b74714ad9bf07a2fd28a3c46a",
            "85f0f59d8cb245378b9e729e7f78ec99",
            "8c8e7314da454159b555d90bafc18cfa",
            "886a4b15598b4ab495fccec7dc7c4790",
            "816ac7470fbd4f408757e59a992b4291",
            "986732a7672846498113b12f11ce9c92",
            "74627f094b5248f8b00a19bc87c569d4",
            "6416f48435a44411b8a0c69f8d7339a1",
            "f5ab4d10391d4d248897fda4162bd06c",
            "d5c540ac7ba6426d8700132d98a66d8c",
            "12ecad436f8e4dac8af320c351ab196a",
            "2b112c2c80bc4e869ab079896079b655",
            "ce783f81cca246a193c3aa4450b5709f",
            "4a1b932956dd49d7a1d1f680e2be25c2",
            "83d9460aaf144e3497444fe876a16759",
            "6e4891bc9d7b4f7e97bf32ce94520267",
            "c171d0306a4e4defa34938ce8761a9fc",
            "29897379c3174cc59d3aa3c9c45c8d15",
            "3828d193659f44d7b57b3a358efa97b7",
            "78ad956764b74fcd8a5d8cc67bb9f0c6",
            "1eeed3c9b3c240a9a47389a069486c94",
            "301093b823594dba875b22255c9b8b85",
            "c51395748f9d4c318732a979b3b48117",
            "38e8a6ccfd014f1b9a9c6c3a26cf7f84",
            "279e80d93df4445f8a1f4652ea1c3e56",
            "dc4cf61b4c924078b910c1ec47b60732",
            "2bb3008e48ac4de7a3ae93c107cf3b7d",
            "8238ed6ca0f747d7912d3d4ff1521939",
            "817008d2f5b940cf82cc13ae9b50c914",
            "d7c7be6338c74935bc208fa8d28bf0b4",
            "feee9609203b458daa30df9561f6ea60",
            "559e467850214589ba0ef1252f9dc26b",
            "a50cd4bf83b24b0298d24dcea7e64489",
            "bd60520d93e743baa3fe633d4ce4511d",
            "dae44c55344949eeb9fc235b2d6e27e9",
            "f9bdb77a47e4408f8d7fdcea79c30675",
            "e0a39322594d4ccfb859f3dfcca7a590",
            "4de0012bc1a9481a91c24480d0f07f39",
            "9e0f1b69efa34b02ba94f6e2369d7cd8",
            "05c74a46032845b99748ca6e12c3233d",
            "d36078fb6c5f458e919f45ef509cf92a",
            "f7c8adb44653493c8eae39a990b70061",
            "3cabd39c71834578b3ab17ef123debb0",
            "95df70ed0eb047aeb892e25ae837f957",
            "aa27efa75a284a0399352f5f34000166",
            "797228a5aa274e41a15fb88ea9bf2a6a",
            "9de246bde43a49019b048e802d3056ac",
            "ca4d194122d14ee6be6da5aaedca2c1d",
            "6cd1198be60849e5bcf2c61985971542",
            "215261646fec41358522533a5b099c3f",
            "989e4e04c7144cadb10801624dfbd742",
            "384888312fce4251a8899799df36129a",
            "5f0334149d0d4212921db9d79fa2d083",
            "57cfe51d33cc4d6cab591744b1bf8a57",
            "f6f3f9d91ea0417b8589886c4452ad94",
            "d784a6883f514d948018e31ef4822a37",
            "d02e262e2aa147fd8c0adbc3d9f3100b",
            "33570e157cad4450bc516f63fd59f860",
            "0a3068360ccb4085b417c8473d41e280",
            "796d4ea3e5bd4dee918df4c0c6a4e1f9",
            "b71aa25c701b47c4ab9ed464fb34ea78",
            "43a91d0c1f684f3db82f53ecc713b31a"
          ]
        },
        "id": "ysdNlk7Rxdwu",
        "outputId": "0bc0ca34-25b5-46d3-d040-833d98eb8d5b"
      },
      "source": [
        "# Hyper parameter Tuning Results\n",
        "results = hyper_parameter_tuning('BPR')\n",
        "valid_results = pd.DataFrame(results)\n",
        "valid_results = valid_results.sort_values('avg_ndcg', ascending=False)"
      ],
      "execution_count": 72,
      "outputs": [
        {
          "output_type": "display_data",
          "data": {
            "application/vnd.jupyter.widget-view+json": {
              "model_id": "fc2ed94ec6da47839c481117bb495be7",
              "version_minor": 0,
              "version_major": 2
            },
            "text/plain": [
              "HBox(children=(FloatProgress(value=0.0), HTML(value='')))"
            ]
          },
          "metadata": {
            "tags": []
          }
        },
        {
          "output_type": "stream",
          "text": [
            "\n",
            "3466\n"
          ],
          "name": "stdout"
        },
        {
          "output_type": "display_data",
          "data": {
            "application/vnd.jupyter.widget-view+json": {
              "model_id": "f60009ace5714f7c9a2d0254a38eb231",
              "version_minor": 0,
              "version_major": 2
            },
            "text/plain": [
              "HBox(children=(FloatProgress(value=0.0, max=105.0), HTML(value='')))"
            ]
          },
          "metadata": {
            "tags": []
          }
        },
        {
          "output_type": "stream",
          "text": [
            "\n",
            "3466\n"
          ],
          "name": "stdout"
        },
        {
          "output_type": "display_data",
          "data": {
            "application/vnd.jupyter.widget-view+json": {
              "model_id": "ffe1a89dd49d477fb561a25e65679b4b",
              "version_minor": 0,
              "version_major": 2
            },
            "text/plain": [
              "HBox(children=(FloatProgress(value=0.0), HTML(value='')))"
            ]
          },
          "metadata": {
            "tags": []
          }
        },
        {
          "output_type": "stream",
          "text": [
            "\n",
            "3466\n"
          ],
          "name": "stdout"
        },
        {
          "output_type": "display_data",
          "data": {
            "application/vnd.jupyter.widget-view+json": {
              "model_id": "6c22d62184ce4433bc6c45b3eeb2b95f",
              "version_minor": 0,
              "version_major": 2
            },
            "text/plain": [
              "HBox(children=(FloatProgress(value=0.0, max=105.0), HTML(value='')))"
            ]
          },
          "metadata": {
            "tags": []
          }
        },
        {
          "output_type": "stream",
          "text": [
            "\n",
            "3466\n"
          ],
          "name": "stdout"
        },
        {
          "output_type": "display_data",
          "data": {
            "application/vnd.jupyter.widget-view+json": {
              "model_id": "e3be9f3ab78f42839529d6e3855de4a5",
              "version_minor": 0,
              "version_major": 2
            },
            "text/plain": [
              "HBox(children=(FloatProgress(value=0.0), HTML(value='')))"
            ]
          },
          "metadata": {
            "tags": []
          }
        },
        {
          "output_type": "stream",
          "text": [
            "\n",
            "3466\n"
          ],
          "name": "stdout"
        },
        {
          "output_type": "display_data",
          "data": {
            "application/vnd.jupyter.widget-view+json": {
              "model_id": "74627f094b5248f8b00a19bc87c569d4",
              "version_minor": 0,
              "version_major": 2
            },
            "text/plain": [
              "HBox(children=(FloatProgress(value=0.0, max=105.0), HTML(value='')))"
            ]
          },
          "metadata": {
            "tags": []
          }
        },
        {
          "output_type": "stream",
          "text": [
            "\n",
            "3466\n"
          ],
          "name": "stdout"
        },
        {
          "output_type": "display_data",
          "data": {
            "application/vnd.jupyter.widget-view+json": {
              "model_id": "83d9460aaf144e3497444fe876a16759",
              "version_minor": 0,
              "version_major": 2
            },
            "text/plain": [
              "HBox(children=(FloatProgress(value=0.0), HTML(value='')))"
            ]
          },
          "metadata": {
            "tags": []
          }
        },
        {
          "output_type": "stream",
          "text": [
            "\n",
            "3466\n"
          ],
          "name": "stdout"
        },
        {
          "output_type": "display_data",
          "data": {
            "application/vnd.jupyter.widget-view+json": {
              "model_id": "c51395748f9d4c318732a979b3b48117",
              "version_minor": 0,
              "version_major": 2
            },
            "text/plain": [
              "HBox(children=(FloatProgress(value=0.0, max=105.0), HTML(value='')))"
            ]
          },
          "metadata": {
            "tags": []
          }
        },
        {
          "output_type": "stream",
          "text": [
            "\n",
            "3466\n"
          ],
          "name": "stdout"
        },
        {
          "output_type": "display_data",
          "data": {
            "application/vnd.jupyter.widget-view+json": {
              "model_id": "feee9609203b458daa30df9561f6ea60",
              "version_minor": 0,
              "version_major": 2
            },
            "text/plain": [
              "HBox(children=(FloatProgress(value=0.0), HTML(value='')))"
            ]
          },
          "metadata": {
            "tags": []
          }
        },
        {
          "output_type": "stream",
          "text": [
            "\n",
            "3466\n"
          ],
          "name": "stdout"
        },
        {
          "output_type": "display_data",
          "data": {
            "application/vnd.jupyter.widget-view+json": {
              "model_id": "9e0f1b69efa34b02ba94f6e2369d7cd8",
              "version_minor": 0,
              "version_major": 2
            },
            "text/plain": [
              "HBox(children=(FloatProgress(value=0.0, max=105.0), HTML(value='')))"
            ]
          },
          "metadata": {
            "tags": []
          }
        },
        {
          "output_type": "stream",
          "text": [
            "\n",
            "3466\n"
          ],
          "name": "stdout"
        },
        {
          "output_type": "display_data",
          "data": {
            "application/vnd.jupyter.widget-view+json": {
              "model_id": "9de246bde43a49019b048e802d3056ac",
              "version_minor": 0,
              "version_major": 2
            },
            "text/plain": [
              "HBox(children=(FloatProgress(value=0.0), HTML(value='')))"
            ]
          },
          "metadata": {
            "tags": []
          }
        },
        {
          "output_type": "stream",
          "text": [
            "\n",
            "3466\n"
          ],
          "name": "stdout"
        },
        {
          "output_type": "display_data",
          "data": {
            "application/vnd.jupyter.widget-view+json": {
              "model_id": "f6f3f9d91ea0417b8589886c4452ad94",
              "version_minor": 0,
              "version_major": 2
            },
            "text/plain": [
              "HBox(children=(FloatProgress(value=0.0, max=105.0), HTML(value='')))"
            ]
          },
          "metadata": {
            "tags": []
          }
        },
        {
          "output_type": "stream",
          "text": [
            "\n",
            "3466\n"
          ],
          "name": "stdout"
        }
      ]
    },
    {
      "cell_type": "markdown",
      "metadata": {
        "id": "LgLMXiADAL_I"
      },
      "source": [
        "**Building Model**\n",
        "\n",
        "From the previous step, we have obtained the hyper parameters for the model. We will plug use those values to build a good BPR model in this step.\n",
        "\n",
        "Alpha (α) = 25<br>\n",
        "Factors of the latent variables = 7<br>\n",
        "Regularization = 0.1 <br>\n",
        "Iteration = 100"
      ]
    },
    {
      "cell_type": "code",
      "metadata": {
        "colab": {
          "base_uri": "https://localhost:8080/",
          "height": 66,
          "referenced_widgets": [
            "828cc4bc237c4c16928bc66f8b10cc0b",
            "ef0b3d58ed984946981e20a06c80715c",
            "9192e40b6d30490cba8d6d111669a8d6",
            "2f444f2ec51344e48b544150a96a8560",
            "6d6f07fc34024476a2508315f386ca7c",
            "88e376f9dfba43dcb5b74ed2b66808e4",
            "33c293d15187458d8474fe7cae765cab",
            "3aa2010f812940d7939fc1ea2aa913a7"
          ]
        },
        "id": "3Pwg5oqS_OR5",
        "outputId": "2a521170-05f4-4d87-e48f-2eb3cee4e4df"
      },
      "source": [
        "alpha = 25\n",
        "data = (sparse_item_user * alpha).astype('double')\n",
        "data[1,:].todense()\n",
        "model3 = implicit.bpr.BayesianPersonalizedRanking(factors=7, regularization=0.1, iterations=100, use_gpu = False)\n",
        "model3.fit(data)"
      ],
      "execution_count": 73,
      "outputs": [
        {
          "output_type": "display_data",
          "data": {
            "application/vnd.jupyter.widget-view+json": {
              "model_id": "828cc4bc237c4c16928bc66f8b10cc0b",
              "version_minor": 0,
              "version_major": 2
            },
            "text/plain": [
              "HBox(children=(FloatProgress(value=0.0), HTML(value='')))"
            ]
          },
          "metadata": {
            "tags": []
          }
        },
        {
          "output_type": "stream",
          "text": [
            "\n"
          ],
          "name": "stdout"
        }
      ]
    },
    {
      "cell_type": "code",
      "metadata": {
        "id": "TIZg3VvZ_Ocp"
      },
      "source": [
        "# getting user and item model factors\n",
        "person_vecs = sparse.csr_matrix(model3.user_factors)\n",
        "content_vecs = sparse.csr_matrix(model3.item_factors)\n",
        "\n",
        "# getting unique user ID's\n",
        "users = set(train.user_id.tolist())\n",
        "column_names = [\"user_id\", \"item_id\"]\n",
        "df = pd.DataFrame(columns = column_names)\n",
        "#df1 = pd.DataFrame(columns = column_names)\n",
        "for i in range(0, len(users)):\n",
        "    #print(i)\n",
        "    x = recommend(i, sparse_user_item, person_vecs, content_vecs)\n",
        "    y = set(test.loc[test['user_id'] == i,'item_id'].tolist())\n",
        "    t = []\n",
        "    u = []\n",
        "    count = 0\n",
        "    for j in x:\n",
        "      if count < 15:\n",
        "        if j in y:\n",
        "          t.append(j)\n",
        "          u.append(i)\n",
        "          count = count + 1\n",
        "      else:\n",
        "        break\n",
        "    recommendations = pd.DataFrame({'user_id': u, 'item_id': t})\n",
        "    df = df.append(recommendations, ignore_index=True)"
      ],
      "execution_count": null,
      "outputs": []
    },
    {
      "cell_type": "markdown",
      "metadata": {
        "id": "3Qc0BXiMA2e1"
      },
      "source": [
        "**Computing Results**\n",
        "\n",
        "Using the BPR model created using the best parameters, we were getting n NDCG score of 0.06 on the test data, which is significantly lower than the ALS and LMF models.\n"
      ]
    },
    {
      "cell_type": "markdown",
      "metadata": {
        "id": "agU5M5PimgJa"
      },
      "source": [
        "**Neural Collaborative Filtering**\n",
        "\n",
        "Neural Collaborative Filtering (NCF) replaces the user-item interaction as seen in the matrix factorization with a neural architecture. Due to this architecture, the NCF tries to achieve the following:\n",
        "1. It tries to generalize Matrix Factorization \n",
        "2. It tries to learn user-item interactions using a multi-layer perceptron.\n",
        "\n",
        "We will be building this model using Keras & Tensorflow.\n",
        "\n",
        "TensorFlow is an end-to-end open source platform for machine learning. It has a comprehensive, flexible ecosystem of tools, libraries and community resources that lets researchers push the state-of-the-art in ML and developers easily build and deploy ML powered applications. \n",
        "One of the main use-case of this platform is to build and train ML models easily using intuitive high-level APIs like Keras with eager execution, which makes for immediate model iteration and easy debugging"
      ]
    },
    {
      "cell_type": "code",
      "metadata": {
        "id": "vayP6BJE0Aea"
      },
      "source": [
        "!pip install tensorflow lightfm pandas"
      ],
      "execution_count": null,
      "outputs": []
    },
    {
      "cell_type": "markdown",
      "metadata": {
        "id": "-3CQ4qyU2W11"
      },
      "source": [
        "**Importing Libraries**"
      ]
    },
    {
      "cell_type": "code",
      "metadata": {
        "id": "NqMVlLop0Am9"
      },
      "source": [
        "import datetime\n",
        "import os\n",
        "import lightfm\n",
        "import tensorflow as tf\n",
        "from lightfm import LightFM\n",
        "from scipy import sparse\n",
        "from tensorboard import notebook\n",
        "from typing import List\n",
        "import tensorflow.keras as keras\n",
        "from tensorflow.keras.layers import (\n",
        "    Concatenate,\n",
        "    Dense,\n",
        "    Embedding,\n",
        "    Flatten,\n",
        "    Input,\n",
        "    Multiply,\n",
        ")\n",
        "from tensorflow.keras.models import Model\n",
        "from tensorflow.keras.regularizers import l2\n",
        "from tensorflow.keras.optimizers import Adam\n"
      ],
      "execution_count": 80,
      "outputs": []
    },
    {
      "cell_type": "markdown",
      "metadata": {
        "id": "nrq_qBH7B71D"
      },
      "source": [
        "We will be building functions to convert the long arrays into table, so that it is easier to perform operations."
      ]
    },
    {
      "cell_type": "code",
      "metadata": {
        "id": "erxzYGvH0Mcf"
      },
      "source": [
        "# Function to convert table from wide to long.\n",
        "def convert_table(wide: np.array, ratings: List[int]) -> np.array:\n",
        "    \n",
        "    # getting the ratings\n",
        "    def _get_ratings(arr: np.array, rating: int) -> np.array:\n",
        "        idx = np.where(arr == rating)\n",
        "        return np.vstack(\n",
        "            (idx[0], idx[1], np.ones(idx[0].size, dtype=\"int64\") * rating)\n",
        "        ).T\n",
        "    lg_array = []\n",
        "    for r in ratings:\n",
        "        lg_array.append(_get_ratings(wide, r))\n",
        "\n",
        "    return np.vstack(lg_array)"
      ],
      "execution_count": 84,
      "outputs": []
    },
    {
      "cell_type": "markdown",
      "metadata": {
        "id": "-yIEnp8kC7Kw"
      },
      "source": [
        "**Creating the user-item interaction matrix**\n",
        "\n",
        "We will be building the sparse user-item interaction matrix which displays the interaction of each user for each item. If the value is '1', it suggests that the user has liked the item, whereas if it is '0', either the user has not viewed the item or he/she did not like it."
      ]
    },
    {
      "cell_type": "code",
      "metadata": {
        "id": "sqmgCC8vbhMh"
      },
      "source": [
        "# creating sparse matrix for user-item interaction\n",
        "sparse_user_item = sparse.csr_matrix((train['rating'].astype(float), (train['user_id'], train['item_id'])))"
      ],
      "execution_count": 85,
      "outputs": []
    },
    {
      "cell_type": "code",
      "metadata": {
        "colab": {
          "base_uri": "https://localhost:8080/"
        },
        "id": "foAaj6dtbhUP",
        "outputId": "6173e79b-fd67-40ef-a08b-fa865dd5ce50"
      },
      "source": [
        "# converting the matrix to array\n",
        "x = sparse_user_item.toarray()\n",
        "\n",
        "#getting the unique values\n",
        "unique_ratings = np.unique(x)\n",
        "print(unique_ratings)\n"
      ],
      "execution_count": 86,
      "outputs": [
        {
          "output_type": "stream",
          "text": [
            "[0. 1.]\n"
          ],
          "name": "stdout"
        }
      ]
    },
    {
      "cell_type": "markdown",
      "metadata": {
        "id": "7uP2d9SLCLYA"
      },
      "source": [
        "We have converted the sparse user-item matrix into an array. We have also checked for the unique values in the array to see if there are any discrepancies, and we could find out that there weren't any. The values were either 0 or 1."
      ]
    },
    {
      "cell_type": "markdown",
      "metadata": {
        "id": "DU_Mj6-pCr4U"
      },
      "source": [
        "****Converting Array to Dataframe****"
      ]
    },
    {
      "cell_type": "code",
      "metadata": {
        "id": "6DkyEFAGoLzt"
      },
      "source": [
        "# converting the array into dataframe with all the user-item interaction\n",
        "train_table = convert_table(x, unique_ratings)\n",
        "df_train = pd.DataFrame(train_table, columns=[\"user_id\", \"item_id\", \"rating\"])"
      ],
      "execution_count": 87,
      "outputs": []
    },
    {
      "cell_type": "markdown",
      "metadata": {
        "id": "3h9UHylcCkH9"
      },
      "source": [
        "**Defining the Neural Collaborative Filtering Model**\n",
        "\n",
        "**Intuition for NCF**\n"
      ]
    },
    {
      "cell_type": "markdown",
      "metadata": {
        "id": "u6Q2B0RXgkFm"
      },
      "source": [
        "![1_Tqk7Q2q7wsr6MLF8Xl-emg.png](data:image/png;base64,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)"
      ]
    },
    {
      "cell_type": "markdown",
      "metadata": {
        "id": "mxJuUSrJesvj"
      },
      "source": [
        "Neural Collaborative Filtering(NCF) replaces the user-item inner product with a neural architecture. By doing so NCF tried to achieve the following:\n",
        "NCF tries to express and generalize MF under its framework.\n",
        "NCF tries to learn User-item interactions through a multi-layer perceptron (MLP).\n",
        "\n",
        "It is important to note that both, the GMF and the MLP component of the NCF have separate item and user embeddings, as it can optimize the embeddings such that it can learn the user-item interaction better.\n",
        "\n",
        "NCF uses the sigmoid activation function for the GMF output as it can help the model to learn the edge weights from the data using the log loss function, whereas ReLU is the activation function used for the MLP.\n",
        "The backbone of NCF is considered as the NeuMF layer as shown in the figure, where the outputs from the GMF and MLP are concatenated and used as the input to this layer.\n",
        "\n",
        "\n"
      ]
    },
    {
      "cell_type": "code",
      "metadata": {
        "id": "LaaxlKRtogfJ"
      },
      "source": [
        "# building neural collaborative filtering model\n",
        "def build_model(\n",
        "    total_users: int,\n",
        "    total_items: int,\n",
        "    latent_dim_matrix: int = 4,\n",
        "    latent_dim_p: int = 32,\n",
        "    matrix_reg: int = 0,\n",
        "    mlp_reg: int = 0.01,\n",
        "    dense_layers: List[int] = [10, 10, 10],\n",
        "    reg_layers: List[int] = [0.01, 0.01, 0.01],\n",
        "    activation_dense: str = \"relu\",\n",
        ") -> keras.Model:\n",
        "\n",
        "    # input layer\n",
        "    user = Input(shape=(), dtype=\"int32\", name=\"user_id\")\n",
        "    item = Input(shape=(), dtype=\"int32\", name=\"item_id\")\n",
        "\n",
        "    # embedding layers for matrix factorization\n",
        "    matrix_user_embedding = Embedding(\n",
        "        input_dim=total_users,\n",
        "        output_dim=latent_dim_matrix,\n",
        "        name=\"matrix_user_embedding\",\n",
        "        embeddings_initializer=\"RandomNormal\",\n",
        "        embeddings_regularizer=l2(matrix_reg),\n",
        "        input_length=1,\n",
        "    )\n",
        "    matrix_item_embedding = Embedding(\n",
        "        input_dim=total_items,\n",
        "        output_dim=latent_dim_matrix,\n",
        "        name=\"matrix_item_embedding\",\n",
        "        embeddings_initializer=\"RandomNormal\",\n",
        "        embeddings_regularizer=l2(matrix_reg),\n",
        "        input_length=1,\n",
        "    )\n",
        "\n",
        "  # embedding layers for multi-layer perceptron\n",
        "    user_embedding_mlp = Embedding(\n",
        "        input_dim=total_users,\n",
        "        output_dim=latent_dim_p,\n",
        "        name=\"mlp_user_embedding\",\n",
        "        embeddings_initializer=\"RandomNormal\",\n",
        "        embeddings_regularizer=l2(mlp_reg),\n",
        "        input_length=1,\n",
        "    )\n",
        "    item_embedding_mlp = Embedding(\n",
        "        input_dim=total_items,\n",
        "        output_dim=latent_dim_p,\n",
        "        name=\"mlp_item_embedding\",\n",
        "        embeddings_initializer=\"RandomNormal\",\n",
        "        embeddings_regularizer=l2(mlp_reg),\n",
        "        input_length=1,\n",
        "    )\n",
        "\n",
        "    # Matrix Factorization vector\n",
        "    matrix_latent_user = Flatten()(matrix_user_embedding(user))\n",
        "    matrix_latent_item = Flatten()(matrix_item_embedding(item))\n",
        "    matrix_concat = Multiply()([matrix_latent_user, matrix_latent_item])\n",
        "\n",
        "    # MLP vector\n",
        "    user_latent_mlp = Flatten()(user_embedding_mlp(user))\n",
        "    item_latent_mlp = Flatten()(item_embedding_mlp(item))\n",
        "    mlp_concat = Concatenate()([user_latent_mlp, item_latent_mlp])\n",
        "\n",
        "    vec_mlp = mlp_concat\n",
        "\n",
        "    # build dense layers for model\n",
        "    for i in range(len(dense_layers)):\n",
        "        layer = Dense(\n",
        "            dense_layers[i],\n",
        "            activity_regularizer=l2(reg_layers[i]),\n",
        "            activation=activation_dense,\n",
        "            name=\"layer%d\" % i,\n",
        "        )\n",
        "        vec_mlp = layer(vec_mlp)\n",
        "\n",
        "    prediction_layer = Concatenate()([matrix_concat, vec_mlp])\n",
        "\n",
        "    result = Dense(\n",
        "        1, activation=\"sigmoid\", kernel_initializer=\"lecun_uniform\", name=\"rating\"\n",
        "    )\n",
        "    output = result(prediction_layer)\n",
        "    model = Model(\n",
        "        inputs=[user, item],\n",
        "        outputs=[output],\n",
        "    )\n",
        "    return model"
      ],
      "execution_count": 88,
      "outputs": []
    },
    {
      "cell_type": "markdown",
      "metadata": {
        "id": "WPpwEtJLc1Z-"
      },
      "source": [
        "In the above step, we have defined the structure of the Neural Collaborative Filtering model. So, the intuition is that we will be using the outputs from the Matrix Factorization (MF) model alongwith a Multi-layer Perceptron (MLP), and we will combine them to produce accurate predictions.\n",
        "We will have different embeddings for user and items for each algorithms. The latent dimensions for each algorithm have been initialized and we have also mentioned the number of dense layers with the number of neurons in each layer, alongwith a regularization parameter. The activation function for the combined output is a sigmoid activation function. The loss function of the NCF model is the binary cross-entropy. This is because as we are dealing with implicit feedback the interaction can be represented as 0 or 1, in such case, we can treat it as a binary classification problem."
      ]
    },
    {
      "cell_type": "markdown",
      "metadata": {
        "id": "JUHm9XmzGYSG"
      },
      "source": [
        "**Building the NCF Model**\n",
        "\n",
        "We are going to build the Neural Collaborative Filtering model. We will have pass the total number of users and items as the parameters. The optimizer to be used will be Adam optimizer, and the loss function for this model would be the Binary Cross-Entropy."
      ]
    },
    {
      "cell_type": "code",
      "metadata": {
        "id": "xG6mvbg_bhcm"
      },
      "source": [
        "# defining the number of users and items\n",
        "all_users, all_items = (3466, 9004)\n",
        "\n",
        "# building the model\n",
        "model_ncf = build_model(all_users, all_items)\n",
        "\n",
        "# defining the optimizer and the loss function\n",
        "model_ncf.compile(\n",
        "    optimizer=Adam(),\n",
        "    loss=\"binary_crossentropy\"\n",
        ")"
      ],
      "execution_count": 89,
      "outputs": []
    },
    {
      "cell_type": "markdown",
      "metadata": {
        "id": "A8mna6-THBiG"
      },
      "source": [
        "**Pandas Dataset to TensorFlow Dataset**\n",
        "\n",
        "It is seen that often while working with deep learning models, the source of the data would be in Pandas, we need to convert these dataframes into a TensorFlow one so that it becomes readable in TensorFlow, using which we can create pipelines for the model to train on."
      ]
    },
    {
      "cell_type": "code",
      "metadata": {
        "id": "YYNmp_Kz0s9M"
      },
      "source": [
        "# Make TensorFlow dataset from Pandas DataFrame.\n",
        "\n",
        "def convert_df(\n",
        "    df: pd.DataFrame,\n",
        "    targets: List[str],\n",
        "    val_split: float = 0.1,\n",
        "    batch_size: int = 512,\n",
        "    seed=42,\n",
        "):\n",
        "    n_val = round(df.shape[0] * val_split)\n",
        "    if seed:\n",
        "        # shuffle all the rows\n",
        "        x = df.sample(frac=1, random_state=seed).to_dict(\"series\")\n",
        "    else:\n",
        "        x = df.to_dict(\"series\")\n",
        "    y = dict()\n",
        "    for t in targets:\n",
        "        y[t] = x.pop(t)\n",
        "    ds = tf.data.Dataset.from_tensor_slices((x, y))\n",
        "\n",
        "    ds_val = ds.take(n_val).batch(batch_size)\n",
        "    ds_train = ds.skip(n_val).batch(batch_size)\n",
        "    return ds_train, ds_val"
      ],
      "execution_count": 94,
      "outputs": []
    },
    {
      "cell_type": "code",
      "metadata": {
        "id": "3fsnFlKrbhkA"
      },
      "source": [
        "train_ds = convert_df(df_train, [\"rating\"])"
      ],
      "execution_count": 91,
      "outputs": []
    },
    {
      "cell_type": "markdown",
      "metadata": {
        "id": "8QC7715iIhyS"
      },
      "source": [
        "**Model Training**\n",
        "\n",
        "We will be using the converted TensorFlow dataset to fit our NCF model on, and will be training it for 5 epochs."
      ]
    },
    {
      "cell_type": "code",
      "metadata": {
        "colab": {
          "base_uri": "https://localhost:8080/"
        },
        "id": "XbIH6DlSbhrN",
        "outputId": "45a91fd7-ac9a-4f9c-e7c7-6693c8b38d4d"
      },
      "source": [
        "training_model = model_ncf.fit(\n",
        "    train_ds,\n",
        "    epochs=5,\n",
        "    verbose=1,\n",
        ")"
      ],
      "execution_count": 92,
      "outputs": [
        {
          "output_type": "stream",
          "text": [
            "Epoch 1/5\n",
            "54858/54858 [==============================] - 364s 7ms/step - loss: 0.0317\n",
            "Epoch 2/5\n",
            "54858/54858 [==============================] - 357s 6ms/step - loss: 0.0214\n",
            "Epoch 3/5\n",
            "54858/54858 [==============================] - 358s 6ms/step - loss: 0.0212\n",
            "Epoch 4/5\n",
            "54858/54858 [==============================] - 370s 7ms/step - loss: 0.0211\n",
            "Epoch 5/5\n",
            "54858/54858 [==============================] - 382s 7ms/step - loss: 0.0211\n"
          ],
          "name": "stdout"
        }
      ]
    },
    {
      "cell_type": "markdown",
      "metadata": {
        "id": "50lSsOxLNTAP"
      },
      "source": [
        "We can see that as the number of epochs increases, the loss tends to decrease very slightly and it converges to 0.0211 at the end. This indicates that 5 epochs are sufficient for training our model."
      ]
    },
    {
      "cell_type": "code",
      "metadata": {
        "id": "DmSmCUfwnPvr"
      },
      "source": [
        "test_table = convert_table(x, unique_ratings)\n",
        "df_test = pd.DataFrame(test_table, columns=[\"user_id\", \"item_id\", \"rating\"])\n",
        "ds_test, _ = convert_df(df_test, [\"rating\"], val_split=0, seed=None)"
      ],
      "execution_count": 95,
      "outputs": []
    },
    {
      "cell_type": "markdown",
      "metadata": {
        "id": "mFNEAEqqJh3k"
      },
      "source": [
        "**Making Predictions and Ranking**\n",
        "\n",
        "In this step, we will use our trained NCF model to make predictions for each user. From this predictions, we will rank them based on the 100 candidate items given in test dataset. Basically, this will help us rank the top 15 recommendations for each user from items in the test set."
      ]
    },
    {
      "cell_type": "code",
      "metadata": {
        "id": "S8DAABjJnPyu"
      },
      "source": [
        "# storing predictions\n",
        "all_predictions = model_ncf.predict(ds_test)\n",
        "df_test[\"predictions\"] = all_predictions"
      ],
      "execution_count": 96,
      "outputs": []
    },
    {
      "cell_type": "code",
      "metadata": {
        "id": "HXCHOSYjnP1h"
      },
      "source": [
        "# calculating the top 15 predictions for each user, and adding it to a dataframe\n",
        "column_names = [\"user_id\", \"item_id\"]\n",
        "df2 = pd.DataFrame(columns = column_names)\n",
        "for i in range(3466):\n",
        "  #print(i)\n",
        "  a = df_test.loc[df_test['user_id'] == i,]\n",
        "  b = a.sort_values('predictions', ascending = False)\n",
        "  c = b.item_id.tolist()\n",
        "  y = test.loc[test['user_id'] == i,'item_id'].tolist()\n",
        "  t = []\n",
        "  u = []\n",
        "  count = 0\n",
        "  for j in c:\n",
        "    if count < 15:\n",
        "      if j in y:\n",
        "        t.append(j)\n",
        "        u.append(i)\n",
        "        count = count + 1\n",
        "    else:\n",
        "      break\n",
        "  recommendations = pd.DataFrame({'user_id': u, 'item_id': t})\n",
        "  df2 = df2.append(recommendations, ignore_index=True)"
      ],
      "execution_count": 97,
      "outputs": []
    },
    {
      "cell_type": "code",
      "metadata": {
        "colab": {
          "base_uri": "https://localhost:8080/"
        },
        "id": "J-J9uvMyTRq4",
        "outputId": "1c7ef1ca-3694-4b5a-d239-cf3df5222d66"
      },
      "source": [
        "df2.shape"
      ],
      "execution_count": 98,
      "outputs": [
        {
          "output_type": "execute_result",
          "data": {
            "text/plain": [
              "(51990, 2)"
            ]
          },
          "metadata": {
            "tags": []
          },
          "execution_count": 98
        }
      ]
    },
    {
      "cell_type": "code",
      "metadata": {
        "id": "N3H9RL54i_yA"
      },
      "source": [
        "df2[\"user_id\"] = df[\"user_id\"].astype(float).astype(int)\n",
        "df2[\"item_id\"] = df[\"item_id\"].astype(float).astype(int)\n",
        "df2.to_csv('neural.csv', index=False)"
      ],
      "execution_count": 99,
      "outputs": []
    },
    {
      "cell_type": "markdown",
      "metadata": {
        "id": "Kgxm6qUI4V1g"
      },
      "source": [
        "**Observations**\n",
        "\n",
        "We have successfully built 4 different models to recommend items to the users. From our analysis, we identified that the model built using the Alternating Least Squares algorithm outperformed the other 3 models. A possible reason for this outcome would be the fact that in ALS we minimize the entire loss function at once, by adjusting half the parameters, as the loss function is quadratic in nature and has an easy solution, when half the parameters are fixed. Hence, due to this there is no gradient in each optimization step as the problem is convex. "
      ]
    },
    {
      "cell_type": "markdown",
      "metadata": {
        "id": "JN-kyvbtjX3J"
      },
      "source": [
        "**Part B - Node Clustering**\n",
        "\n",
        "Clustering is an algorithm from the unsupervised domain of Machine Learning, where we can cluster similar objects together based on their features. In this section, we will be performing different types of clustering such K-Means, Agglomerative Clustering & Spectral Clustering.\n",
        "\n",
        "**Data**\n",
        "\n",
        "The data provided to us consists of different articles, where the information segregated into 3 different text files. The information in the files are given below:\n",
        "1. **docs.txt** : contains the article ID, which we will be using as our NodeID, and also the title of corresponding article\n",
        "2. **adjedges.txt** : This file consists of the relationship between 2 articles. If there exists an edge between 2 articles, this suggests that the 2 articles are related.\n",
        "3. **labels.txt** : This file consists of the labels for each article. We primarily have 5 labels in total.\n",
        "\n",
        "Before performing different types of clustering, we will use 2 different types of input for clustering:\n",
        "1. Word Embeddings : We will convert the titles of each article into embeddings using Word2Vec.\n",
        "2. Node Embeddings: We will represent each node as an embedding using Node2Vec before passing it as an input to different clustering algorithms.\n",
        "\n",
        "**Description of Clustering Algorithms** :-\n",
        "There are mainly 3 types of algorithms that we will be using for our task, these are as follows:\n",
        "1. K-Means Clustering : This is the simplest clustering algorithm, where we can iteratively assign labels to the data points based on their features.\n",
        "2. Agglomerative Clustering: The main idea behind agglomerative clustering is that each node starts in its own cluster, and recursively merges with the pair of clusters that minimally increases a given linkage distance.\n",
        "3. Spectral Clustering : This is an algorithm primarily based on graph theory, where we can classify a node into a community based on the edges connecting them."
      ]
    },
    {
      "cell_type": "markdown",
      "metadata": {
        "id": "PsLSR7nmoZ9k"
      },
      "source": [
        "**Importing Libraries**"
      ]
    },
    {
      "cell_type": "code",
      "metadata": {
        "id": "kL2HtLltk6YI"
      },
      "source": [
        "import time\n",
        "import matplotlib.pyplot as plt\n",
        "import scipy as sp\n",
        "import scipy.sparse.linalg as linalg\n",
        "import scipy.cluster.hierarchy as hr\n",
        "import sklearn.cluster as cluster\n",
        "from sklearn.ensemble import AdaBoostClassifier\n",
        "from sklearn.neighbors import KNeighborsClassifier\n",
        "\n",
        "# for building the graph\n",
        "import networkx as nx\n",
        "\n",
        "import seaborn as sns\n",
        "%matplotlib inline"
      ],
      "execution_count": 100,
      "outputs": []
    },
    {
      "cell_type": "markdown",
      "metadata": {
        "id": "TIoeMxK_owPq"
      },
      "source": [
        "**Creating the graph using the data**\n",
        "\n",
        "As mentioned above, our data is segregated into 3 text files. Hence, we will be extracting the information by reading the files into our notebooks and by iterating over them line by line.\n",
        "\n",
        "**Adding Nodes**\n",
        "\n",
        "Each line in the docs.txt file consists of a document ID and a title. We will use the ID to represent the node and the title will be considered as the content of each node."
      ]
    },
    {
      "cell_type": "code",
      "metadata": {
        "id": "Nk1H9hgqjciD"
      },
      "source": [
        "# adding nodes to the graph\n",
        "lines = []\n",
        "# empty graph\n",
        "g = nx.Graph()\n",
        "\n",
        "# reading and building the grapj\n",
        "with open('docs.txt', \"r\") as f:\n",
        "    lines = f.readlines()\n",
        "    for i in lines:\n",
        "      s = i.split(\" \", 1)\n",
        "      # adding nodes to the graph\n",
        "      g.add_node(s[0].strip(), title = s[1].strip())"
      ],
      "execution_count": 101,
      "outputs": []
    },
    {
      "cell_type": "markdown",
      "metadata": {
        "id": "VHo7-qitpv_R"
      },
      "source": [
        "**Adding labels**\n",
        "\n",
        "The labels.txt consists of the labels for each article. We will be assigning each article a label by iterating over this file and creating a new key with the label value for each node."
      ]
    },
    {
      "cell_type": "code",
      "metadata": {
        "id": "tHqB46asqQHI"
      },
      "source": [
        "# adding content for the nodes\n",
        "labels = []\n",
        "with open('labels.txt', \"r\") as f:\n",
        "    labels = f.readlines()\n",
        "    for j in labels:\n",
        "      s = j.split(\" \")\n",
        "      lbl = s[1].split(\" \")[0].strip()\n",
        "      g.add_node(s[0].strip(), label = lbl)"
      ],
      "execution_count": 102,
      "outputs": []
    },
    {
      "cell_type": "markdown",
      "metadata": {
        "id": "SG4Jw-_0qA7p"
      },
      "source": [
        "**Adding edges**\n",
        "\n",
        "An edge denotes a relationship between 2 articles. We will be creating edges/links between 2 articles using the adjedges.txt file. \n",
        "\n",
        "***NOTE***: there are many document ID's that does not have an entry in the other 2 text files. We will be excluding all such articles. For example, document with ID '40935482' exists in the adjedges file, but does not exists in the other 2 files. So, we will exclude such articles from our analysis."
      ]
    },
    {
      "cell_type": "code",
      "metadata": {
        "id": "uWClfuCxroGL"
      },
      "source": [
        "# storing the node and corresponding edges\n",
        "edges = []\n",
        "with open('adjedges.txt', \"r\") as f:\n",
        "  edges = f.readlines()\n",
        "  for k in edges:\n",
        "    s = k.split(\" \")\n",
        "    r = s[1:]\n",
        "    for i in r:\n",
        "      # exclude irrelevant articles\n",
        "      if (len(i) > 1) and (i in g.nodes()):\n",
        "        g.add_edge(s[0],i.strip())"
      ],
      "execution_count": 103,
      "outputs": []
    },
    {
      "cell_type": "code",
      "metadata": {
        "colab": {
          "base_uri": "https://localhost:8080/"
        },
        "id": "w_XupNqxwLus",
        "outputId": "ca411d9b-7991-4170-c16d-533c82ad3f82"
      },
      "source": [
        "# checking a node in our graph\n",
        "print(g.nodes['3982162'])\n",
        "print(g.edges('68660241'))"
      ],
      "execution_count": 104,
      "outputs": [
        {
          "output_type": "stream",
          "text": [
            "{'title': 'Discovering Statistically Significant Biclusters in Gene Expression Data', 'label': '1'}\n",
            "[('68660241', '39297346'), ('68660241', '3982162'), ('68660241', '77686302'), ('68660241', '63138342'), ('68660241', '76594210')]\n"
          ],
          "name": "stdout"
        }
      ]
    },
    {
      "cell_type": "code",
      "metadata": {
        "colab": {
          "base_uri": "https://localhost:8080/"
        },
        "id": "8rcK_66Z-bmZ",
        "outputId": "92923951-fa6b-4804-af87-379340e036cc"
      },
      "source": [
        "num_nodes = g.number_of_nodes()\n",
        "print('number of nodes: ' + str(num_nodes))\n",
        "num_edges = g.number_of_edges()\n",
        "print('number of edges: ' + str(num_edges))"
      ],
      "execution_count": 105,
      "outputs": [
        {
          "output_type": "stream",
          "text": [
            "number of nodes: 18720\n",
            "number of edges: 7641\n"
          ],
          "name": "stdout"
        }
      ]
    },
    {
      "cell_type": "markdown",
      "metadata": {
        "id": "PYGhiJUydo9a"
      },
      "source": [
        "**Experimental Setting**"
      ]
    },
    {
      "cell_type": "markdown",
      "metadata": {
        "id": "Niq8KyvcsE5J"
      },
      "source": [
        "Before using different embedding techniques, we will just the graph data as it is and perform clustering. This is done so that we have a baseline to evaluate the performance of different embeddings."
      ]
    },
    {
      "cell_type": "code",
      "metadata": {
        "id": "u2lWS970CDea"
      },
      "source": [
        "# building laplacian matrix\n",
        "L = nx.laplacian_matrix(g).astype(float)\n"
      ],
      "execution_count": 108,
      "outputs": []
    },
    {
      "cell_type": "code",
      "metadata": {
        "colab": {
          "base_uri": "https://localhost:8080/"
        },
        "id": "bCTvcbdWES2D",
        "outputId": "00228786-038c-4fd3-ee4f-4b0ff62fe952"
      },
      "source": [
        "# computing eigen values and eigen vectors of the above matrix, where k = 5 is the size of each vector\n",
        "w,v = sp.sparse.linalg.eigsh(L, k = 5, which='SM')\n",
        "print(w)\n",
        "print(v)"
      ],
      "execution_count": 109,
      "outputs": [
        {
          "output_type": "stream",
          "text": [
            "[-4.51986385e-14 -3.08706010e-14  7.72717302e-16  1.70400190e-14\n",
            "  5.14022174e-14]\n",
            "[[ 1.51841437e-03  4.87377362e-03 -5.26402532e-04  6.34776332e-03\n",
            "  -9.72353515e-03]\n",
            " [-1.21319781e-04 -1.16566695e-03  8.49527928e-04 -5.28025178e-04\n",
            "  -6.66741315e-03]\n",
            " [ 2.89622183e-04  7.80129656e-04  2.56195112e-03 -2.80506295e-03\n",
            "   1.01600639e-02]\n",
            " ...\n",
            " [ 8.70968895e-05 -1.63357631e-03  1.58625062e-03 -2.93237187e-03\n",
            "  -1.27691340e-02]\n",
            " [-5.61096389e-04 -3.20044317e-03 -4.70336133e-03 -1.53778554e-03\n",
            "  -6.25562391e-03]\n",
            " [ 9.55036888e-05 -1.84300629e-04 -3.14982848e-05  2.85215846e-04\n",
            "  -9.69805555e-03]]\n"
          ],
          "name": "stdout"
        }
      ]
    },
    {
      "cell_type": "code",
      "metadata": {
        "colab": {
          "base_uri": "https://localhost:8080/"
        },
        "id": "OTr3xmbcHWCf",
        "outputId": "f14cbc8c-705f-4e00-c853-04d17e30d591"
      },
      "source": [
        "print(w.shape, v.shape)\n",
        "# matrix multiplication to get the input matrix X\n",
        "X = v*w"
      ],
      "execution_count": 110,
      "outputs": [
        {
          "output_type": "stream",
          "text": [
            "(5,) (18720, 5)\n"
          ],
          "name": "stdout"
        }
      ]
    },
    {
      "cell_type": "code",
      "metadata": {
        "colab": {
          "base_uri": "https://localhost:8080/"
        },
        "id": "sJqfdR8ntgAK",
        "outputId": "df11785f-342f-4fb1-82b1-82e5a25ba7c5"
      },
      "source": [
        "from sklearn.cluster import KMeans, SpectralClustering, AgglomerativeClustering\n",
        "from sklearn.metrics.cluster import normalized_mutual_info_score\n",
        "\n",
        "nmi_kmeans = []\n",
        "nmi_agg = []\n",
        "nmi_spectral = []\n",
        "seed_values = [10, 50, 100, 150, 200, 300, 500, 700, 800, 900]\n",
        "true_labels = []\n",
        "l = list(g.nodes())\n",
        "for i in l:\n",
        "  true_labels.append(int(g.nodes[i]['label']))\n",
        "truth_labels = np.asarray(true_labels)\n",
        "\n",
        "for i in seed_values:\n",
        "  #print(i)\n",
        "  np.random.seed(i)\n",
        "  # K-Means Clustering\n",
        "  kmeans = KMeans(init='k-means++', n_clusters=5, n_init=i)\n",
        "  # Agglomerative Clustering\n",
        "  agg = cluster.AgglomerativeClustering(n_clusters=5, affinity='euclidean', linkage=\"ward\").fit(X)\n",
        "  # Spectral Clustering\n",
        "  spec_clustering = cluster.SpectralClustering(\n",
        "        n_clusters=5, eigen_solver='arpack',\n",
        "        affinity=\"nearest_neighbors\").fit(X)\n",
        "  \n",
        "  # Computing Predictions\n",
        "  kmeans.fit_predict(X)\n",
        "  centroids = kmeans.cluster_centers_\n",
        "  k_means_labels = kmeans.labels_\n",
        "  error = kmeans.inertia_\n",
        "  agg_labels = agg.labels_\n",
        "  spec_labels = spec_clustering.labels_\n",
        "\n",
        "  # Computing NMI scores\n",
        "  nmi_kmeans.append(normalized_mutual_info_score(truth_labels, k_means_labels))\n",
        "  nmi_agg.append(normalized_mutual_info_score(truth_labels, agg_labels))\n",
        "  nmi_spectral.append(normalized_mutual_info_score(truth_labels, spec_labels))\n",
        "  \n",
        "  \n",
        "print(\"K-means Clustering Avg NMI: \", sum(nmi_kmeans)/len(nmi_kmeans))\n",
        "print(\"Agglomerative Clustering Avg NMI: \", sum(nmi_agg)/len(nmi_agg))\n",
        "print(\"Spectral Clustering Avg NMI: \", sum(nmi_spectral)/len(nmi_spectral))\n"
      ],
      "execution_count": 111,
      "outputs": [
        {
          "output_type": "stream",
          "text": [
            "/usr/local/lib/python3.7/dist-packages/sklearn/manifold/_spectral_embedding.py:236: UserWarning: Graph is not fully connected, spectral embedding may not work as expected.\n",
            "  warnings.warn(\"Graph is not fully connected, spectral embedding\"\n",
            "/usr/local/lib/python3.7/dist-packages/sklearn/manifold/_spectral_embedding.py:236: UserWarning: Graph is not fully connected, spectral embedding may not work as expected.\n",
            "  warnings.warn(\"Graph is not fully connected, spectral embedding\"\n",
            "/usr/local/lib/python3.7/dist-packages/sklearn/manifold/_spectral_embedding.py:236: UserWarning: Graph is not fully connected, spectral embedding may not work as expected.\n",
            "  warnings.warn(\"Graph is not fully connected, spectral embedding\"\n",
            "/usr/local/lib/python3.7/dist-packages/sklearn/manifold/_spectral_embedding.py:236: UserWarning: Graph is not fully connected, spectral embedding may not work as expected.\n",
            "  warnings.warn(\"Graph is not fully connected, spectral embedding\"\n",
            "/usr/local/lib/python3.7/dist-packages/sklearn/manifold/_spectral_embedding.py:236: UserWarning: Graph is not fully connected, spectral embedding may not work as expected.\n",
            "  warnings.warn(\"Graph is not fully connected, spectral embedding\"\n",
            "/usr/local/lib/python3.7/dist-packages/sklearn/manifold/_spectral_embedding.py:236: UserWarning: Graph is not fully connected, spectral embedding may not work as expected.\n",
            "  warnings.warn(\"Graph is not fully connected, spectral embedding\"\n",
            "/usr/local/lib/python3.7/dist-packages/sklearn/manifold/_spectral_embedding.py:236: UserWarning: Graph is not fully connected, spectral embedding may not work as expected.\n",
            "  warnings.warn(\"Graph is not fully connected, spectral embedding\"\n",
            "/usr/local/lib/python3.7/dist-packages/sklearn/manifold/_spectral_embedding.py:236: UserWarning: Graph is not fully connected, spectral embedding may not work as expected.\n",
            "  warnings.warn(\"Graph is not fully connected, spectral embedding\"\n",
            "/usr/local/lib/python3.7/dist-packages/sklearn/manifold/_spectral_embedding.py:236: UserWarning: Graph is not fully connected, spectral embedding may not work as expected.\n",
            "  warnings.warn(\"Graph is not fully connected, spectral embedding\"\n",
            "/usr/local/lib/python3.7/dist-packages/sklearn/manifold/_spectral_embedding.py:236: UserWarning: Graph is not fully connected, spectral embedding may not work as expected.\n",
            "  warnings.warn(\"Graph is not fully connected, spectral embedding\"\n"
          ],
          "name": "stderr"
        },
        {
          "output_type": "stream",
          "text": [
            "K-means Clustering Avg NMI:  0.12802166859531885\n",
            "Agglomerative Clustering Avg NMI:  0.1242298239515969\n",
            "Spectral Clustering Avg NMI:  0.043414780791132555\n"
          ],
          "name": "stdout"
        }
      ]
    },
    {
      "cell_type": "markdown",
      "metadata": {
        "id": "CEu56c7ByVfI"
      },
      "source": [
        "**1. Clustering using Word Embeddings**\n",
        "\n",
        "Word Embeddings are mainly used to represent textual data in a sparse format. These embeddings can be used as an input to perform different machine learning algorithms. \n",
        "\n",
        "For our task, we will represent the title of each node as an embedding using Word2Vec.\n",
        "Word2vec is a technique for natural language processing. The word2vec algorithm uses a neural network model to learn word associations from a large corpus of text. Once trained, such a model can detect synonymous words or suggest additional words for a partial sentence.\n"
      ]
    },
    {
      "cell_type": "markdown",
      "metadata": {
        "id": "yeIoJgF1ucvd"
      },
      "source": [
        "**Fetching the titles**\n",
        "\n",
        "We will be gathering all the titles to create the embeddings. We have performed a small preprocessing step of converting the title into lowercases, so that there is consistency between all the titles. Each word in the title will be represented as a token.\n"
      ]
    },
    {
      "cell_type": "code",
      "metadata": {
        "colab": {
          "base_uri": "https://localhost:8080/"
        },
        "id": "IhnzMr6FybLb",
        "outputId": "c9c469b0-e678-45a6-ac27-aab8b5b5a249"
      },
      "source": [
        "# list to store \n",
        "titles = []\n",
        "for i in g.nodes():\n",
        "  # converting to lowercase and splitting\n",
        "  s = g.nodes[i]['title'].lower().split()\n",
        "  titles.append(list(s))\n",
        "len(titles)"
      ],
      "execution_count": 112,
      "outputs": [
        {
          "output_type": "execute_result",
          "data": {
            "text/plain": [
              "18720"
            ]
          },
          "metadata": {
            "tags": []
          },
          "execution_count": 112
        }
      ]
    },
    {
      "cell_type": "code",
      "metadata": {
        "colab": {
          "base_uri": "https://localhost:8080/"
        },
        "id": "RFWuOd456Rdt",
        "outputId": "51ee0541-4c8a-4ed5-d328-1f14093aa91d"
      },
      "source": [
        "# checking the first value\n",
        "titles[0]"
      ],
      "execution_count": 113,
      "outputs": [
        {
          "output_type": "execute_result",
          "data": {
            "text/plain": [
              "['assessing',\n",
              " 'local',\n",
              " 'institutional',\n",
              " 'capacity,',\n",
              " 'data',\n",
              " 'availability,',\n",
              " 'and',\n",
              " 'outcomes',\n",
              " 'by']"
            ]
          },
          "metadata": {
            "tags": []
          },
          "execution_count": 113
        }
      ]
    },
    {
      "cell_type": "markdown",
      "metadata": {
        "id": "1tE2KCoBvcrD"
      },
      "source": [
        "**Building the Word2Vec Model**\n",
        "\n",
        "We will be using the gensim.models to build the Word2Vec model. We have used certain parameter values to get results in our favour.\n",
        "The **size** parameter indicates the embedding size of each word. We have initialized it as 16, so that the length of each word embedding would be the same."
      ]
    },
    {
      "cell_type": "code",
      "metadata": {
        "id": "nZJ53WtmybWs"
      },
      "source": [
        "from gensim.models import Word2Vec\n",
        "\n",
        "model = Word2Vec(titles, min_count=1,size=16,workers=4)"
      ],
      "execution_count": 114,
      "outputs": []
    },
    {
      "cell_type": "markdown",
      "metadata": {
        "id": "fxN0fYLUwG7Z"
      },
      "source": [
        "Since we are going to perform clustering based on the titles, and not based on single words. We have created a function to calculate the mean embedding of the words in a sentence. This function will add the embeddings of each word in that sentence and return the mean embedding which represents a sentence."
      ]
    },
    {
      "cell_type": "code",
      "metadata": {
        "id": "7wYoRIDDybgB"
      },
      "source": [
        "def sentence_vec(s, model):\n",
        "    word_vec =[]\n",
        "    sent_len = len(s)\n",
        "    for w in s:\n",
        "      #  try:\n",
        "      word_vec = model[w]\n",
        "      word_vec = np.add(word_vec, model[w])\n",
        "            #numw+=1\n",
        "       # except:\n",
        "        #    pass\n",
        "     \n",
        "    return np.asarray(word_vec) / sent_len"
      ],
      "execution_count": 115,
      "outputs": []
    },
    {
      "cell_type": "code",
      "metadata": {
        "colab": {
          "base_uri": "https://localhost:8080/"
        },
        "id": "h38rdOGcybnN",
        "outputId": "ae3c0cc8-e238-4523-cfce-f69a2f195179"
      },
      "source": [
        "# getting the sentence embeddings\n",
        "X=[]\n",
        "for sentence in titles:\n",
        "    X.append(sentence_vec(sentence, model))\n"
      ],
      "execution_count": 116,
      "outputs": [
        {
          "output_type": "stream",
          "text": [
            "/usr/local/lib/python3.7/dist-packages/ipykernel_launcher.py:6: DeprecationWarning: Call to deprecated `__getitem__` (Method will be removed in 4.0.0, use self.wv.__getitem__() instead).\n",
            "  \n",
            "/usr/local/lib/python3.7/dist-packages/ipykernel_launcher.py:7: DeprecationWarning: Call to deprecated `__getitem__` (Method will be removed in 4.0.0, use self.wv.__getitem__() instead).\n",
            "  import sys\n"
          ],
          "name": "stderr"
        }
      ]
    },
    {
      "cell_type": "markdown",
      "metadata": {
        "id": "xtldIb99w9ug"
      },
      "source": [
        "**Performing Clustering**\n",
        "\n",
        "We will be performing different clustering algorithms on the word embeddings and will evaluate the performance of each algorithm using **Normalized Mutual Information Score (NMI)**. This score indicates how well the clustering algorithm does in predicting the label of each node.In other words NMI can be used to evaluate the quality of clustering.\n",
        "\n",
        "Since most clustering algorithms are sensitive to initial values, we have decided to use 10 seed values and calculate the mean of the NMI's for each seed, and use that to denote as the final scores for each algorithm."
      ]
    },
    {
      "cell_type": "code",
      "metadata": {
        "colab": {
          "base_uri": "https://localhost:8080/"
        },
        "id": "buu_iEFw0hmE",
        "outputId": "26dc1a90-dd58-4593-864e-3709dfa1a0ee"
      },
      "source": [
        "from sklearn.cluster import KMeans, SpectralClustering, AgglomerativeClustering\n",
        "from sklearn.metrics.cluster import normalized_mutual_info_score\n",
        "\n",
        "nmi_kmeans = []\n",
        "nmi_agg = []\n",
        "nmi_spectral = []\n",
        "seed_values = [10, 50, 100, 150, 200, 300, 500, 700, 800, 900]\n",
        "true_labels = []\n",
        "l = list(g.nodes())\n",
        "for i in l:\n",
        "  true_labels.append(int(g.nodes[i]['label']))\n",
        "truth_labels = np.asarray(true_labels)\n",
        "\n",
        "for i in seed_values:\n",
        "  print(i)\n",
        "  # setting seed\n",
        "  np.random.seed(i)\n",
        "  # Kmeans clustering\n",
        "  kmeans = KMeans(init='k-means++', n_clusters=5, n_init=i)\n",
        "  # Agglomerative Clustering\n",
        "  agg = cluster.AgglomerativeClustering(n_clusters=5, affinity='euclidean', linkage=\"ward\").fit(X)\n",
        "  # Spectral Clustering\n",
        "  spec_clustering = cluster.SpectralClustering(\n",
        "        n_clusters=5, eigen_solver='arpack',\n",
        "        affinity=\"nearest_neighbors\").fit(X)\n",
        "  \n",
        "  # Computing predictions\n",
        "  kmeans.fit_predict(X)\n",
        "  centroids = kmeans.cluster_centers_\n",
        "  k_means_labels = kmeans.labels_\n",
        "  error = kmeans.inertia_\n",
        "  agg_labels = agg.labels_\n",
        "  spec_labels = spec_clustering.labels_\n",
        "\n",
        "  # NMI Computation\n",
        "  nmi_kmeans.append(normalized_mutual_info_score(truth_labels, k_means_labels))\n",
        "  nmi_agg.append(normalized_mutual_info_score(truth_labels, agg_labels))\n",
        "  nmi_spectral.append(normalized_mutual_info_score(truth_labels, spec_labels))\n",
        "  \n",
        "  \n",
        "print(\"K-means Clustering Avg NMI: \", sum(nmi_kmeans)/len(nmi_kmeans))\n",
        "print(\"Agglomerative Clustering Avg NMI: \", sum(nmi_agg)/len(nmi_agg))\n",
        "print(\"Spectral Clustering Avg NMI: \", sum(nmi_spectral)/len(nmi_spectral))\n"
      ],
      "execution_count": 117,
      "outputs": [
        {
          "output_type": "stream",
          "text": [
            "10\n"
          ],
          "name": "stdout"
        },
        {
          "output_type": "stream",
          "text": [
            "/usr/local/lib/python3.7/dist-packages/sklearn/manifold/_spectral_embedding.py:236: UserWarning: Graph is not fully connected, spectral embedding may not work as expected.\n",
            "  warnings.warn(\"Graph is not fully connected, spectral embedding\"\n"
          ],
          "name": "stderr"
        },
        {
          "output_type": "stream",
          "text": [
            "50\n"
          ],
          "name": "stdout"
        },
        {
          "output_type": "stream",
          "text": [
            "/usr/local/lib/python3.7/dist-packages/sklearn/manifold/_spectral_embedding.py:236: UserWarning: Graph is not fully connected, spectral embedding may not work as expected.\n",
            "  warnings.warn(\"Graph is not fully connected, spectral embedding\"\n"
          ],
          "name": "stderr"
        },
        {
          "output_type": "stream",
          "text": [
            "100\n"
          ],
          "name": "stdout"
        },
        {
          "output_type": "stream",
          "text": [
            "/usr/local/lib/python3.7/dist-packages/sklearn/manifold/_spectral_embedding.py:236: UserWarning: Graph is not fully connected, spectral embedding may not work as expected.\n",
            "  warnings.warn(\"Graph is not fully connected, spectral embedding\"\n"
          ],
          "name": "stderr"
        },
        {
          "output_type": "stream",
          "text": [
            "150\n"
          ],
          "name": "stdout"
        },
        {
          "output_type": "stream",
          "text": [
            "/usr/local/lib/python3.7/dist-packages/sklearn/manifold/_spectral_embedding.py:236: UserWarning: Graph is not fully connected, spectral embedding may not work as expected.\n",
            "  warnings.warn(\"Graph is not fully connected, spectral embedding\"\n"
          ],
          "name": "stderr"
        },
        {
          "output_type": "stream",
          "text": [
            "200\n"
          ],
          "name": "stdout"
        },
        {
          "output_type": "stream",
          "text": [
            "/usr/local/lib/python3.7/dist-packages/sklearn/manifold/_spectral_embedding.py:236: UserWarning: Graph is not fully connected, spectral embedding may not work as expected.\n",
            "  warnings.warn(\"Graph is not fully connected, spectral embedding\"\n"
          ],
          "name": "stderr"
        },
        {
          "output_type": "stream",
          "text": [
            "300\n"
          ],
          "name": "stdout"
        },
        {
          "output_type": "stream",
          "text": [
            "/usr/local/lib/python3.7/dist-packages/sklearn/manifold/_spectral_embedding.py:236: UserWarning: Graph is not fully connected, spectral embedding may not work as expected.\n",
            "  warnings.warn(\"Graph is not fully connected, spectral embedding\"\n"
          ],
          "name": "stderr"
        },
        {
          "output_type": "stream",
          "text": [
            "500\n"
          ],
          "name": "stdout"
        },
        {
          "output_type": "stream",
          "text": [
            "/usr/local/lib/python3.7/dist-packages/sklearn/manifold/_spectral_embedding.py:236: UserWarning: Graph is not fully connected, spectral embedding may not work as expected.\n",
            "  warnings.warn(\"Graph is not fully connected, spectral embedding\"\n"
          ],
          "name": "stderr"
        },
        {
          "output_type": "stream",
          "text": [
            "700\n"
          ],
          "name": "stdout"
        },
        {
          "output_type": "stream",
          "text": [
            "/usr/local/lib/python3.7/dist-packages/sklearn/manifold/_spectral_embedding.py:236: UserWarning: Graph is not fully connected, spectral embedding may not work as expected.\n",
            "  warnings.warn(\"Graph is not fully connected, spectral embedding\"\n"
          ],
          "name": "stderr"
        },
        {
          "output_type": "stream",
          "text": [
            "800\n"
          ],
          "name": "stdout"
        },
        {
          "output_type": "stream",
          "text": [
            "/usr/local/lib/python3.7/dist-packages/sklearn/manifold/_spectral_embedding.py:236: UserWarning: Graph is not fully connected, spectral embedding may not work as expected.\n",
            "  warnings.warn(\"Graph is not fully connected, spectral embedding\"\n"
          ],
          "name": "stderr"
        },
        {
          "output_type": "stream",
          "text": [
            "900\n"
          ],
          "name": "stdout"
        },
        {
          "output_type": "stream",
          "text": [
            "/usr/local/lib/python3.7/dist-packages/sklearn/manifold/_spectral_embedding.py:236: UserWarning: Graph is not fully connected, spectral embedding may not work as expected.\n",
            "  warnings.warn(\"Graph is not fully connected, spectral embedding\"\n"
          ],
          "name": "stderr"
        },
        {
          "output_type": "stream",
          "text": [
            "K-means Clustering Avg NMI:  0.012084556013289205\n",
            "Agglomerative Clustering Avg NMI:  0.011315142852301993\n",
            "Spectral Clustering Avg NMI:  0.00978090280394504\n"
          ],
          "name": "stdout"
        }
      ]
    },
    {
      "cell_type": "markdown",
      "metadata": {
        "id": "TRl9cvJ5f9Nw"
      },
      "source": [
        "**Node Embeddings**\n",
        "\n",
        "In this section, we will be embedding one of the graph components, which will be further used as an input for different clustering algorithms. We will be doing node embedding using Node2Vec.\n",
        "\n",
        "Node2Vec is an algorithmic framework for representational learning on graphs. Given any graph, it can learn continuous feature representations for the nodes, which can then be used for various downstream machine learning tasks. The model learns low-dimensional representations for nodes by optimizing a neighborhood preserving objective, using random walks. \n",
        "\n",
        "To install the package, simply run:  pip install Node2Vec"
      ]
    },
    {
      "cell_type": "code",
      "metadata": {
        "colab": {
          "base_uri": "https://localhost:8080/"
        },
        "id": "SHqLfVe_gR-P",
        "outputId": "6892cc2c-8a0b-4600-eb2b-b81f5b1db69c"
      },
      "source": [
        "!pip install Node2Vec\n"
      ],
      "execution_count": 106,
      "outputs": [
        {
          "output_type": "stream",
          "text": [
            "Collecting Node2Vec\n",
            "  Downloading https://files.pythonhosted.org/packages/87/c4/8e859a1099d78dbb00b25c6832b8ee9fe11110cc7f2f3a6a4bd37ada3185/node2vec-0.4.3.tar.gz\n",
            "Requirement already satisfied: networkx in /usr/local/lib/python3.7/dist-packages (from Node2Vec) (2.5.1)\n",
            "Requirement already satisfied: gensim in /usr/local/lib/python3.7/dist-packages (from Node2Vec) (3.6.0)\n",
            "Requirement already satisfied: numpy in /usr/local/lib/python3.7/dist-packages (from Node2Vec) (1.19.5)\n",
            "Requirement already satisfied: tqdm in /usr/local/lib/python3.7/dist-packages (from Node2Vec) (4.41.1)\n",
            "Requirement already satisfied: joblib>=0.13.2 in /usr/local/lib/python3.7/dist-packages (from Node2Vec) (1.0.1)\n",
            "Requirement already satisfied: decorator<5,>=4.3 in /usr/local/lib/python3.7/dist-packages (from networkx->Node2Vec) (4.4.2)\n",
            "Requirement already satisfied: scipy>=0.18.1 in /usr/local/lib/python3.7/dist-packages (from gensim->Node2Vec) (1.4.1)\n",
            "Requirement already satisfied: six>=1.5.0 in /usr/local/lib/python3.7/dist-packages (from gensim->Node2Vec) (1.15.0)\n",
            "Requirement already satisfied: smart-open>=1.2.1 in /usr/local/lib/python3.7/dist-packages (from gensim->Node2Vec) (5.0.0)\n",
            "Building wheels for collected packages: Node2Vec\n",
            "  Building wheel for Node2Vec (setup.py) ... \u001b[?25l\u001b[?25hdone\n",
            "  Created wheel for Node2Vec: filename=node2vec-0.4.3-cp37-none-any.whl size=5980 sha256=b108b1db0cf355321b69c079a045b8a3b82bb1ab3af5fc32c955bb7bd1092f0b\n",
            "  Stored in directory: /root/.cache/pip/wheels/34/f4/60/55708b5e797260310451d919c8f898bbd4acd1901367001f20\n",
            "Successfully built Node2Vec\n",
            "Installing collected packages: Node2Vec\n",
            "Successfully installed Node2Vec-0.4.3\n"
          ],
          "name": "stdout"
        }
      ]
    },
    {
      "cell_type": "markdown",
      "metadata": {
        "id": "dg9o8vXV0dqc"
      },
      "source": [
        "**Building Node2Vec Model**\n",
        "\n",
        "We will build the Node2Vec model based on the following parameters.\n",
        "\n",
        "Dimensions: We will use the same as of the word embeddings. Hence, we set this value to 16.\n",
        "\n",
        "Number of walks: Number of random walks to be generated from each node in the graph. We have set this to 20.\n",
        "\n",
        "Walk length: Denotes the number of nodes in each walk. We have set this value to 50."
      ]
    },
    {
      "cell_type": "code",
      "metadata": {
        "id": "9BtF8FLbf7Ai",
        "colab": {
          "base_uri": "https://localhost:8080/",
          "height": 66,
          "referenced_widgets": [
            "8edbd92507dc48b4aa9298977491b664",
            "9667e709688744ae97826fc73ff91624",
            "71832f04e3604fc08f259d363a92c0a8",
            "9ff62fd5a2424a5f8e9bfa74e78635ff",
            "b40f2628c3ef4f62890d2ba75b38f127",
            "63fb49522f844e369a068adf620d2cdc",
            "81b8792dd99f4b748bda216d13fe095a",
            "badbed08350a47a1b29652dda35779aa"
          ]
        },
        "outputId": "0c5300f4-6d08-4b71-91a8-76539e687f08"
      },
      "source": [
        "from node2vec import Node2Vec\n",
        "#pre-compute the probabilities and generate walks :\n",
        "node2vec = Node2Vec(g, dimensions=16, walk_length=20, num_walks=50, workers=4)\n",
        "#embed the nodes\n",
        "model = node2vec.fit(window=10, min_count=1)"
      ],
      "execution_count": 118,
      "outputs": [
        {
          "output_type": "display_data",
          "data": {
            "application/vnd.jupyter.widget-view+json": {
              "model_id": "8edbd92507dc48b4aa9298977491b664",
              "version_minor": 0,
              "version_major": 2
            },
            "text/plain": [
              "HBox(children=(FloatProgress(value=0.0, description='Computing transition probabilities', max=18720.0, style=P…"
            ]
          },
          "metadata": {
            "tags": []
          }
        },
        {
          "output_type": "stream",
          "text": [
            "\n"
          ],
          "name": "stdout"
        }
      ]
    },
    {
      "cell_type": "markdown",
      "metadata": {
        "id": "SVb2UEwf2Cby"
      },
      "source": [
        "**Getting the node embeddings for each Node**\n",
        "\n",
        "We will be fetching the node embeddings of each node using our model, and we will store these embeddings to a list."
      ]
    },
    {
      "cell_type": "code",
      "metadata": {
        "id": "34ltDonH0YZl"
      },
      "source": [
        "node_emb_list = []\n",
        "for i in g.nodes():\n",
        "  node_emb_list.append(model.wv.get_vector(str(i)))\n",
        "len(node_emb_list)\n",
        "# using X to represent input, for simplicity \n",
        "X = node_emb_list"
      ],
      "execution_count": 119,
      "outputs": []
    },
    {
      "cell_type": "markdown",
      "metadata": {
        "id": "wRnCgAii3I6S"
      },
      "source": [
        "**Performing Clustering**\n",
        "\n",
        "Similar to how we performed clustering using the word embeddings, we will be doing the same for node embeddings too."
      ]
    },
    {
      "cell_type": "code",
      "metadata": {
        "colab": {
          "base_uri": "https://localhost:8080/"
        },
        "id": "OlUCieFpmZG2",
        "outputId": "bd6e6785-9ff4-4bd4-bdab-5b02e806da9b"
      },
      "source": [
        "nmi_kmeans = []\n",
        "nmi_agg = []\n",
        "nmi_spectral = []\n",
        "seed_values = [10, 50, 100, 150, 200, 300, 500, 700, 800, 900]\n",
        "true_labels = []\n",
        "l = list(g.nodes())\n",
        "for i in l:\n",
        "  true_labels.append(int(g.nodes[i]['label']))\n",
        "truth_labels = np.asarray(true_labels)\n",
        "\n",
        "for i in seed_values:\n",
        "  print(i)\n",
        "  # setting seed\n",
        "  np.random.seed(i)\n",
        "  # Kmeans clustering\n",
        "  kmeans = KMeans(init='k-means++', n_clusters=5, n_init=i)\n",
        "  # Agglomerative Clustering\n",
        "  agg = cluster.AgglomerativeClustering(n_clusters=5, affinity='euclidean', linkage=\"ward\").fit(X)\n",
        "  # Spectral Clustering\n",
        "  spec_clustering = cluster.SpectralClustering(\n",
        "        n_clusters=5, eigen_solver='arpack',\n",
        "        affinity=\"nearest_neighbors\").fit(X)\n",
        "  \n",
        "  # Computing predictions\n",
        "  kmeans.fit_predict(X)\n",
        "  centroids = kmeans.cluster_centers_\n",
        "  k_means_labels = kmeans.labels_\n",
        "  error = kmeans.inertia_\n",
        "  agg_labels = agg.labels_\n",
        "  spec_labels = spec_clustering.labels_\n",
        "\n",
        "  # NMI Computation\n",
        "  nmi_kmeans.append(normalized_mutual_info_score(truth_labels, k_means_labels))\n",
        "  nmi_agg.append(normalized_mutual_info_score(truth_labels, agg_labels))\n",
        "  nmi_spectral.append(normalized_mutual_info_score(truth_labels, spec_labels))\n",
        "  \n",
        "  \n",
        "print(\"K-means Clustering Avg NMI: \", sum(nmi_kmeans)/len(nmi_kmeans))\n",
        "print(\"Agglomerative Clustering Avg NMI: \", sum(nmi_agg)/len(nmi_agg))\n",
        "print(\"Spectral Clustering Avg NMI: \", sum(nmi_spectral)/len(nmi_spectral))\n"
      ],
      "execution_count": 120,
      "outputs": [
        {
          "output_type": "stream",
          "text": [
            "10\n"
          ],
          "name": "stdout"
        },
        {
          "output_type": "stream",
          "text": [
            "/usr/local/lib/python3.7/dist-packages/sklearn/manifold/_spectral_embedding.py:236: UserWarning: Graph is not fully connected, spectral embedding may not work as expected.\n",
            "  warnings.warn(\"Graph is not fully connected, spectral embedding\"\n"
          ],
          "name": "stderr"
        },
        {
          "output_type": "stream",
          "text": [
            "50\n"
          ],
          "name": "stdout"
        },
        {
          "output_type": "stream",
          "text": [
            "/usr/local/lib/python3.7/dist-packages/sklearn/manifold/_spectral_embedding.py:236: UserWarning: Graph is not fully connected, spectral embedding may not work as expected.\n",
            "  warnings.warn(\"Graph is not fully connected, spectral embedding\"\n"
          ],
          "name": "stderr"
        },
        {
          "output_type": "stream",
          "text": [
            "100\n"
          ],
          "name": "stdout"
        },
        {
          "output_type": "stream",
          "text": [
            "/usr/local/lib/python3.7/dist-packages/sklearn/manifold/_spectral_embedding.py:236: UserWarning: Graph is not fully connected, spectral embedding may not work as expected.\n",
            "  warnings.warn(\"Graph is not fully connected, spectral embedding\"\n"
          ],
          "name": "stderr"
        },
        {
          "output_type": "stream",
          "text": [
            "150\n"
          ],
          "name": "stdout"
        },
        {
          "output_type": "stream",
          "text": [
            "/usr/local/lib/python3.7/dist-packages/sklearn/manifold/_spectral_embedding.py:236: UserWarning: Graph is not fully connected, spectral embedding may not work as expected.\n",
            "  warnings.warn(\"Graph is not fully connected, spectral embedding\"\n"
          ],
          "name": "stderr"
        },
        {
          "output_type": "stream",
          "text": [
            "200\n"
          ],
          "name": "stdout"
        },
        {
          "output_type": "stream",
          "text": [
            "/usr/local/lib/python3.7/dist-packages/sklearn/manifold/_spectral_embedding.py:236: UserWarning: Graph is not fully connected, spectral embedding may not work as expected.\n",
            "  warnings.warn(\"Graph is not fully connected, spectral embedding\"\n"
          ],
          "name": "stderr"
        },
        {
          "output_type": "stream",
          "text": [
            "300\n"
          ],
          "name": "stdout"
        },
        {
          "output_type": "stream",
          "text": [
            "/usr/local/lib/python3.7/dist-packages/sklearn/manifold/_spectral_embedding.py:236: UserWarning: Graph is not fully connected, spectral embedding may not work as expected.\n",
            "  warnings.warn(\"Graph is not fully connected, spectral embedding\"\n"
          ],
          "name": "stderr"
        },
        {
          "output_type": "stream",
          "text": [
            "500\n"
          ],
          "name": "stdout"
        },
        {
          "output_type": "stream",
          "text": [
            "/usr/local/lib/python3.7/dist-packages/sklearn/manifold/_spectral_embedding.py:236: UserWarning: Graph is not fully connected, spectral embedding may not work as expected.\n",
            "  warnings.warn(\"Graph is not fully connected, spectral embedding\"\n"
          ],
          "name": "stderr"
        },
        {
          "output_type": "stream",
          "text": [
            "700\n"
          ],
          "name": "stdout"
        },
        {
          "output_type": "stream",
          "text": [
            "/usr/local/lib/python3.7/dist-packages/sklearn/manifold/_spectral_embedding.py:236: UserWarning: Graph is not fully connected, spectral embedding may not work as expected.\n",
            "  warnings.warn(\"Graph is not fully connected, spectral embedding\"\n"
          ],
          "name": "stderr"
        },
        {
          "output_type": "stream",
          "text": [
            "800\n"
          ],
          "name": "stdout"
        },
        {
          "output_type": "stream",
          "text": [
            "/usr/local/lib/python3.7/dist-packages/sklearn/manifold/_spectral_embedding.py:236: UserWarning: Graph is not fully connected, spectral embedding may not work as expected.\n",
            "  warnings.warn(\"Graph is not fully connected, spectral embedding\"\n"
          ],
          "name": "stderr"
        },
        {
          "output_type": "stream",
          "text": [
            "900\n"
          ],
          "name": "stdout"
        },
        {
          "output_type": "stream",
          "text": [
            "/usr/local/lib/python3.7/dist-packages/sklearn/manifold/_spectral_embedding.py:236: UserWarning: Graph is not fully connected, spectral embedding may not work as expected.\n",
            "  warnings.warn(\"Graph is not fully connected, spectral embedding\"\n"
          ],
          "name": "stderr"
        },
        {
          "output_type": "stream",
          "text": [
            "K-means Clustering Avg NMI:  0.2522711966343788\n",
            "Agglomerative Clustering Avg NMI:  0.26604520406970394\n",
            "Spectral Clustering Avg NMI:  0.260486552166395\n"
          ],
          "name": "stdout"
        }
      ]
    },
    {
      "cell_type": "markdown",
      "metadata": {
        "id": "_OeF9odp3jAi"
      },
      "source": [
        "**Observations**\n",
        "\n",
        "The result of each algorithm using the word embeddings were significantly lower when kept in comparison with the baseline setup. The average NMI score for each algorithm was less than 0.1. This indicates that we needed more information and not just the titles to efficiently form the embeddings, where perhaps would have given a higher NMI score. \n",
        "\n",
        "The node embeddings outperformed the latter 2 settings, as we got significantly higher scores for each algorithm. This technique proved effective as we believe we had enough information to represent these nodes as embeddings. In terms of NMI scores, the Agglomerative clustering performed relatively better than K-Means and significantly better than Spectral Clustering, as spectral clustering did not perform well since the affinity matrix required for the clustering was not a fully connected matrix.\n"
      ]
    }
  ]
}